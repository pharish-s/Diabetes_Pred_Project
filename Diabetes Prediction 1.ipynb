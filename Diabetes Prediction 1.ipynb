{
 "cells": [
  {
   "cell_type": "code",
   "execution_count": 1,
   "metadata": {
    "id": "5Is-WqVx-G0M"
   },
   "outputs": [],
   "source": [
    "import pandas as pd\n",
    "import numpy as np\n",
    "import seaborn as sns\n",
    "import matplotlib.pyplot as plt\n",
    "import copy"
   ]
  },
  {
   "cell_type": "markdown",
   "metadata": {
    "id": "xDOO4bEccR6m"
   },
   "source": [
    "## Loading data"
   ]
  },
  {
   "cell_type": "code",
   "execution_count": 2,
   "metadata": {
    "colab": {
     "base_uri": "https://localhost:8080/",
     "height": 505
    },
    "executionInfo": {
     "elapsed": 747,
     "status": "ok",
     "timestamp": 1652112438535,
     "user": {
      "displayName": "MIA BIAN",
      "userId": "12076802795410247755"
     },
     "user_tz": 240
    },
    "id": "QqS0U9SwAHpJ",
    "outputId": "fd68531d-85e8-458b-ba0f-4a5cfd915c9d"
   },
   "outputs": [
    {
     "data": {
      "text/html": [
       "<div>\n",
       "<style scoped>\n",
       "    .dataframe tbody tr th:only-of-type {\n",
       "        vertical-align: middle;\n",
       "    }\n",
       "\n",
       "    .dataframe tbody tr th {\n",
       "        vertical-align: top;\n",
       "    }\n",
       "\n",
       "    .dataframe thead th {\n",
       "        text-align: right;\n",
       "    }\n",
       "</style>\n",
       "<table border=\"1\" class=\"dataframe\">\n",
       "  <thead>\n",
       "    <tr style=\"text-align: right;\">\n",
       "      <th></th>\n",
       "      <th>encounter_id</th>\n",
       "      <th>hospital_id</th>\n",
       "      <th>gender</th>\n",
       "      <th>ethnicity</th>\n",
       "      <th>age</th>\n",
       "      <th>elective_surgery</th>\n",
       "      <th>height</th>\n",
       "      <th>weight</th>\n",
       "      <th>bmi</th>\n",
       "      <th>readmission_status</th>\n",
       "      <th>...</th>\n",
       "      <th>map_apache</th>\n",
       "      <th>aids</th>\n",
       "      <th>cirrhosis</th>\n",
       "      <th>hepatic_failure</th>\n",
       "      <th>immunosuppression</th>\n",
       "      <th>leukemia</th>\n",
       "      <th>lymphoma</th>\n",
       "      <th>solid_tumor_with_metastasis</th>\n",
       "      <th>ventilated_apache</th>\n",
       "      <th>diabetes_mellitus</th>\n",
       "    </tr>\n",
       "  </thead>\n",
       "  <tbody>\n",
       "    <tr>\n",
       "      <th>0</th>\n",
       "      <td>214826</td>\n",
       "      <td>118</td>\n",
       "      <td>M</td>\n",
       "      <td>Caucasian</td>\n",
       "      <td>68.0</td>\n",
       "      <td>0</td>\n",
       "      <td>180.3</td>\n",
       "      <td>73.9</td>\n",
       "      <td>22.732803</td>\n",
       "      <td>0</td>\n",
       "      <td>...</td>\n",
       "      <td>40.0</td>\n",
       "      <td>0</td>\n",
       "      <td>0</td>\n",
       "      <td>0</td>\n",
       "      <td>0</td>\n",
       "      <td>0</td>\n",
       "      <td>0</td>\n",
       "      <td>0</td>\n",
       "      <td>0</td>\n",
       "      <td>1</td>\n",
       "    </tr>\n",
       "    <tr>\n",
       "      <th>1</th>\n",
       "      <td>276985</td>\n",
       "      <td>118</td>\n",
       "      <td>F</td>\n",
       "      <td>Caucasian</td>\n",
       "      <td>25.0</td>\n",
       "      <td>0</td>\n",
       "      <td>172.7</td>\n",
       "      <td>95.3</td>\n",
       "      <td>31.952749</td>\n",
       "      <td>0</td>\n",
       "      <td>...</td>\n",
       "      <td>68.0</td>\n",
       "      <td>0</td>\n",
       "      <td>0</td>\n",
       "      <td>0</td>\n",
       "      <td>0</td>\n",
       "      <td>0</td>\n",
       "      <td>0</td>\n",
       "      <td>0</td>\n",
       "      <td>0</td>\n",
       "      <td>0</td>\n",
       "    </tr>\n",
       "    <tr>\n",
       "      <th>2</th>\n",
       "      <td>262220</td>\n",
       "      <td>118</td>\n",
       "      <td>F</td>\n",
       "      <td>Caucasian</td>\n",
       "      <td>81.0</td>\n",
       "      <td>1</td>\n",
       "      <td>165.1</td>\n",
       "      <td>61.7</td>\n",
       "      <td>22.635548</td>\n",
       "      <td>0</td>\n",
       "      <td>...</td>\n",
       "      <td>60.0</td>\n",
       "      <td>0</td>\n",
       "      <td>0</td>\n",
       "      <td>0</td>\n",
       "      <td>0</td>\n",
       "      <td>0</td>\n",
       "      <td>0</td>\n",
       "      <td>0</td>\n",
       "      <td>1</td>\n",
       "      <td>0</td>\n",
       "    </tr>\n",
       "    <tr>\n",
       "      <th>3</th>\n",
       "      <td>201746</td>\n",
       "      <td>33</td>\n",
       "      <td>M</td>\n",
       "      <td>Caucasian</td>\n",
       "      <td>19.0</td>\n",
       "      <td>0</td>\n",
       "      <td>188.0</td>\n",
       "      <td>NaN</td>\n",
       "      <td>NaN</td>\n",
       "      <td>0</td>\n",
       "      <td>...</td>\n",
       "      <td>103.0</td>\n",
       "      <td>0</td>\n",
       "      <td>0</td>\n",
       "      <td>0</td>\n",
       "      <td>0</td>\n",
       "      <td>0</td>\n",
       "      <td>0</td>\n",
       "      <td>0</td>\n",
       "      <td>0</td>\n",
       "      <td>0</td>\n",
       "    </tr>\n",
       "    <tr>\n",
       "      <th>4</th>\n",
       "      <td>246060</td>\n",
       "      <td>81</td>\n",
       "      <td>F</td>\n",
       "      <td>Caucasian</td>\n",
       "      <td>77.0</td>\n",
       "      <td>0</td>\n",
       "      <td>160.0</td>\n",
       "      <td>70.2</td>\n",
       "      <td>27.421875</td>\n",
       "      <td>0</td>\n",
       "      <td>...</td>\n",
       "      <td>46.0</td>\n",
       "      <td>0</td>\n",
       "      <td>0</td>\n",
       "      <td>0</td>\n",
       "      <td>0</td>\n",
       "      <td>0</td>\n",
       "      <td>0</td>\n",
       "      <td>0</td>\n",
       "      <td>1</td>\n",
       "      <td>1</td>\n",
       "    </tr>\n",
       "    <tr>\n",
       "      <th>...</th>\n",
       "      <td>...</td>\n",
       "      <td>...</td>\n",
       "      <td>...</td>\n",
       "      <td>...</td>\n",
       "      <td>...</td>\n",
       "      <td>...</td>\n",
       "      <td>...</td>\n",
       "      <td>...</td>\n",
       "      <td>...</td>\n",
       "      <td>...</td>\n",
       "      <td>...</td>\n",
       "      <td>...</td>\n",
       "      <td>...</td>\n",
       "      <td>...</td>\n",
       "      <td>...</td>\n",
       "      <td>...</td>\n",
       "      <td>...</td>\n",
       "      <td>...</td>\n",
       "      <td>...</td>\n",
       "      <td>...</td>\n",
       "      <td>...</td>\n",
       "    </tr>\n",
       "    <tr>\n",
       "      <th>79154</th>\n",
       "      <td>166024</td>\n",
       "      <td>146</td>\n",
       "      <td>F</td>\n",
       "      <td>Caucasian</td>\n",
       "      <td>86.0</td>\n",
       "      <td>0</td>\n",
       "      <td>167.6</td>\n",
       "      <td>86.2</td>\n",
       "      <td>30.687339</td>\n",
       "      <td>0</td>\n",
       "      <td>...</td>\n",
       "      <td>137.0</td>\n",
       "      <td>0</td>\n",
       "      <td>0</td>\n",
       "      <td>0</td>\n",
       "      <td>0</td>\n",
       "      <td>0</td>\n",
       "      <td>0</td>\n",
       "      <td>0</td>\n",
       "      <td>0</td>\n",
       "      <td>0</td>\n",
       "    </tr>\n",
       "    <tr>\n",
       "      <th>79155</th>\n",
       "      <td>185015</td>\n",
       "      <td>154</td>\n",
       "      <td>F</td>\n",
       "      <td>Caucasian</td>\n",
       "      <td>55.0</td>\n",
       "      <td>0</td>\n",
       "      <td>165.1</td>\n",
       "      <td>91.7</td>\n",
       "      <td>33.641487</td>\n",
       "      <td>0</td>\n",
       "      <td>...</td>\n",
       "      <td>59.0</td>\n",
       "      <td>0</td>\n",
       "      <td>0</td>\n",
       "      <td>0</td>\n",
       "      <td>1</td>\n",
       "      <td>0</td>\n",
       "      <td>0</td>\n",
       "      <td>1</td>\n",
       "      <td>0</td>\n",
       "      <td>0</td>\n",
       "    </tr>\n",
       "    <tr>\n",
       "      <th>79156</th>\n",
       "      <td>173688</td>\n",
       "      <td>47</td>\n",
       "      <td>M</td>\n",
       "      <td>African American</td>\n",
       "      <td>61.0</td>\n",
       "      <td>0</td>\n",
       "      <td>173.0</td>\n",
       "      <td>88.1</td>\n",
       "      <td>29.436333</td>\n",
       "      <td>0</td>\n",
       "      <td>...</td>\n",
       "      <td>173.0</td>\n",
       "      <td>0</td>\n",
       "      <td>0</td>\n",
       "      <td>0</td>\n",
       "      <td>0</td>\n",
       "      <td>0</td>\n",
       "      <td>0</td>\n",
       "      <td>0</td>\n",
       "      <td>0</td>\n",
       "      <td>0</td>\n",
       "    </tr>\n",
       "    <tr>\n",
       "      <th>79157</th>\n",
       "      <td>169835</td>\n",
       "      <td>120</td>\n",
       "      <td>M</td>\n",
       "      <td>Caucasian</td>\n",
       "      <td>80.0</td>\n",
       "      <td>0</td>\n",
       "      <td>175.0</td>\n",
       "      <td>84.8</td>\n",
       "      <td>27.689796</td>\n",
       "      <td>0</td>\n",
       "      <td>...</td>\n",
       "      <td>54.0</td>\n",
       "      <td>0</td>\n",
       "      <td>0</td>\n",
       "      <td>0</td>\n",
       "      <td>1</td>\n",
       "      <td>0</td>\n",
       "      <td>0</td>\n",
       "      <td>0</td>\n",
       "      <td>0</td>\n",
       "      <td>0</td>\n",
       "    </tr>\n",
       "    <tr>\n",
       "      <th>79158</th>\n",
       "      <td>209541</td>\n",
       "      <td>55</td>\n",
       "      <td>M</td>\n",
       "      <td>Caucasian</td>\n",
       "      <td>88.0</td>\n",
       "      <td>0</td>\n",
       "      <td>170.1</td>\n",
       "      <td>90.9</td>\n",
       "      <td>31.416316</td>\n",
       "      <td>0</td>\n",
       "      <td>...</td>\n",
       "      <td>42.0</td>\n",
       "      <td>0</td>\n",
       "      <td>0</td>\n",
       "      <td>0</td>\n",
       "      <td>0</td>\n",
       "      <td>0</td>\n",
       "      <td>0</td>\n",
       "      <td>0</td>\n",
       "      <td>1</td>\n",
       "      <td>0</td>\n",
       "    </tr>\n",
       "  </tbody>\n",
       "</table>\n",
       "<p>79159 rows × 88 columns</p>\n",
       "</div>"
      ],
      "text/plain": [
       "       encounter_id  hospital_id gender         ethnicity   age  \\\n",
       "0            214826          118      M         Caucasian  68.0   \n",
       "1            276985          118      F         Caucasian  25.0   \n",
       "2            262220          118      F         Caucasian  81.0   \n",
       "3            201746           33      M         Caucasian  19.0   \n",
       "4            246060           81      F         Caucasian  77.0   \n",
       "...             ...          ...    ...               ...   ...   \n",
       "79154        166024          146      F         Caucasian  86.0   \n",
       "79155        185015          154      F         Caucasian  55.0   \n",
       "79156        173688           47      M  African American  61.0   \n",
       "79157        169835          120      M         Caucasian  80.0   \n",
       "79158        209541           55      M         Caucasian  88.0   \n",
       "\n",
       "       elective_surgery  height  weight        bmi  readmission_status  ...  \\\n",
       "0                     0   180.3    73.9  22.732803                   0  ...   \n",
       "1                     0   172.7    95.3  31.952749                   0  ...   \n",
       "2                     1   165.1    61.7  22.635548                   0  ...   \n",
       "3                     0   188.0     NaN        NaN                   0  ...   \n",
       "4                     0   160.0    70.2  27.421875                   0  ...   \n",
       "...                 ...     ...     ...        ...                 ...  ...   \n",
       "79154                 0   167.6    86.2  30.687339                   0  ...   \n",
       "79155                 0   165.1    91.7  33.641487                   0  ...   \n",
       "79156                 0   173.0    88.1  29.436333                   0  ...   \n",
       "79157                 0   175.0    84.8  27.689796                   0  ...   \n",
       "79158                 0   170.1    90.9  31.416316                   0  ...   \n",
       "\n",
       "      map_apache  aids  cirrhosis  hepatic_failure  immunosuppression  \\\n",
       "0           40.0     0          0                0                  0   \n",
       "1           68.0     0          0                0                  0   \n",
       "2           60.0     0          0                0                  0   \n",
       "3          103.0     0          0                0                  0   \n",
       "4           46.0     0          0                0                  0   \n",
       "...          ...   ...        ...              ...                ...   \n",
       "79154      137.0     0          0                0                  0   \n",
       "79155       59.0     0          0                0                  1   \n",
       "79156      173.0     0          0                0                  0   \n",
       "79157       54.0     0          0                0                  1   \n",
       "79158       42.0     0          0                0                  0   \n",
       "\n",
       "       leukemia  lymphoma  solid_tumor_with_metastasis  ventilated_apache  \\\n",
       "0             0         0                            0                  0   \n",
       "1             0         0                            0                  0   \n",
       "2             0         0                            0                  1   \n",
       "3             0         0                            0                  0   \n",
       "4             0         0                            0                  1   \n",
       "...         ...       ...                          ...                ...   \n",
       "79154         0         0                            0                  0   \n",
       "79155         0         0                            1                  0   \n",
       "79156         0         0                            0                  0   \n",
       "79157         0         0                            0                  0   \n",
       "79158         0         0                            0                  1   \n",
       "\n",
       "       diabetes_mellitus  \n",
       "0                      1  \n",
       "1                      0  \n",
       "2                      0  \n",
       "3                      0  \n",
       "4                      1  \n",
       "...                  ...  \n",
       "79154                  0  \n",
       "79155                  0  \n",
       "79156                  0  \n",
       "79157                  0  \n",
       "79158                  0  \n",
       "\n",
       "[79159 rows x 88 columns]"
      ]
     },
     "execution_count": 2,
     "metadata": {},
     "output_type": "execute_result"
    }
   ],
   "source": [
    "table = pd.read_csv(\"DiabetesClassificationDataset2022.csv\")\n",
    "table "
   ]
  },
  {
   "cell_type": "markdown",
   "metadata": {},
   "source": [
    "## Summary of Data"
   ]
  },
  {
   "cell_type": "markdown",
   "metadata": {},
   "source": [
    "### Column names and their Datatypes"
   ]
  },
  {
   "cell_type": "code",
   "execution_count": 3,
   "metadata": {},
   "outputs": [
    {
     "name": "stdout",
     "output_type": "stream",
     "text": [
      "<class 'pandas.core.frame.DataFrame'>\n",
      "RangeIndex: 79159 entries, 0 to 79158\n",
      "Data columns (total 88 columns):\n",
      " #   Column                       Non-Null Count  Dtype  \n",
      "---  ------                       --------------  -----  \n",
      " 0   encounter_id                 79159 non-null  int64  \n",
      " 1   hospital_id                  79159 non-null  int64  \n",
      " 2   gender                       79129 non-null  object \n",
      " 3   ethnicity                    78198 non-null  object \n",
      " 4   age                          76317 non-null  float64\n",
      " 5   elective_surgery             79159 non-null  int64  \n",
      " 6   height                       77978 non-null  float64\n",
      " 7   weight                       77086 non-null  float64\n",
      " 8   bmi                          76468 non-null  float64\n",
      " 9   readmission_status           79159 non-null  int64  \n",
      " 10  icu_type                     79159 non-null  object \n",
      " 11  h1_temp_max                  61223 non-null  float64\n",
      " 12  h1_temp_min                  61223 non-null  float64\n",
      " 13  d1_albumin_max               36066 non-null  float64\n",
      " 14  d1_albumin_min               36066 non-null  float64\n",
      " 15  d1_bilirubin_max             32682 non-null  float64\n",
      " 16  d1_bilirubin_min             32682 non-null  float64\n",
      " 17  d1_bun_max                   71249 non-null  float64\n",
      " 18  d1_bun_min                   71249 non-null  float64\n",
      " 19  d1_glucose_min               74800 non-null  float64\n",
      " 20  d1_hco3_max                  67258 non-null  float64\n",
      " 21  d1_hco3_min                  67258 non-null  float64\n",
      " 22  d1_inr_max                   29693 non-null  float64\n",
      " 23  d1_inr_min                   29693 non-null  float64\n",
      " 24  d1_lactate_max               21350 non-null  float64\n",
      " 25  d1_lactate_min               21350 non-null  float64\n",
      " 26  d1_platelets_max             67993 non-null  float64\n",
      " 27  d1_platelets_min             67993 non-null  float64\n",
      " 28  d1_potassium_max             71972 non-null  float64\n",
      " 29  d1_potassium_min             71972 non-null  float64\n",
      " 30  d1_sodium_max                71544 non-null  float64\n",
      " 31  d1_sodium_min                71544 non-null  float64\n",
      " 32  d1_wbc_max                   68680 non-null  float64\n",
      " 33  d1_wbc_min                   68680 non-null  float64\n",
      " 34  h1_albumin_max               6888 non-null   float64\n",
      " 35  h1_albumin_min               6888 non-null   float64\n",
      " 36  h1_bilirubin_max             6310 non-null   float64\n",
      " 37  h1_bilirubin_min             6310 non-null   float64\n",
      " 38  h1_bun_max                   15753 non-null  float64\n",
      " 39  h1_bun_min                   15753 non-null  float64\n",
      " 40  h1_calcium_max               15196 non-null  float64\n",
      " 41  h1_calcium_min               15196 non-null  float64\n",
      " 42  h1_creatinine_max            15884 non-null  float64\n",
      " 43  h1_creatinine_min            15884 non-null  float64\n",
      " 44  h1_glucose_max               35387 non-null  float64\n",
      " 45  h1_glucose_min               35387 non-null  float64\n",
      " 46  h1_hco3_max                  14808 non-null  float64\n",
      " 47  h1_hco3_min                  14808 non-null  float64\n",
      " 48  h1_hematocrit_max            16616 non-null  float64\n",
      " 49  h1_hematocrit_min            16616 non-null  float64\n",
      " 50  h1_inr_max                   29693 non-null  float64\n",
      " 51  h1_inr_min                   29693 non-null  float64\n",
      " 52  h1_lactate_max               7174 non-null   float64\n",
      " 53  h1_lactate_min               7174 non-null   float64\n",
      " 54  h1_sodium_max                17763 non-null  float64\n",
      " 55  h1_sodium_min                17763 non-null  float64\n",
      " 56  d1_arterial_po2_max          28333 non-null  float64\n",
      " 57  d1_arterial_po2_min          28333 non-null  float64\n",
      " 58  d1_pao2fio2ratio_max         22583 non-null  float64\n",
      " 59  d1_pao2fio2ratio_min         22583 non-null  float64\n",
      " 60  h1_arterial_pco2_max         13872 non-null  float64\n",
      " 61  h1_arterial_pco2_min         13872 non-null  float64\n",
      " 62  h1_arterial_ph_max           13770 non-null  float64\n",
      " 63  h1_arterial_ph_min           13770 non-null  float64\n",
      " 64  h1_arterial_po2_max          14017 non-null  float64\n",
      " 65  h1_arterial_po2_min          14017 non-null  float64\n",
      " 66  h1_pao2fio2ratio_max         10343 non-null  float64\n",
      " 67  h1_pao2fio2ratio_min         10343 non-null  float64\n",
      " 68  wbc_apache                   61408 non-null  float64\n",
      " 69  intubated_apache             79159 non-null  int64  \n",
      " 70  d1_heartrate_max             79014 non-null  float64\n",
      " 71  heart_rate_apache            79003 non-null  float64\n",
      " 72  gcs_motor_apache             77935 non-null  float64\n",
      " 73  gcs_eyes_apache              77935 non-null  float64\n",
      " 74  creatinine_apache            64575 non-null  float64\n",
      " 75  bilirubin_apache             29109 non-null  float64\n",
      " 76  h1_spo2_max                  75355 non-null  float64\n",
      " 77  paco2_apache                 18540 non-null  float64\n",
      " 78  map_apache                   78931 non-null  float64\n",
      " 79  aids                         79159 non-null  int64  \n",
      " 80  cirrhosis                    79159 non-null  int64  \n",
      " 81  hepatic_failure              79159 non-null  int64  \n",
      " 82  immunosuppression            79159 non-null  int64  \n",
      " 83  leukemia                     79159 non-null  int64  \n",
      " 84  lymphoma                     79159 non-null  int64  \n",
      " 85  solid_tumor_with_metastasis  79159 non-null  int64  \n",
      " 86  ventilated_apache            79159 non-null  int64  \n",
      " 87  diabetes_mellitus            79159 non-null  int64  \n",
      "dtypes: float64(71), int64(14), object(3)\n",
      "memory usage: 53.1+ MB\n"
     ]
    }
   ],
   "source": [
    "table.info()"
   ]
  },
  {
   "cell_type": "markdown",
   "metadata": {},
   "source": [
    "### Description of the statistical data in the DataFrame"
   ]
  },
  {
   "cell_type": "code",
   "execution_count": 4,
   "metadata": {
    "scrolled": true
   },
   "outputs": [
    {
     "data": {
      "text/html": [
       "<div>\n",
       "<style scoped>\n",
       "    .dataframe tbody tr th:only-of-type {\n",
       "        vertical-align: middle;\n",
       "    }\n",
       "\n",
       "    .dataframe tbody tr th {\n",
       "        vertical-align: top;\n",
       "    }\n",
       "\n",
       "    .dataframe thead th {\n",
       "        text-align: right;\n",
       "    }\n",
       "</style>\n",
       "<table border=\"1\" class=\"dataframe\">\n",
       "  <thead>\n",
       "    <tr style=\"text-align: right;\">\n",
       "      <th></th>\n",
       "      <th>encounter_id</th>\n",
       "      <th>hospital_id</th>\n",
       "      <th>age</th>\n",
       "      <th>elective_surgery</th>\n",
       "      <th>height</th>\n",
       "      <th>weight</th>\n",
       "      <th>bmi</th>\n",
       "      <th>readmission_status</th>\n",
       "      <th>h1_temp_max</th>\n",
       "      <th>h1_temp_min</th>\n",
       "      <th>...</th>\n",
       "      <th>map_apache</th>\n",
       "      <th>aids</th>\n",
       "      <th>cirrhosis</th>\n",
       "      <th>hepatic_failure</th>\n",
       "      <th>immunosuppression</th>\n",
       "      <th>leukemia</th>\n",
       "      <th>lymphoma</th>\n",
       "      <th>solid_tumor_with_metastasis</th>\n",
       "      <th>ventilated_apache</th>\n",
       "      <th>diabetes_mellitus</th>\n",
       "    </tr>\n",
       "  </thead>\n",
       "  <tbody>\n",
       "    <tr>\n",
       "      <th>count</th>\n",
       "      <td>79159.000000</td>\n",
       "      <td>79159.000000</td>\n",
       "      <td>76317.000000</td>\n",
       "      <td>79159.000000</td>\n",
       "      <td>77978.000000</td>\n",
       "      <td>77086.000000</td>\n",
       "      <td>76468.000000</td>\n",
       "      <td>79159.0</td>\n",
       "      <td>61223.000000</td>\n",
       "      <td>61223.000000</td>\n",
       "      <td>...</td>\n",
       "      <td>78931.000000</td>\n",
       "      <td>79159.000000</td>\n",
       "      <td>79159.000000</td>\n",
       "      <td>79159.000000</td>\n",
       "      <td>79159.000000</td>\n",
       "      <td>79159.000000</td>\n",
       "      <td>79159.000000</td>\n",
       "      <td>79159.000000</td>\n",
       "      <td>79159.000000</td>\n",
       "      <td>79159.000000</td>\n",
       "    </tr>\n",
       "    <tr>\n",
       "      <th>mean</th>\n",
       "      <td>212863.726740</td>\n",
       "      <td>106.188620</td>\n",
       "      <td>62.452389</td>\n",
       "      <td>0.189404</td>\n",
       "      <td>169.565316</td>\n",
       "      <td>85.114552</td>\n",
       "      <td>29.600786</td>\n",
       "      <td>0.0</td>\n",
       "      <td>36.721315</td>\n",
       "      <td>36.612966</td>\n",
       "      <td>...</td>\n",
       "      <td>87.278128</td>\n",
       "      <td>0.000834</td>\n",
       "      <td>0.016713</td>\n",
       "      <td>0.013744</td>\n",
       "      <td>0.025379</td>\n",
       "      <td>0.007327</td>\n",
       "      <td>0.004080</td>\n",
       "      <td>0.020781</td>\n",
       "      <td>0.332243</td>\n",
       "      <td>0.355639</td>\n",
       "    </tr>\n",
       "    <tr>\n",
       "      <th>std</th>\n",
       "      <td>38113.816591</td>\n",
       "      <td>63.776527</td>\n",
       "      <td>16.446715</td>\n",
       "      <td>0.391831</td>\n",
       "      <td>10.835017</td>\n",
       "      <td>25.465505</td>\n",
       "      <td>8.487987</td>\n",
       "      <td>0.0</td>\n",
       "      <td>0.771686</td>\n",
       "      <td>0.795767</td>\n",
       "      <td>...</td>\n",
       "      <td>42.058748</td>\n",
       "      <td>0.028863</td>\n",
       "      <td>0.128195</td>\n",
       "      <td>0.116429</td>\n",
       "      <td>0.157275</td>\n",
       "      <td>0.085284</td>\n",
       "      <td>0.063748</td>\n",
       "      <td>0.142651</td>\n",
       "      <td>0.471020</td>\n",
       "      <td>0.478709</td>\n",
       "    </tr>\n",
       "    <tr>\n",
       "      <th>min</th>\n",
       "      <td>147001.000000</td>\n",
       "      <td>1.000000</td>\n",
       "      <td>0.000000</td>\n",
       "      <td>0.000000</td>\n",
       "      <td>137.200000</td>\n",
       "      <td>38.600000</td>\n",
       "      <td>14.844926</td>\n",
       "      <td>0.0</td>\n",
       "      <td>33.400000</td>\n",
       "      <td>32.900000</td>\n",
       "      <td>...</td>\n",
       "      <td>40.000000</td>\n",
       "      <td>0.000000</td>\n",
       "      <td>0.000000</td>\n",
       "      <td>0.000000</td>\n",
       "      <td>0.000000</td>\n",
       "      <td>0.000000</td>\n",
       "      <td>0.000000</td>\n",
       "      <td>0.000000</td>\n",
       "      <td>0.000000</td>\n",
       "      <td>0.000000</td>\n",
       "    </tr>\n",
       "    <tr>\n",
       "      <th>25%</th>\n",
       "      <td>179772.000000</td>\n",
       "      <td>49.000000</td>\n",
       "      <td>53.000000</td>\n",
       "      <td>0.000000</td>\n",
       "      <td>162.500000</td>\n",
       "      <td>67.700000</td>\n",
       "      <td>23.875433</td>\n",
       "      <td>0.0</td>\n",
       "      <td>36.400000</td>\n",
       "      <td>36.300000</td>\n",
       "      <td>...</td>\n",
       "      <td>53.000000</td>\n",
       "      <td>0.000000</td>\n",
       "      <td>0.000000</td>\n",
       "      <td>0.000000</td>\n",
       "      <td>0.000000</td>\n",
       "      <td>0.000000</td>\n",
       "      <td>0.000000</td>\n",
       "      <td>0.000000</td>\n",
       "      <td>0.000000</td>\n",
       "      <td>0.000000</td>\n",
       "    </tr>\n",
       "    <tr>\n",
       "      <th>50%</th>\n",
       "      <td>212864.000000</td>\n",
       "      <td>112.000000</td>\n",
       "      <td>65.000000</td>\n",
       "      <td>0.000000</td>\n",
       "      <td>170.000000</td>\n",
       "      <td>81.600000</td>\n",
       "      <td>28.029903</td>\n",
       "      <td>0.0</td>\n",
       "      <td>36.700000</td>\n",
       "      <td>36.700000</td>\n",
       "      <td>...</td>\n",
       "      <td>66.000000</td>\n",
       "      <td>0.000000</td>\n",
       "      <td>0.000000</td>\n",
       "      <td>0.000000</td>\n",
       "      <td>0.000000</td>\n",
       "      <td>0.000000</td>\n",
       "      <td>0.000000</td>\n",
       "      <td>0.000000</td>\n",
       "      <td>0.000000</td>\n",
       "      <td>0.000000</td>\n",
       "    </tr>\n",
       "    <tr>\n",
       "      <th>75%</th>\n",
       "      <td>245812.000000</td>\n",
       "      <td>165.000000</td>\n",
       "      <td>75.000000</td>\n",
       "      <td>0.000000</td>\n",
       "      <td>177.800000</td>\n",
       "      <td>98.400000</td>\n",
       "      <td>33.420162</td>\n",
       "      <td>0.0</td>\n",
       "      <td>37.100000</td>\n",
       "      <td>37.000000</td>\n",
       "      <td>...</td>\n",
       "      <td>124.000000</td>\n",
       "      <td>0.000000</td>\n",
       "      <td>0.000000</td>\n",
       "      <td>0.000000</td>\n",
       "      <td>0.000000</td>\n",
       "      <td>0.000000</td>\n",
       "      <td>0.000000</td>\n",
       "      <td>0.000000</td>\n",
       "      <td>1.000000</td>\n",
       "      <td>1.000000</td>\n",
       "    </tr>\n",
       "    <tr>\n",
       "      <th>max</th>\n",
       "      <td>278997.000000</td>\n",
       "      <td>204.000000</td>\n",
       "      <td>89.000000</td>\n",
       "      <td>1.000000</td>\n",
       "      <td>195.590000</td>\n",
       "      <td>186.000000</td>\n",
       "      <td>67.814990</td>\n",
       "      <td>0.0</td>\n",
       "      <td>39.500000</td>\n",
       "      <td>39.300000</td>\n",
       "      <td>...</td>\n",
       "      <td>200.000000</td>\n",
       "      <td>1.000000</td>\n",
       "      <td>1.000000</td>\n",
       "      <td>1.000000</td>\n",
       "      <td>1.000000</td>\n",
       "      <td>1.000000</td>\n",
       "      <td>1.000000</td>\n",
       "      <td>1.000000</td>\n",
       "      <td>1.000000</td>\n",
       "      <td>1.000000</td>\n",
       "    </tr>\n",
       "  </tbody>\n",
       "</table>\n",
       "<p>8 rows × 85 columns</p>\n",
       "</div>"
      ],
      "text/plain": [
       "        encounter_id   hospital_id           age  elective_surgery  \\\n",
       "count   79159.000000  79159.000000  76317.000000      79159.000000   \n",
       "mean   212863.726740    106.188620     62.452389          0.189404   \n",
       "std     38113.816591     63.776527     16.446715          0.391831   \n",
       "min    147001.000000      1.000000      0.000000          0.000000   \n",
       "25%    179772.000000     49.000000     53.000000          0.000000   \n",
       "50%    212864.000000    112.000000     65.000000          0.000000   \n",
       "75%    245812.000000    165.000000     75.000000          0.000000   \n",
       "max    278997.000000    204.000000     89.000000          1.000000   \n",
       "\n",
       "             height        weight           bmi  readmission_status  \\\n",
       "count  77978.000000  77086.000000  76468.000000             79159.0   \n",
       "mean     169.565316     85.114552     29.600786                 0.0   \n",
       "std       10.835017     25.465505      8.487987                 0.0   \n",
       "min      137.200000     38.600000     14.844926                 0.0   \n",
       "25%      162.500000     67.700000     23.875433                 0.0   \n",
       "50%      170.000000     81.600000     28.029903                 0.0   \n",
       "75%      177.800000     98.400000     33.420162                 0.0   \n",
       "max      195.590000    186.000000     67.814990                 0.0   \n",
       "\n",
       "        h1_temp_max   h1_temp_min  ...    map_apache          aids  \\\n",
       "count  61223.000000  61223.000000  ...  78931.000000  79159.000000   \n",
       "mean      36.721315     36.612966  ...     87.278128      0.000834   \n",
       "std        0.771686      0.795767  ...     42.058748      0.028863   \n",
       "min       33.400000     32.900000  ...     40.000000      0.000000   \n",
       "25%       36.400000     36.300000  ...     53.000000      0.000000   \n",
       "50%       36.700000     36.700000  ...     66.000000      0.000000   \n",
       "75%       37.100000     37.000000  ...    124.000000      0.000000   \n",
       "max       39.500000     39.300000  ...    200.000000      1.000000   \n",
       "\n",
       "          cirrhosis  hepatic_failure  immunosuppression      leukemia  \\\n",
       "count  79159.000000     79159.000000       79159.000000  79159.000000   \n",
       "mean       0.016713         0.013744           0.025379      0.007327   \n",
       "std        0.128195         0.116429           0.157275      0.085284   \n",
       "min        0.000000         0.000000           0.000000      0.000000   \n",
       "25%        0.000000         0.000000           0.000000      0.000000   \n",
       "50%        0.000000         0.000000           0.000000      0.000000   \n",
       "75%        0.000000         0.000000           0.000000      0.000000   \n",
       "max        1.000000         1.000000           1.000000      1.000000   \n",
       "\n",
       "           lymphoma  solid_tumor_with_metastasis  ventilated_apache  \\\n",
       "count  79159.000000                 79159.000000       79159.000000   \n",
       "mean       0.004080                     0.020781           0.332243   \n",
       "std        0.063748                     0.142651           0.471020   \n",
       "min        0.000000                     0.000000           0.000000   \n",
       "25%        0.000000                     0.000000           0.000000   \n",
       "50%        0.000000                     0.000000           0.000000   \n",
       "75%        0.000000                     0.000000           1.000000   \n",
       "max        1.000000                     1.000000           1.000000   \n",
       "\n",
       "       diabetes_mellitus  \n",
       "count       79159.000000  \n",
       "mean            0.355639  \n",
       "std             0.478709  \n",
       "min             0.000000  \n",
       "25%             0.000000  \n",
       "50%             0.000000  \n",
       "75%             1.000000  \n",
       "max             1.000000  \n",
       "\n",
       "[8 rows x 85 columns]"
      ]
     },
     "execution_count": 4,
     "metadata": {},
     "output_type": "execute_result"
    }
   ],
   "source": [
    "table.describe()"
   ]
  },
  {
   "cell_type": "markdown",
   "metadata": {},
   "source": [
    "### Number of Columns wrt Datatypes"
   ]
  },
  {
   "cell_type": "code",
   "execution_count": 5,
   "metadata": {
    "scrolled": true
   },
   "outputs": [
    {
     "data": {
      "text/plain": [
       "float64    71\n",
       "int64      14\n",
       "object      3\n",
       "dtype: int64"
      ]
     },
     "execution_count": 5,
     "metadata": {},
     "output_type": "execute_result"
    }
   ],
   "source": [
    "table.dtypes.value_counts()"
   ]
  },
  {
   "cell_type": "code",
   "execution_count": 6,
   "metadata": {
    "id": "WggIuEd6W6hZ"
   },
   "outputs": [],
   "source": [
    "# Remove id columns\n",
    "# Columns with unique ID values are removing as they do not impact the prediction\n",
    "del table['encounter_id']\n",
    "del table['hospital_id']"
   ]
  },
  {
   "cell_type": "markdown",
   "metadata": {},
   "source": [
    "### Amount of missing data in individual fields."
   ]
  },
  {
   "cell_type": "code",
   "execution_count": 7,
   "metadata": {},
   "outputs": [],
   "source": [
    "mv={}\n",
    "for i in table.columns:\n",
    "    if table[i].isna().any():\n",
    "        mv[i]=table[i].isna().value_counts(normalize=True).mul(100).round(2)[True]"
   ]
  },
  {
   "cell_type": "code",
   "execution_count": 8,
   "metadata": {},
   "outputs": [],
   "source": [
    "mvd=pd.DataFrame(data=mv.values(),index=mv.keys(),columns=['Missing Value %'])\n",
    "# mvd"
   ]
  },
  {
   "cell_type": "code",
   "execution_count": 9,
   "metadata": {},
   "outputs": [
    {
     "data": {
      "text/html": [
       "<div>\n",
       "<style scoped>\n",
       "    .dataframe tbody tr th:only-of-type {\n",
       "        vertical-align: middle;\n",
       "    }\n",
       "\n",
       "    .dataframe tbody tr th {\n",
       "        vertical-align: top;\n",
       "    }\n",
       "\n",
       "    .dataframe thead th {\n",
       "        text-align: right;\n",
       "    }\n",
       "</style>\n",
       "<table border=\"1\" class=\"dataframe\">\n",
       "  <thead>\n",
       "    <tr style=\"text-align: right;\">\n",
       "      <th></th>\n",
       "      <th>Missing Value %</th>\n",
       "    </tr>\n",
       "  </thead>\n",
       "  <tbody>\n",
       "    <tr>\n",
       "      <th>gender</th>\n",
       "      <td>0.04</td>\n",
       "    </tr>\n",
       "    <tr>\n",
       "      <th>ethnicity</th>\n",
       "      <td>1.21</td>\n",
       "    </tr>\n",
       "    <tr>\n",
       "      <th>age</th>\n",
       "      <td>3.59</td>\n",
       "    </tr>\n",
       "    <tr>\n",
       "      <th>height</th>\n",
       "      <td>1.49</td>\n",
       "    </tr>\n",
       "    <tr>\n",
       "      <th>weight</th>\n",
       "      <td>2.62</td>\n",
       "    </tr>\n",
       "    <tr>\n",
       "      <th>...</th>\n",
       "      <td>...</td>\n",
       "    </tr>\n",
       "    <tr>\n",
       "      <th>creatinine_apache</th>\n",
       "      <td>18.42</td>\n",
       "    </tr>\n",
       "    <tr>\n",
       "      <th>bilirubin_apache</th>\n",
       "      <td>63.23</td>\n",
       "    </tr>\n",
       "    <tr>\n",
       "      <th>h1_spo2_max</th>\n",
       "      <td>4.81</td>\n",
       "    </tr>\n",
       "    <tr>\n",
       "      <th>paco2_apache</th>\n",
       "      <td>76.58</td>\n",
       "    </tr>\n",
       "    <tr>\n",
       "      <th>map_apache</th>\n",
       "      <td>0.29</td>\n",
       "    </tr>\n",
       "  </tbody>\n",
       "</table>\n",
       "<p>73 rows × 1 columns</p>\n",
       "</div>"
      ],
      "text/plain": [
       "                   Missing Value %\n",
       "gender                        0.04\n",
       "ethnicity                     1.21\n",
       "age                           3.59\n",
       "height                        1.49\n",
       "weight                        2.62\n",
       "...                            ...\n",
       "creatinine_apache            18.42\n",
       "bilirubin_apache             63.23\n",
       "h1_spo2_max                   4.81\n",
       "paco2_apache                 76.58\n",
       "map_apache                    0.29\n",
       "\n",
       "[73 rows x 1 columns]"
      ]
     },
     "execution_count": 9,
     "metadata": {},
     "output_type": "execute_result"
    }
   ],
   "source": [
    "mvd"
   ]
  },
  {
   "cell_type": "markdown",
   "metadata": {},
   "source": [
    "### Columns with more than 60% missing values"
   ]
  },
  {
   "cell_type": "code",
   "execution_count": 10,
   "metadata": {},
   "outputs": [],
   "source": [
    "mvi=mvd[mvd['Missing Value %']>60].index"
   ]
  },
  {
   "cell_type": "code",
   "execution_count": 11,
   "metadata": {},
   "outputs": [
    {
     "data": {
      "text/plain": [
       "38"
      ]
     },
     "execution_count": 11,
     "metadata": {},
     "output_type": "execute_result"
    }
   ],
   "source": [
    "len(mvi)"
   ]
  },
  {
   "cell_type": "code",
   "execution_count": 12,
   "metadata": {},
   "outputs": [
    {
     "name": "stdout",
     "output_type": "stream",
     "text": [
      "Missing Value %    62.49\n",
      "Name: d1_inr_max, dtype: float64\n",
      "Missing Value %    62.49\n",
      "Name: d1_inr_min, dtype: float64\n",
      "Missing Value %    73.03\n",
      "Name: d1_lactate_max, dtype: float64\n",
      "Missing Value %    73.03\n",
      "Name: d1_lactate_min, dtype: float64\n",
      "Missing Value %    91.3\n",
      "Name: h1_albumin_max, dtype: float64\n",
      "Missing Value %    91.3\n",
      "Name: h1_albumin_min, dtype: float64\n",
      "Missing Value %    92.03\n",
      "Name: h1_bilirubin_max, dtype: float64\n",
      "Missing Value %    92.03\n",
      "Name: h1_bilirubin_min, dtype: float64\n",
      "Missing Value %    80.1\n",
      "Name: h1_bun_max, dtype: float64\n",
      "Missing Value %    80.1\n",
      "Name: h1_bun_min, dtype: float64\n",
      "Missing Value %    80.8\n",
      "Name: h1_calcium_max, dtype: float64\n",
      "Missing Value %    80.8\n",
      "Name: h1_calcium_min, dtype: float64\n",
      "Missing Value %    79.93\n",
      "Name: h1_creatinine_max, dtype: float64\n",
      "Missing Value %    79.93\n",
      "Name: h1_creatinine_min, dtype: float64\n",
      "Missing Value %    81.29\n",
      "Name: h1_hco3_max, dtype: float64\n",
      "Missing Value %    81.29\n",
      "Name: h1_hco3_min, dtype: float64\n",
      "Missing Value %    79.01\n",
      "Name: h1_hematocrit_max, dtype: float64\n",
      "Missing Value %    79.01\n",
      "Name: h1_hematocrit_min, dtype: float64\n",
      "Missing Value %    62.49\n",
      "Name: h1_inr_max, dtype: float64\n",
      "Missing Value %    62.49\n",
      "Name: h1_inr_min, dtype: float64\n",
      "Missing Value %    90.94\n",
      "Name: h1_lactate_max, dtype: float64\n",
      "Missing Value %    90.94\n",
      "Name: h1_lactate_min, dtype: float64\n",
      "Missing Value %    77.56\n",
      "Name: h1_sodium_max, dtype: float64\n",
      "Missing Value %    77.56\n",
      "Name: h1_sodium_min, dtype: float64\n",
      "Missing Value %    64.21\n",
      "Name: d1_arterial_po2_max, dtype: float64\n",
      "Missing Value %    64.21\n",
      "Name: d1_arterial_po2_min, dtype: float64\n",
      "Missing Value %    71.47\n",
      "Name: d1_pao2fio2ratio_max, dtype: float64\n",
      "Missing Value %    71.47\n",
      "Name: d1_pao2fio2ratio_min, dtype: float64\n",
      "Missing Value %    82.48\n",
      "Name: h1_arterial_pco2_max, dtype: float64\n",
      "Missing Value %    82.48\n",
      "Name: h1_arterial_pco2_min, dtype: float64\n",
      "Missing Value %    82.6\n",
      "Name: h1_arterial_ph_max, dtype: float64\n",
      "Missing Value %    82.6\n",
      "Name: h1_arterial_ph_min, dtype: float64\n",
      "Missing Value %    82.29\n",
      "Name: h1_arterial_po2_max, dtype: float64\n",
      "Missing Value %    82.29\n",
      "Name: h1_arterial_po2_min, dtype: float64\n",
      "Missing Value %    86.93\n",
      "Name: h1_pao2fio2ratio_max, dtype: float64\n",
      "Missing Value %    86.93\n",
      "Name: h1_pao2fio2ratio_min, dtype: float64\n",
      "Missing Value %    63.23\n",
      "Name: bilirubin_apache, dtype: float64\n",
      "Missing Value %    76.58\n",
      "Name: paco2_apache, dtype: float64\n"
     ]
    }
   ],
   "source": [
    "for i in mvi:\n",
    "    print(mvd.loc[i])"
   ]
  },
  {
   "cell_type": "markdown",
   "metadata": {},
   "source": [
    "## Note :\n",
    "#### 1. The dataset consists of total 79159 rows and 88 columns.\n",
    "#### 2. Out of 88 Columns, Categorical (String) Datatype are 3 , Numerical ( Int ) Datatype are 14 and  Numerical ( Float ) Datatype are 71\n",
    "#### 3. There are 38 columns with more than 60% missing data (NaN values)"
   ]
  },
  {
   "cell_type": "markdown",
   "metadata": {},
   "source": [
    "## Data Preprocessing"
   ]
  },
  {
   "cell_type": "markdown",
   "metadata": {},
   "source": [
    "### Dropping columns with more than 60% missing data"
   ]
  },
  {
   "cell_type": "code",
   "execution_count": 13,
   "metadata": {},
   "outputs": [],
   "source": [
    "table.drop(columns=mvi,axis=1,inplace=True)"
   ]
  },
  {
   "cell_type": "markdown",
   "metadata": {},
   "source": [
    "### Deleting Zero sum columns"
   ]
  },
  {
   "cell_type": "code",
   "execution_count": 14,
   "metadata": {},
   "outputs": [
    {
     "name": "stdout",
     "output_type": "stream",
     "text": [
      "readmission_status\n"
     ]
    }
   ],
   "source": [
    "for i in table.columns:\n",
    "    if table[i].dtypes!='object' and table[i].sum()==0:\n",
    "        print(i)\n",
    "\n",
    "# table.dtypes.value_counts()"
   ]
  },
  {
   "cell_type": "code",
   "execution_count": 15,
   "metadata": {},
   "outputs": [],
   "source": [
    "del table['readmission_status']"
   ]
  },
  {
   "cell_type": "code",
   "execution_count": 16,
   "metadata": {
    "colab": {
     "base_uri": "https://localhost:8080/",
     "height": 505
    },
    "executionInfo": {
     "elapsed": 189,
     "status": "ok",
     "timestamp": 1652112439860,
     "user": {
      "displayName": "MIA BIAN",
      "userId": "12076802795410247755"
     },
     "user_tz": 240
    },
    "id": "ZkreRDfsAfie",
    "outputId": "07e7d895-b580-40e3-a0e9-ac0c584bc111"
   },
   "outputs": [],
   "source": [
    "# Remove rows with Nan values for bmi (an important feature in predicting diabetes)\n",
    "# table['bmi'].isna().sum()\n",
    "# table = table[table['bmi'].notna()]\n",
    "# table"
   ]
  },
  {
   "cell_type": "code",
   "execution_count": 17,
   "metadata": {
    "colab": {
     "base_uri": "https://localhost:8080/"
    },
    "executionInfo": {
     "elapsed": 245,
     "status": "ok",
     "timestamp": 1652112444309,
     "user": {
      "displayName": "MIA BIAN",
      "userId": "12076802795410247755"
     },
     "user_tz": 240
    },
    "id": "nV3J3bHCBYiJ",
    "outputId": "f9133be3-367f-4419-f3eb-0b05cfaae653"
   },
   "outputs": [],
   "source": [
    "# # Nan count for each column\n",
    "# na_c = table.isna().sum(0)\n",
    "# na_col = na_c[na_c != 0]\n",
    "# for colname, row in na_col.iteritems():\n",
    "#   print(colname, row)"
   ]
  },
  {
   "cell_type": "code",
   "execution_count": 18,
   "metadata": {
    "id": "xFqXX2jAOLje"
   },
   "outputs": [],
   "source": [
    "# remove rows for columns with less than 10000 na\n",
    "# for colname, nna in na_col.iteritems():\n",
    "#   if nna < 10000:\n",
    "#     table = table[table[colname].notna()]"
   ]
  },
  {
   "cell_type": "code",
   "execution_count": 19,
   "metadata": {
    "colab": {
     "base_uri": "https://localhost:8080/",
     "height": 591
    },
    "executionInfo": {
     "elapsed": 8,
     "status": "ok",
     "timestamp": 1652112447900,
     "user": {
      "displayName": "MIA BIAN",
      "userId": "12076802795410247755"
     },
     "user_tz": 240
    },
    "id": "LzmQVsbNOj7i",
    "outputId": "f4a5bc26-69b2-4df3-cbf2-d4e5ba9fa943"
   },
   "outputs": [
    {
     "data": {
      "text/html": [
       "<div>\n",
       "<style scoped>\n",
       "    .dataframe tbody tr th:only-of-type {\n",
       "        vertical-align: middle;\n",
       "    }\n",
       "\n",
       "    .dataframe tbody tr th {\n",
       "        vertical-align: top;\n",
       "    }\n",
       "\n",
       "    .dataframe thead th {\n",
       "        text-align: right;\n",
       "    }\n",
       "</style>\n",
       "<table border=\"1\" class=\"dataframe\">\n",
       "  <thead>\n",
       "    <tr style=\"text-align: right;\">\n",
       "      <th></th>\n",
       "      <th>gender</th>\n",
       "      <th>ethnicity</th>\n",
       "      <th>age</th>\n",
       "      <th>elective_surgery</th>\n",
       "      <th>height</th>\n",
       "      <th>weight</th>\n",
       "      <th>bmi</th>\n",
       "      <th>icu_type</th>\n",
       "      <th>h1_temp_max</th>\n",
       "      <th>h1_temp_min</th>\n",
       "      <th>...</th>\n",
       "      <th>map_apache</th>\n",
       "      <th>aids</th>\n",
       "      <th>cirrhosis</th>\n",
       "      <th>hepatic_failure</th>\n",
       "      <th>immunosuppression</th>\n",
       "      <th>leukemia</th>\n",
       "      <th>lymphoma</th>\n",
       "      <th>solid_tumor_with_metastasis</th>\n",
       "      <th>ventilated_apache</th>\n",
       "      <th>diabetes_mellitus</th>\n",
       "    </tr>\n",
       "  </thead>\n",
       "  <tbody>\n",
       "    <tr>\n",
       "      <th>0</th>\n",
       "      <td>M</td>\n",
       "      <td>Caucasian</td>\n",
       "      <td>68.0</td>\n",
       "      <td>0</td>\n",
       "      <td>180.3</td>\n",
       "      <td>73.9</td>\n",
       "      <td>22.732803</td>\n",
       "      <td>CTICU</td>\n",
       "      <td>39.5</td>\n",
       "      <td>37.5</td>\n",
       "      <td>...</td>\n",
       "      <td>40.0</td>\n",
       "      <td>0</td>\n",
       "      <td>0</td>\n",
       "      <td>0</td>\n",
       "      <td>0</td>\n",
       "      <td>0</td>\n",
       "      <td>0</td>\n",
       "      <td>0</td>\n",
       "      <td>0</td>\n",
       "      <td>1</td>\n",
       "    </tr>\n",
       "    <tr>\n",
       "      <th>1</th>\n",
       "      <td>F</td>\n",
       "      <td>Caucasian</td>\n",
       "      <td>25.0</td>\n",
       "      <td>0</td>\n",
       "      <td>172.7</td>\n",
       "      <td>95.3</td>\n",
       "      <td>31.952749</td>\n",
       "      <td>Med-Surg ICU</td>\n",
       "      <td>36.7</td>\n",
       "      <td>36.7</td>\n",
       "      <td>...</td>\n",
       "      <td>68.0</td>\n",
       "      <td>0</td>\n",
       "      <td>0</td>\n",
       "      <td>0</td>\n",
       "      <td>0</td>\n",
       "      <td>0</td>\n",
       "      <td>0</td>\n",
       "      <td>0</td>\n",
       "      <td>0</td>\n",
       "      <td>0</td>\n",
       "    </tr>\n",
       "    <tr>\n",
       "      <th>2</th>\n",
       "      <td>F</td>\n",
       "      <td>Caucasian</td>\n",
       "      <td>81.0</td>\n",
       "      <td>1</td>\n",
       "      <td>165.1</td>\n",
       "      <td>61.7</td>\n",
       "      <td>22.635548</td>\n",
       "      <td>CTICU</td>\n",
       "      <td>35.6</td>\n",
       "      <td>34.8</td>\n",
       "      <td>...</td>\n",
       "      <td>60.0</td>\n",
       "      <td>0</td>\n",
       "      <td>0</td>\n",
       "      <td>0</td>\n",
       "      <td>0</td>\n",
       "      <td>0</td>\n",
       "      <td>0</td>\n",
       "      <td>0</td>\n",
       "      <td>1</td>\n",
       "      <td>0</td>\n",
       "    </tr>\n",
       "    <tr>\n",
       "      <th>3</th>\n",
       "      <td>M</td>\n",
       "      <td>Caucasian</td>\n",
       "      <td>19.0</td>\n",
       "      <td>0</td>\n",
       "      <td>188.0</td>\n",
       "      <td>NaN</td>\n",
       "      <td>NaN</td>\n",
       "      <td>Med-Surg ICU</td>\n",
       "      <td>NaN</td>\n",
       "      <td>NaN</td>\n",
       "      <td>...</td>\n",
       "      <td>103.0</td>\n",
       "      <td>0</td>\n",
       "      <td>0</td>\n",
       "      <td>0</td>\n",
       "      <td>0</td>\n",
       "      <td>0</td>\n",
       "      <td>0</td>\n",
       "      <td>0</td>\n",
       "      <td>0</td>\n",
       "      <td>0</td>\n",
       "    </tr>\n",
       "    <tr>\n",
       "      <th>4</th>\n",
       "      <td>F</td>\n",
       "      <td>Caucasian</td>\n",
       "      <td>77.0</td>\n",
       "      <td>0</td>\n",
       "      <td>160.0</td>\n",
       "      <td>70.2</td>\n",
       "      <td>27.421875</td>\n",
       "      <td>Med-Surg ICU</td>\n",
       "      <td>36.3</td>\n",
       "      <td>36.3</td>\n",
       "      <td>...</td>\n",
       "      <td>46.0</td>\n",
       "      <td>0</td>\n",
       "      <td>0</td>\n",
       "      <td>0</td>\n",
       "      <td>0</td>\n",
       "      <td>0</td>\n",
       "      <td>0</td>\n",
       "      <td>0</td>\n",
       "      <td>1</td>\n",
       "      <td>1</td>\n",
       "    </tr>\n",
       "    <tr>\n",
       "      <th>...</th>\n",
       "      <td>...</td>\n",
       "      <td>...</td>\n",
       "      <td>...</td>\n",
       "      <td>...</td>\n",
       "      <td>...</td>\n",
       "      <td>...</td>\n",
       "      <td>...</td>\n",
       "      <td>...</td>\n",
       "      <td>...</td>\n",
       "      <td>...</td>\n",
       "      <td>...</td>\n",
       "      <td>...</td>\n",
       "      <td>...</td>\n",
       "      <td>...</td>\n",
       "      <td>...</td>\n",
       "      <td>...</td>\n",
       "      <td>...</td>\n",
       "      <td>...</td>\n",
       "      <td>...</td>\n",
       "      <td>...</td>\n",
       "      <td>...</td>\n",
       "    </tr>\n",
       "    <tr>\n",
       "      <th>79154</th>\n",
       "      <td>F</td>\n",
       "      <td>Caucasian</td>\n",
       "      <td>86.0</td>\n",
       "      <td>0</td>\n",
       "      <td>167.6</td>\n",
       "      <td>86.2</td>\n",
       "      <td>30.687339</td>\n",
       "      <td>Med-Surg ICU</td>\n",
       "      <td>36.7</td>\n",
       "      <td>36.7</td>\n",
       "      <td>...</td>\n",
       "      <td>137.0</td>\n",
       "      <td>0</td>\n",
       "      <td>0</td>\n",
       "      <td>0</td>\n",
       "      <td>0</td>\n",
       "      <td>0</td>\n",
       "      <td>0</td>\n",
       "      <td>0</td>\n",
       "      <td>0</td>\n",
       "      <td>0</td>\n",
       "    </tr>\n",
       "    <tr>\n",
       "      <th>79155</th>\n",
       "      <td>F</td>\n",
       "      <td>Caucasian</td>\n",
       "      <td>55.0</td>\n",
       "      <td>0</td>\n",
       "      <td>165.1</td>\n",
       "      <td>91.7</td>\n",
       "      <td>33.641487</td>\n",
       "      <td>MICU</td>\n",
       "      <td>36.6</td>\n",
       "      <td>36.6</td>\n",
       "      <td>...</td>\n",
       "      <td>59.0</td>\n",
       "      <td>0</td>\n",
       "      <td>0</td>\n",
       "      <td>0</td>\n",
       "      <td>1</td>\n",
       "      <td>0</td>\n",
       "      <td>0</td>\n",
       "      <td>1</td>\n",
       "      <td>0</td>\n",
       "      <td>0</td>\n",
       "    </tr>\n",
       "    <tr>\n",
       "      <th>79156</th>\n",
       "      <td>M</td>\n",
       "      <td>African American</td>\n",
       "      <td>61.0</td>\n",
       "      <td>0</td>\n",
       "      <td>173.0</td>\n",
       "      <td>88.1</td>\n",
       "      <td>29.436333</td>\n",
       "      <td>CTICU</td>\n",
       "      <td>36.8</td>\n",
       "      <td>36.8</td>\n",
       "      <td>...</td>\n",
       "      <td>173.0</td>\n",
       "      <td>0</td>\n",
       "      <td>0</td>\n",
       "      <td>0</td>\n",
       "      <td>0</td>\n",
       "      <td>0</td>\n",
       "      <td>0</td>\n",
       "      <td>0</td>\n",
       "      <td>0</td>\n",
       "      <td>0</td>\n",
       "    </tr>\n",
       "    <tr>\n",
       "      <th>79157</th>\n",
       "      <td>M</td>\n",
       "      <td>Caucasian</td>\n",
       "      <td>80.0</td>\n",
       "      <td>0</td>\n",
       "      <td>175.0</td>\n",
       "      <td>84.8</td>\n",
       "      <td>27.689796</td>\n",
       "      <td>CCU-CTICU</td>\n",
       "      <td>NaN</td>\n",
       "      <td>NaN</td>\n",
       "      <td>...</td>\n",
       "      <td>54.0</td>\n",
       "      <td>0</td>\n",
       "      <td>0</td>\n",
       "      <td>0</td>\n",
       "      <td>1</td>\n",
       "      <td>0</td>\n",
       "      <td>0</td>\n",
       "      <td>0</td>\n",
       "      <td>0</td>\n",
       "      <td>0</td>\n",
       "    </tr>\n",
       "    <tr>\n",
       "      <th>79158</th>\n",
       "      <td>M</td>\n",
       "      <td>Caucasian</td>\n",
       "      <td>88.0</td>\n",
       "      <td>0</td>\n",
       "      <td>170.1</td>\n",
       "      <td>90.9</td>\n",
       "      <td>31.416316</td>\n",
       "      <td>Med-Surg ICU</td>\n",
       "      <td>36.9</td>\n",
       "      <td>35.7</td>\n",
       "      <td>...</td>\n",
       "      <td>42.0</td>\n",
       "      <td>0</td>\n",
       "      <td>0</td>\n",
       "      <td>0</td>\n",
       "      <td>0</td>\n",
       "      <td>0</td>\n",
       "      <td>0</td>\n",
       "      <td>0</td>\n",
       "      <td>1</td>\n",
       "      <td>0</td>\n",
       "    </tr>\n",
       "  </tbody>\n",
       "</table>\n",
       "<p>79159 rows × 47 columns</p>\n",
       "</div>"
      ],
      "text/plain": [
       "      gender         ethnicity   age  elective_surgery  height  weight  \\\n",
       "0          M         Caucasian  68.0                 0   180.3    73.9   \n",
       "1          F         Caucasian  25.0                 0   172.7    95.3   \n",
       "2          F         Caucasian  81.0                 1   165.1    61.7   \n",
       "3          M         Caucasian  19.0                 0   188.0     NaN   \n",
       "4          F         Caucasian  77.0                 0   160.0    70.2   \n",
       "...      ...               ...   ...               ...     ...     ...   \n",
       "79154      F         Caucasian  86.0                 0   167.6    86.2   \n",
       "79155      F         Caucasian  55.0                 0   165.1    91.7   \n",
       "79156      M  African American  61.0                 0   173.0    88.1   \n",
       "79157      M         Caucasian  80.0                 0   175.0    84.8   \n",
       "79158      M         Caucasian  88.0                 0   170.1    90.9   \n",
       "\n",
       "             bmi      icu_type  h1_temp_max  h1_temp_min  ...  map_apache  \\\n",
       "0      22.732803         CTICU         39.5         37.5  ...        40.0   \n",
       "1      31.952749  Med-Surg ICU         36.7         36.7  ...        68.0   \n",
       "2      22.635548         CTICU         35.6         34.8  ...        60.0   \n",
       "3            NaN  Med-Surg ICU          NaN          NaN  ...       103.0   \n",
       "4      27.421875  Med-Surg ICU         36.3         36.3  ...        46.0   \n",
       "...          ...           ...          ...          ...  ...         ...   \n",
       "79154  30.687339  Med-Surg ICU         36.7         36.7  ...       137.0   \n",
       "79155  33.641487          MICU         36.6         36.6  ...        59.0   \n",
       "79156  29.436333         CTICU         36.8         36.8  ...       173.0   \n",
       "79157  27.689796     CCU-CTICU          NaN          NaN  ...        54.0   \n",
       "79158  31.416316  Med-Surg ICU         36.9         35.7  ...        42.0   \n",
       "\n",
       "       aids  cirrhosis  hepatic_failure  immunosuppression  leukemia  \\\n",
       "0         0          0                0                  0         0   \n",
       "1         0          0                0                  0         0   \n",
       "2         0          0                0                  0         0   \n",
       "3         0          0                0                  0         0   \n",
       "4         0          0                0                  0         0   \n",
       "...     ...        ...              ...                ...       ...   \n",
       "79154     0          0                0                  0         0   \n",
       "79155     0          0                0                  1         0   \n",
       "79156     0          0                0                  0         0   \n",
       "79157     0          0                0                  1         0   \n",
       "79158     0          0                0                  0         0   \n",
       "\n",
       "       lymphoma  solid_tumor_with_metastasis  ventilated_apache  \\\n",
       "0             0                            0                  0   \n",
       "1             0                            0                  0   \n",
       "2             0                            0                  1   \n",
       "3             0                            0                  0   \n",
       "4             0                            0                  1   \n",
       "...         ...                          ...                ...   \n",
       "79154         0                            0                  0   \n",
       "79155         0                            1                  0   \n",
       "79156         0                            0                  0   \n",
       "79157         0                            0                  0   \n",
       "79158         0                            0                  1   \n",
       "\n",
       "       diabetes_mellitus  \n",
       "0                      1  \n",
       "1                      0  \n",
       "2                      0  \n",
       "3                      0  \n",
       "4                      1  \n",
       "...                  ...  \n",
       "79154                  0  \n",
       "79155                  0  \n",
       "79156                  0  \n",
       "79157                  0  \n",
       "79158                  0  \n",
       "\n",
       "[79159 rows x 47 columns]"
      ]
     },
     "execution_count": 19,
     "metadata": {},
     "output_type": "execute_result"
    }
   ],
   "source": [
    "table"
   ]
  },
  {
   "cell_type": "code",
   "execution_count": 20,
   "metadata": {
    "colab": {
     "base_uri": "https://localhost:8080/"
    },
    "executionInfo": {
     "elapsed": 3961,
     "status": "ok",
     "timestamp": 1652112453672,
     "user": {
      "displayName": "MIA BIAN",
      "userId": "12076802795410247755"
     },
     "user_tz": 240
    },
    "id": "1X3Xgde7XZx9",
    "outputId": "2d493ce6-f7f3-4722-e8be-966b4d8eaea6"
   },
   "outputs": [],
   "source": [
    "# table.mean(0)"
   ]
  },
  {
   "cell_type": "markdown",
   "metadata": {
    "id": "wEtgbPFxdbk-"
   },
   "source": [
    "## Check correlation between columns"
   ]
  },
  {
   "cell_type": "code",
   "execution_count": 21,
   "metadata": {
    "id": "yaZMIdTMBhJY"
   },
   "outputs": [],
   "source": [
    "import scipy"
   ]
  },
  {
   "cell_type": "code",
   "execution_count": 22,
   "metadata": {
    "colab": {
     "base_uri": "https://localhost:8080/",
     "height": 487
    },
    "executionInfo": {
     "elapsed": 1069,
     "status": "ok",
     "timestamp": 1652112457001,
     "user": {
      "displayName": "MIA BIAN",
      "userId": "12076802795410247755"
     },
     "user_tz": 240
    },
    "id": "MVRGArbQDCJs",
    "outputId": "7f83d33c-c61a-4bcd-cbbe-361c8aed79c2"
   },
   "outputs": [
    {
     "data": {
      "text/html": [
       "<div>\n",
       "<style scoped>\n",
       "    .dataframe tbody tr th:only-of-type {\n",
       "        vertical-align: middle;\n",
       "    }\n",
       "\n",
       "    .dataframe tbody tr th {\n",
       "        vertical-align: top;\n",
       "    }\n",
       "\n",
       "    .dataframe thead th {\n",
       "        text-align: right;\n",
       "    }\n",
       "</style>\n",
       "<table border=\"1\" class=\"dataframe\">\n",
       "  <thead>\n",
       "    <tr style=\"text-align: right;\">\n",
       "      <th></th>\n",
       "      <th>age</th>\n",
       "      <th>elective_surgery</th>\n",
       "      <th>height</th>\n",
       "      <th>weight</th>\n",
       "      <th>bmi</th>\n",
       "      <th>h1_temp_max</th>\n",
       "      <th>h1_temp_min</th>\n",
       "      <th>d1_albumin_max</th>\n",
       "      <th>d1_albumin_min</th>\n",
       "      <th>d1_bilirubin_max</th>\n",
       "      <th>...</th>\n",
       "      <th>map_apache</th>\n",
       "      <th>aids</th>\n",
       "      <th>cirrhosis</th>\n",
       "      <th>hepatic_failure</th>\n",
       "      <th>immunosuppression</th>\n",
       "      <th>leukemia</th>\n",
       "      <th>lymphoma</th>\n",
       "      <th>solid_tumor_with_metastasis</th>\n",
       "      <th>ventilated_apache</th>\n",
       "      <th>diabetes_mellitus</th>\n",
       "    </tr>\n",
       "  </thead>\n",
       "  <tbody>\n",
       "    <tr>\n",
       "      <th>age</th>\n",
       "      <td>1.000000</td>\n",
       "      <td>0.057143</td>\n",
       "      <td>-0.103643</td>\n",
       "      <td>-0.115393</td>\n",
       "      <td>-0.076549</td>\n",
       "      <td>-0.075809</td>\n",
       "      <td>-0.079332</td>\n",
       "      <td>-0.114196</td>\n",
       "      <td>-0.100862</td>\n",
       "      <td>-0.043473</td>\n",
       "      <td>...</td>\n",
       "      <td>-0.019156</td>\n",
       "      <td>-0.024742</td>\n",
       "      <td>-0.023932</td>\n",
       "      <td>-0.017754</td>\n",
       "      <td>0.021246</td>\n",
       "      <td>0.026687</td>\n",
       "      <td>0.023909</td>\n",
       "      <td>0.025465</td>\n",
       "      <td>0.042940</td>\n",
       "      <td>0.096345</td>\n",
       "    </tr>\n",
       "    <tr>\n",
       "      <th>elective_surgery</th>\n",
       "      <td>0.057143</td>\n",
       "      <td>1.000000</td>\n",
       "      <td>0.019779</td>\n",
       "      <td>0.021266</td>\n",
       "      <td>0.010542</td>\n",
       "      <td>-0.116192</td>\n",
       "      <td>-0.156982</td>\n",
       "      <td>-0.028581</td>\n",
       "      <td>-0.039318</td>\n",
       "      <td>-0.010255</td>\n",
       "      <td>...</td>\n",
       "      <td>-0.002491</td>\n",
       "      <td>-0.009495</td>\n",
       "      <td>-0.029320</td>\n",
       "      <td>-0.032419</td>\n",
       "      <td>-0.013430</td>\n",
       "      <td>-0.015444</td>\n",
       "      <td>-0.006665</td>\n",
       "      <td>0.016144</td>\n",
       "      <td>0.151935</td>\n",
       "      <td>-0.006135</td>\n",
       "    </tr>\n",
       "    <tr>\n",
       "      <th>height</th>\n",
       "      <td>-0.103643</td>\n",
       "      <td>0.019779</td>\n",
       "      <td>1.000000</td>\n",
       "      <td>0.377559</td>\n",
       "      <td>-0.067847</td>\n",
       "      <td>0.005849</td>\n",
       "      <td>0.006787</td>\n",
       "      <td>0.065960</td>\n",
       "      <td>0.063961</td>\n",
       "      <td>0.045008</td>\n",
       "      <td>...</td>\n",
       "      <td>0.031523</td>\n",
       "      <td>0.011904</td>\n",
       "      <td>0.010044</td>\n",
       "      <td>0.010534</td>\n",
       "      <td>0.000268</td>\n",
       "      <td>0.003372</td>\n",
       "      <td>-0.001570</td>\n",
       "      <td>0.007566</td>\n",
       "      <td>0.007898</td>\n",
       "      <td>-0.003211</td>\n",
       "    </tr>\n",
       "    <tr>\n",
       "      <th>weight</th>\n",
       "      <td>-0.115393</td>\n",
       "      <td>0.021266</td>\n",
       "      <td>0.377559</td>\n",
       "      <td>1.000000</td>\n",
       "      <td>0.880325</td>\n",
       "      <td>0.037996</td>\n",
       "      <td>0.040829</td>\n",
       "      <td>0.074827</td>\n",
       "      <td>0.077174</td>\n",
       "      <td>0.022858</td>\n",
       "      <td>...</td>\n",
       "      <td>0.068968</td>\n",
       "      <td>-0.015591</td>\n",
       "      <td>0.000082</td>\n",
       "      <td>0.003201</td>\n",
       "      <td>-0.029353</td>\n",
       "      <td>-0.012408</td>\n",
       "      <td>-0.008141</td>\n",
       "      <td>-0.037797</td>\n",
       "      <td>0.081363</td>\n",
       "      <td>0.176991</td>\n",
       "    </tr>\n",
       "    <tr>\n",
       "      <th>bmi</th>\n",
       "      <td>-0.076549</td>\n",
       "      <td>0.010542</td>\n",
       "      <td>-0.067847</td>\n",
       "      <td>0.880325</td>\n",
       "      <td>1.000000</td>\n",
       "      <td>0.037196</td>\n",
       "      <td>0.040007</td>\n",
       "      <td>0.049015</td>\n",
       "      <td>0.052217</td>\n",
       "      <td>0.003939</td>\n",
       "      <td>...</td>\n",
       "      <td>0.058351</td>\n",
       "      <td>-0.020096</td>\n",
       "      <td>-0.004227</td>\n",
       "      <td>-0.002211</td>\n",
       "      <td>-0.030053</td>\n",
       "      <td>-0.013489</td>\n",
       "      <td>-0.008678</td>\n",
       "      <td>-0.042373</td>\n",
       "      <td>0.083071</td>\n",
       "      <td>0.189785</td>\n",
       "    </tr>\n",
       "    <tr>\n",
       "      <th>h1_temp_max</th>\n",
       "      <td>-0.075809</td>\n",
       "      <td>-0.116192</td>\n",
       "      <td>0.005849</td>\n",
       "      <td>0.037996</td>\n",
       "      <td>0.037196</td>\n",
       "      <td>1.000000</td>\n",
       "      <td>0.864388</td>\n",
       "      <td>-0.033330</td>\n",
       "      <td>-0.016865</td>\n",
       "      <td>-0.006205</td>\n",
       "      <td>...</td>\n",
       "      <td>-0.010277</td>\n",
       "      <td>0.014980</td>\n",
       "      <td>-0.011501</td>\n",
       "      <td>-0.011499</td>\n",
       "      <td>0.027746</td>\n",
       "      <td>0.023923</td>\n",
       "      <td>0.010111</td>\n",
       "      <td>0.004753</td>\n",
       "      <td>-0.094790</td>\n",
       "      <td>-0.007556</td>\n",
       "    </tr>\n",
       "    <tr>\n",
       "      <th>h1_temp_min</th>\n",
       "      <td>-0.079332</td>\n",
       "      <td>-0.156982</td>\n",
       "      <td>0.006787</td>\n",
       "      <td>0.040829</td>\n",
       "      <td>0.040007</td>\n",
       "      <td>0.864388</td>\n",
       "      <td>1.000000</td>\n",
       "      <td>-0.002778</td>\n",
       "      <td>0.017786</td>\n",
       "      <td>-0.016444</td>\n",
       "      <td>...</td>\n",
       "      <td>-0.002279</td>\n",
       "      <td>0.013232</td>\n",
       "      <td>-0.010854</td>\n",
       "      <td>-0.011861</td>\n",
       "      <td>0.025082</td>\n",
       "      <td>0.015079</td>\n",
       "      <td>0.005724</td>\n",
       "      <td>0.005493</td>\n",
       "      <td>-0.136634</td>\n",
       "      <td>-0.009974</td>\n",
       "    </tr>\n",
       "    <tr>\n",
       "      <th>d1_albumin_max</th>\n",
       "      <td>-0.114196</td>\n",
       "      <td>-0.028581</td>\n",
       "      <td>0.065960</td>\n",
       "      <td>0.074827</td>\n",
       "      <td>0.049015</td>\n",
       "      <td>-0.033330</td>\n",
       "      <td>-0.002778</td>\n",
       "      <td>1.000000</td>\n",
       "      <td>0.913524</td>\n",
       "      <td>-0.106800</td>\n",
       "      <td>...</td>\n",
       "      <td>0.146820</td>\n",
       "      <td>-0.035533</td>\n",
       "      <td>-0.091648</td>\n",
       "      <td>-0.074609</td>\n",
       "      <td>-0.081830</td>\n",
       "      <td>-0.035157</td>\n",
       "      <td>-0.027627</td>\n",
       "      <td>-0.082339</td>\n",
       "      <td>-0.106391</td>\n",
       "      <td>-0.025078</td>\n",
       "    </tr>\n",
       "    <tr>\n",
       "      <th>d1_albumin_min</th>\n",
       "      <td>-0.100862</td>\n",
       "      <td>-0.039318</td>\n",
       "      <td>0.063961</td>\n",
       "      <td>0.077174</td>\n",
       "      <td>0.052217</td>\n",
       "      <td>-0.016865</td>\n",
       "      <td>0.017786</td>\n",
       "      <td>0.913524</td>\n",
       "      <td>1.000000</td>\n",
       "      <td>-0.131560</td>\n",
       "      <td>...</td>\n",
       "      <td>0.143143</td>\n",
       "      <td>-0.034699</td>\n",
       "      <td>-0.099656</td>\n",
       "      <td>-0.081725</td>\n",
       "      <td>-0.080442</td>\n",
       "      <td>-0.035659</td>\n",
       "      <td>-0.028319</td>\n",
       "      <td>-0.082193</td>\n",
       "      <td>-0.139522</td>\n",
       "      <td>-0.026017</td>\n",
       "    </tr>\n",
       "    <tr>\n",
       "      <th>d1_bilirubin_max</th>\n",
       "      <td>-0.043473</td>\n",
       "      <td>-0.010255</td>\n",
       "      <td>0.045008</td>\n",
       "      <td>0.022858</td>\n",
       "      <td>0.003939</td>\n",
       "      <td>-0.006205</td>\n",
       "      <td>-0.016444</td>\n",
       "      <td>-0.106800</td>\n",
       "      <td>-0.131560</td>\n",
       "      <td>1.000000</td>\n",
       "      <td>...</td>\n",
       "      <td>-0.062766</td>\n",
       "      <td>0.009275</td>\n",
       "      <td>0.264096</td>\n",
       "      <td>0.265126</td>\n",
       "      <td>0.023997</td>\n",
       "      <td>0.015161</td>\n",
       "      <td>0.006329</td>\n",
       "      <td>0.035995</td>\n",
       "      <td>0.008732</td>\n",
       "      <td>-0.048914</td>\n",
       "    </tr>\n",
       "    <tr>\n",
       "      <th>d1_bilirubin_min</th>\n",
       "      <td>-0.039731</td>\n",
       "      <td>-0.018592</td>\n",
       "      <td>0.045128</td>\n",
       "      <td>0.023115</td>\n",
       "      <td>0.004086</td>\n",
       "      <td>-0.003135</td>\n",
       "      <td>-0.010914</td>\n",
       "      <td>-0.108918</td>\n",
       "      <td>-0.116901</td>\n",
       "      <td>0.986558</td>\n",
       "      <td>...</td>\n",
       "      <td>-0.064281</td>\n",
       "      <td>0.009534</td>\n",
       "      <td>0.256414</td>\n",
       "      <td>0.261025</td>\n",
       "      <td>0.023280</td>\n",
       "      <td>0.013875</td>\n",
       "      <td>0.003432</td>\n",
       "      <td>0.035965</td>\n",
       "      <td>-0.006529</td>\n",
       "      <td>-0.047708</td>\n",
       "    </tr>\n",
       "    <tr>\n",
       "      <th>d1_bun_max</th>\n",
       "      <td>0.230143</td>\n",
       "      <td>-0.165952</td>\n",
       "      <td>0.013721</td>\n",
       "      <td>0.060640</td>\n",
       "      <td>0.058780</td>\n",
       "      <td>-0.081240</td>\n",
       "      <td>-0.078980</td>\n",
       "      <td>-0.187186</td>\n",
       "      <td>-0.205582</td>\n",
       "      <td>0.109430</td>\n",
       "      <td>...</td>\n",
       "      <td>-0.073520</td>\n",
       "      <td>0.006741</td>\n",
       "      <td>0.042424</td>\n",
       "      <td>0.046927</td>\n",
       "      <td>0.015621</td>\n",
       "      <td>0.029234</td>\n",
       "      <td>0.006775</td>\n",
       "      <td>0.005542</td>\n",
       "      <td>0.063933</td>\n",
       "      <td>0.163999</td>\n",
       "    </tr>\n",
       "    <tr>\n",
       "      <th>d1_bun_min</th>\n",
       "      <td>0.261401</td>\n",
       "      <td>-0.165527</td>\n",
       "      <td>0.013420</td>\n",
       "      <td>0.068258</td>\n",
       "      <td>0.067368</td>\n",
       "      <td>-0.070074</td>\n",
       "      <td>-0.064857</td>\n",
       "      <td>-0.203519</td>\n",
       "      <td>-0.204796</td>\n",
       "      <td>0.104986</td>\n",
       "      <td>...</td>\n",
       "      <td>-0.074836</td>\n",
       "      <td>0.005877</td>\n",
       "      <td>0.042860</td>\n",
       "      <td>0.047666</td>\n",
       "      <td>0.020489</td>\n",
       "      <td>0.029447</td>\n",
       "      <td>0.009532</td>\n",
       "      <td>0.008084</td>\n",
       "      <td>0.051418</td>\n",
       "      <td>0.153256</td>\n",
       "    </tr>\n",
       "    <tr>\n",
       "      <th>d1_glucose_min</th>\n",
       "      <td>0.056367</td>\n",
       "      <td>-0.010912</td>\n",
       "      <td>0.019099</td>\n",
       "      <td>0.136099</td>\n",
       "      <td>0.135010</td>\n",
       "      <td>0.049272</td>\n",
       "      <td>0.051715</td>\n",
       "      <td>0.028254</td>\n",
       "      <td>0.039785</td>\n",
       "      <td>-0.064396</td>\n",
       "      <td>...</td>\n",
       "      <td>0.052506</td>\n",
       "      <td>-0.009612</td>\n",
       "      <td>-0.011626</td>\n",
       "      <td>-0.014142</td>\n",
       "      <td>0.007918</td>\n",
       "      <td>-0.004929</td>\n",
       "      <td>0.000908</td>\n",
       "      <td>0.012669</td>\n",
       "      <td>-0.018556</td>\n",
       "      <td>0.146605</td>\n",
       "    </tr>\n",
       "    <tr>\n",
       "      <th>d1_hco3_max</th>\n",
       "      <td>0.076061</td>\n",
       "      <td>-0.005952</td>\n",
       "      <td>0.022542</td>\n",
       "      <td>0.107722</td>\n",
       "      <td>0.105355</td>\n",
       "      <td>0.054873</td>\n",
       "      <td>0.071163</td>\n",
       "      <td>0.154458</td>\n",
       "      <td>0.171319</td>\n",
       "      <td>-0.117873</td>\n",
       "      <td>...</td>\n",
       "      <td>0.056385</td>\n",
       "      <td>-0.011793</td>\n",
       "      <td>-0.044336</td>\n",
       "      <td>-0.043049</td>\n",
       "      <td>-0.015433</td>\n",
       "      <td>-0.024012</td>\n",
       "      <td>0.005089</td>\n",
       "      <td>-0.018591</td>\n",
       "      <td>0.019543</td>\n",
       "      <td>-0.010078</td>\n",
       "    </tr>\n",
       "    <tr>\n",
       "      <th>d1_hco3_min</th>\n",
       "      <td>0.123345</td>\n",
       "      <td>0.013276</td>\n",
       "      <td>0.019307</td>\n",
       "      <td>0.110911</td>\n",
       "      <td>0.110421</td>\n",
       "      <td>0.092501</td>\n",
       "      <td>0.116168</td>\n",
       "      <td>0.132183</td>\n",
       "      <td>0.191015</td>\n",
       "      <td>-0.130346</td>\n",
       "      <td>...</td>\n",
       "      <td>0.058702</td>\n",
       "      <td>-0.010855</td>\n",
       "      <td>-0.042849</td>\n",
       "      <td>-0.039126</td>\n",
       "      <td>-0.010674</td>\n",
       "      <td>-0.019388</td>\n",
       "      <td>0.006951</td>\n",
       "      <td>-0.007140</td>\n",
       "      <td>-0.040711</td>\n",
       "      <td>-0.055038</td>\n",
       "    </tr>\n",
       "    <tr>\n",
       "      <th>d1_platelets_max</th>\n",
       "      <td>-0.086981</td>\n",
       "      <td>-0.058859</td>\n",
       "      <td>-0.080846</td>\n",
       "      <td>-0.012986</td>\n",
       "      <td>0.022902</td>\n",
       "      <td>0.010538</td>\n",
       "      <td>0.026004</td>\n",
       "      <td>0.006656</td>\n",
       "      <td>0.006580</td>\n",
       "      <td>-0.167431</td>\n",
       "      <td>...</td>\n",
       "      <td>0.051599</td>\n",
       "      <td>-0.018124</td>\n",
       "      <td>-0.121931</td>\n",
       "      <td>-0.099021</td>\n",
       "      <td>-0.045742</td>\n",
       "      <td>-0.068728</td>\n",
       "      <td>-0.031130</td>\n",
       "      <td>-0.009835</td>\n",
       "      <td>-0.041424</td>\n",
       "      <td>0.024992</td>\n",
       "    </tr>\n",
       "    <tr>\n",
       "      <th>d1_platelets_min</th>\n",
       "      <td>-0.085631</td>\n",
       "      <td>-0.091498</td>\n",
       "      <td>-0.080484</td>\n",
       "      <td>-0.010540</td>\n",
       "      <td>0.025486</td>\n",
       "      <td>0.033812</td>\n",
       "      <td>0.056103</td>\n",
       "      <td>0.020632</td>\n",
       "      <td>0.045169</td>\n",
       "      <td>-0.185128</td>\n",
       "      <td>...</td>\n",
       "      <td>0.057308</td>\n",
       "      <td>-0.017566</td>\n",
       "      <td>-0.125675</td>\n",
       "      <td>-0.103738</td>\n",
       "      <td>-0.045970</td>\n",
       "      <td>-0.070942</td>\n",
       "      <td>-0.029250</td>\n",
       "      <td>-0.009390</td>\n",
       "      <td>-0.098815</td>\n",
       "      <td>0.026982</td>\n",
       "    </tr>\n",
       "    <tr>\n",
       "      <th>d1_potassium_max</th>\n",
       "      <td>0.054852</td>\n",
       "      <td>0.078191</td>\n",
       "      <td>0.047711</td>\n",
       "      <td>0.104514</td>\n",
       "      <td>0.089252</td>\n",
       "      <td>-0.123683</td>\n",
       "      <td>-0.131981</td>\n",
       "      <td>-0.001361</td>\n",
       "      <td>-0.044506</td>\n",
       "      <td>0.035222</td>\n",
       "      <td>...</td>\n",
       "      <td>-0.040722</td>\n",
       "      <td>0.000142</td>\n",
       "      <td>0.026214</td>\n",
       "      <td>0.020021</td>\n",
       "      <td>-0.000705</td>\n",
       "      <td>0.008336</td>\n",
       "      <td>0.001900</td>\n",
       "      <td>-0.001637</td>\n",
       "      <td>0.155199</td>\n",
       "      <td>0.108835</td>\n",
       "    </tr>\n",
       "    <tr>\n",
       "      <th>d1_potassium_min</th>\n",
       "      <td>0.120193</td>\n",
       "      <td>0.034630</td>\n",
       "      <td>0.054000</td>\n",
       "      <td>0.118616</td>\n",
       "      <td>0.101970</td>\n",
       "      <td>-0.033208</td>\n",
       "      <td>-0.015308</td>\n",
       "      <td>0.008770</td>\n",
       "      <td>0.031978</td>\n",
       "      <td>-0.010901</td>\n",
       "      <td>...</td>\n",
       "      <td>-0.024867</td>\n",
       "      <td>0.000159</td>\n",
       "      <td>0.020733</td>\n",
       "      <td>0.013660</td>\n",
       "      <td>0.006228</td>\n",
       "      <td>0.002633</td>\n",
       "      <td>0.005261</td>\n",
       "      <td>0.013999</td>\n",
       "      <td>-0.023460</td>\n",
       "      <td>0.041744</td>\n",
       "    </tr>\n",
       "    <tr>\n",
       "      <th>d1_sodium_max</th>\n",
       "      <td>0.003539</td>\n",
       "      <td>0.060595</td>\n",
       "      <td>-0.027681</td>\n",
       "      <td>-0.044329</td>\n",
       "      <td>-0.033246</td>\n",
       "      <td>-0.062617</td>\n",
       "      <td>-0.083432</td>\n",
       "      <td>-0.016466</td>\n",
       "      <td>-0.049467</td>\n",
       "      <td>-0.080430</td>\n",
       "      <td>...</td>\n",
       "      <td>0.006616</td>\n",
       "      <td>-0.007652</td>\n",
       "      <td>-0.035281</td>\n",
       "      <td>-0.022376</td>\n",
       "      <td>-0.030397</td>\n",
       "      <td>-0.010816</td>\n",
       "      <td>-0.011628</td>\n",
       "      <td>-0.030873</td>\n",
       "      <td>0.178732</td>\n",
       "      <td>-0.021738</td>\n",
       "    </tr>\n",
       "    <tr>\n",
       "      <th>d1_sodium_min</th>\n",
       "      <td>0.049364</td>\n",
       "      <td>0.043141</td>\n",
       "      <td>-0.029055</td>\n",
       "      <td>-0.031237</td>\n",
       "      <td>-0.018821</td>\n",
       "      <td>-0.013409</td>\n",
       "      <td>-0.020858</td>\n",
       "      <td>-0.011654</td>\n",
       "      <td>0.001253</td>\n",
       "      <td>-0.112277</td>\n",
       "      <td>...</td>\n",
       "      <td>0.017614</td>\n",
       "      <td>-0.008500</td>\n",
       "      <td>-0.041946</td>\n",
       "      <td>-0.024387</td>\n",
       "      <td>-0.022073</td>\n",
       "      <td>-0.008114</td>\n",
       "      <td>-0.010918</td>\n",
       "      <td>-0.026331</td>\n",
       "      <td>0.080501</td>\n",
       "      <td>-0.059686</td>\n",
       "    </tr>\n",
       "    <tr>\n",
       "      <th>d1_wbc_max</th>\n",
       "      <td>-0.007673</td>\n",
       "      <td>0.095397</td>\n",
       "      <td>-0.008614</td>\n",
       "      <td>0.018765</td>\n",
       "      <td>0.024534</td>\n",
       "      <td>-0.000586</td>\n",
       "      <td>-0.024627</td>\n",
       "      <td>-0.147177</td>\n",
       "      <td>-0.179643</td>\n",
       "      <td>0.065420</td>\n",
       "      <td>...</td>\n",
       "      <td>-0.035546</td>\n",
       "      <td>-0.020774</td>\n",
       "      <td>-0.024606</td>\n",
       "      <td>-0.017637</td>\n",
       "      <td>-0.032584</td>\n",
       "      <td>0.013276</td>\n",
       "      <td>-0.017067</td>\n",
       "      <td>-0.006368</td>\n",
       "      <td>0.180748</td>\n",
       "      <td>0.005033</td>\n",
       "    </tr>\n",
       "    <tr>\n",
       "      <th>d1_wbc_min</th>\n",
       "      <td>-0.006147</td>\n",
       "      <td>0.036645</td>\n",
       "      <td>-0.013818</td>\n",
       "      <td>0.019469</td>\n",
       "      <td>0.027779</td>\n",
       "      <td>0.038214</td>\n",
       "      <td>0.022643</td>\n",
       "      <td>-0.139467</td>\n",
       "      <td>-0.142867</td>\n",
       "      <td>0.044442</td>\n",
       "      <td>...</td>\n",
       "      <td>-0.024875</td>\n",
       "      <td>-0.020988</td>\n",
       "      <td>-0.032595</td>\n",
       "      <td>-0.027099</td>\n",
       "      <td>-0.032001</td>\n",
       "      <td>0.007965</td>\n",
       "      <td>-0.016017</td>\n",
       "      <td>-0.003854</td>\n",
       "      <td>0.098175</td>\n",
       "      <td>0.010251</td>\n",
       "    </tr>\n",
       "    <tr>\n",
       "      <th>h1_glucose_max</th>\n",
       "      <td>-0.101121</td>\n",
       "      <td>-0.126797</td>\n",
       "      <td>0.001519</td>\n",
       "      <td>0.044103</td>\n",
       "      <td>0.046341</td>\n",
       "      <td>-0.023407</td>\n",
       "      <td>-0.022542</td>\n",
       "      <td>0.025349</td>\n",
       "      <td>0.005973</td>\n",
       "      <td>-0.071635</td>\n",
       "      <td>...</td>\n",
       "      <td>0.012800</td>\n",
       "      <td>-0.008996</td>\n",
       "      <td>-0.018065</td>\n",
       "      <td>-0.016779</td>\n",
       "      <td>-0.020395</td>\n",
       "      <td>-0.011447</td>\n",
       "      <td>-0.003693</td>\n",
       "      <td>-0.022351</td>\n",
       "      <td>-0.042439</td>\n",
       "      <td>0.318336</td>\n",
       "    </tr>\n",
       "    <tr>\n",
       "      <th>h1_glucose_min</th>\n",
       "      <td>-0.081876</td>\n",
       "      <td>-0.142241</td>\n",
       "      <td>0.005345</td>\n",
       "      <td>0.057470</td>\n",
       "      <td>0.059030</td>\n",
       "      <td>-0.010773</td>\n",
       "      <td>-0.006537</td>\n",
       "      <td>0.026722</td>\n",
       "      <td>0.013782</td>\n",
       "      <td>-0.076034</td>\n",
       "      <td>...</td>\n",
       "      <td>0.019692</td>\n",
       "      <td>-0.010504</td>\n",
       "      <td>-0.014784</td>\n",
       "      <td>-0.016270</td>\n",
       "      <td>-0.017429</td>\n",
       "      <td>-0.010063</td>\n",
       "      <td>-0.001119</td>\n",
       "      <td>-0.020276</td>\n",
       "      <td>-0.054711</td>\n",
       "      <td>0.305216</td>\n",
       "    </tr>\n",
       "    <tr>\n",
       "      <th>wbc_apache</th>\n",
       "      <td>-0.013990</td>\n",
       "      <td>0.075042</td>\n",
       "      <td>-0.010495</td>\n",
       "      <td>0.023919</td>\n",
       "      <td>0.030939</td>\n",
       "      <td>0.010995</td>\n",
       "      <td>-0.009148</td>\n",
       "      <td>-0.143062</td>\n",
       "      <td>-0.167242</td>\n",
       "      <td>0.056814</td>\n",
       "      <td>...</td>\n",
       "      <td>-0.031568</td>\n",
       "      <td>-0.017482</td>\n",
       "      <td>-0.031588</td>\n",
       "      <td>-0.020565</td>\n",
       "      <td>-0.033541</td>\n",
       "      <td>0.005860</td>\n",
       "      <td>-0.017140</td>\n",
       "      <td>-0.005140</td>\n",
       "      <td>0.155980</td>\n",
       "      <td>0.005243</td>\n",
       "    </tr>\n",
       "    <tr>\n",
       "      <th>intubated_apache</th>\n",
       "      <td>0.010100</td>\n",
       "      <td>0.171894</td>\n",
       "      <td>0.026113</td>\n",
       "      <td>0.049994</td>\n",
       "      <td>0.041345</td>\n",
       "      <td>-0.099052</td>\n",
       "      <td>-0.136639</td>\n",
       "      <td>-0.081127</td>\n",
       "      <td>-0.114376</td>\n",
       "      <td>0.022625</td>\n",
       "      <td>...</td>\n",
       "      <td>-0.014966</td>\n",
       "      <td>0.003281</td>\n",
       "      <td>0.007041</td>\n",
       "      <td>0.001651</td>\n",
       "      <td>-0.005970</td>\n",
       "      <td>0.000674</td>\n",
       "      <td>-0.004544</td>\n",
       "      <td>-0.011294</td>\n",
       "      <td>0.608978</td>\n",
       "      <td>0.001355</td>\n",
       "    </tr>\n",
       "    <tr>\n",
       "      <th>d1_heartrate_max</th>\n",
       "      <td>-0.145060</td>\n",
       "      <td>-0.076681</td>\n",
       "      <td>-0.017942</td>\n",
       "      <td>-0.034512</td>\n",
       "      <td>-0.027934</td>\n",
       "      <td>0.139449</td>\n",
       "      <td>0.115342</td>\n",
       "      <td>-0.175175</td>\n",
       "      <td>-0.204963</td>\n",
       "      <td>0.048602</td>\n",
       "      <td>...</td>\n",
       "      <td>0.013923</td>\n",
       "      <td>0.013944</td>\n",
       "      <td>0.009157</td>\n",
       "      <td>0.009218</td>\n",
       "      <td>0.060393</td>\n",
       "      <td>0.024521</td>\n",
       "      <td>0.020939</td>\n",
       "      <td>0.040868</td>\n",
       "      <td>0.154729</td>\n",
       "      <td>-0.031309</td>\n",
       "    </tr>\n",
       "    <tr>\n",
       "      <th>heart_rate_apache</th>\n",
       "      <td>-0.157473</td>\n",
       "      <td>-0.071603</td>\n",
       "      <td>-0.021036</td>\n",
       "      <td>-0.030151</td>\n",
       "      <td>-0.021731</td>\n",
       "      <td>0.144360</td>\n",
       "      <td>0.131888</td>\n",
       "      <td>-0.137132</td>\n",
       "      <td>-0.161638</td>\n",
       "      <td>0.048872</td>\n",
       "      <td>...</td>\n",
       "      <td>0.036477</td>\n",
       "      <td>0.009431</td>\n",
       "      <td>0.008364</td>\n",
       "      <td>0.009347</td>\n",
       "      <td>0.054499</td>\n",
       "      <td>0.021789</td>\n",
       "      <td>0.015912</td>\n",
       "      <td>0.036861</td>\n",
       "      <td>0.112677</td>\n",
       "      <td>-0.022827</td>\n",
       "    </tr>\n",
       "    <tr>\n",
       "      <th>gcs_motor_apache</th>\n",
       "      <td>0.018943</td>\n",
       "      <td>0.025484</td>\n",
       "      <td>-0.011201</td>\n",
       "      <td>0.013432</td>\n",
       "      <td>0.019004</td>\n",
       "      <td>0.120324</td>\n",
       "      <td>0.154287</td>\n",
       "      <td>0.062309</td>\n",
       "      <td>0.095330</td>\n",
       "      <td>-0.023492</td>\n",
       "      <td>...</td>\n",
       "      <td>-0.007418</td>\n",
       "      <td>-0.005544</td>\n",
       "      <td>-0.006124</td>\n",
       "      <td>-0.005976</td>\n",
       "      <td>0.017588</td>\n",
       "      <td>-0.000028</td>\n",
       "      <td>0.005831</td>\n",
       "      <td>0.014588</td>\n",
       "      <td>-0.416855</td>\n",
       "      <td>0.025887</td>\n",
       "    </tr>\n",
       "    <tr>\n",
       "      <th>gcs_eyes_apache</th>\n",
       "      <td>0.019003</td>\n",
       "      <td>0.018401</td>\n",
       "      <td>-0.008341</td>\n",
       "      <td>0.003641</td>\n",
       "      <td>0.006753</td>\n",
       "      <td>0.096275</td>\n",
       "      <td>0.128594</td>\n",
       "      <td>0.068236</td>\n",
       "      <td>0.101435</td>\n",
       "      <td>-0.031292</td>\n",
       "      <td>...</td>\n",
       "      <td>-0.007961</td>\n",
       "      <td>-0.002761</td>\n",
       "      <td>-0.012408</td>\n",
       "      <td>-0.012381</td>\n",
       "      <td>0.017753</td>\n",
       "      <td>-0.002324</td>\n",
       "      <td>0.006338</td>\n",
       "      <td>0.012128</td>\n",
       "      <td>-0.462132</td>\n",
       "      <td>0.026805</td>\n",
       "    </tr>\n",
       "    <tr>\n",
       "      <th>creatinine_apache</th>\n",
       "      <td>0.056167</td>\n",
       "      <td>-0.108874</td>\n",
       "      <td>0.052127</td>\n",
       "      <td>0.089264</td>\n",
       "      <td>0.072074</td>\n",
       "      <td>-0.056529</td>\n",
       "      <td>-0.055371</td>\n",
       "      <td>-0.094721</td>\n",
       "      <td>-0.115155</td>\n",
       "      <td>0.071315</td>\n",
       "      <td>...</td>\n",
       "      <td>-0.004818</td>\n",
       "      <td>0.023865</td>\n",
       "      <td>0.021263</td>\n",
       "      <td>0.020622</td>\n",
       "      <td>-0.004659</td>\n",
       "      <td>0.018358</td>\n",
       "      <td>-0.005293</td>\n",
       "      <td>-0.015000</td>\n",
       "      <td>0.033532</td>\n",
       "      <td>0.138586</td>\n",
       "    </tr>\n",
       "    <tr>\n",
       "      <th>h1_spo2_max</th>\n",
       "      <td>-0.062896</td>\n",
       "      <td>0.100866</td>\n",
       "      <td>-0.013316</td>\n",
       "      <td>-0.070004</td>\n",
       "      <td>-0.068713</td>\n",
       "      <td>-0.046017</td>\n",
       "      <td>-0.061390</td>\n",
       "      <td>0.007559</td>\n",
       "      <td>0.003673</td>\n",
       "      <td>-0.019975</td>\n",
       "      <td>...</td>\n",
       "      <td>-0.011250</td>\n",
       "      <td>0.001692</td>\n",
       "      <td>0.007578</td>\n",
       "      <td>0.011178</td>\n",
       "      <td>-0.011745</td>\n",
       "      <td>0.002152</td>\n",
       "      <td>-0.002275</td>\n",
       "      <td>-0.001621</td>\n",
       "      <td>0.076682</td>\n",
       "      <td>0.017848</td>\n",
       "    </tr>\n",
       "    <tr>\n",
       "      <th>map_apache</th>\n",
       "      <td>-0.019156</td>\n",
       "      <td>-0.002491</td>\n",
       "      <td>0.031523</td>\n",
       "      <td>0.068968</td>\n",
       "      <td>0.058351</td>\n",
       "      <td>-0.010277</td>\n",
       "      <td>-0.002279</td>\n",
       "      <td>0.146820</td>\n",
       "      <td>0.143143</td>\n",
       "      <td>-0.062766</td>\n",
       "      <td>...</td>\n",
       "      <td>1.000000</td>\n",
       "      <td>-0.001692</td>\n",
       "      <td>-0.030688</td>\n",
       "      <td>-0.038238</td>\n",
       "      <td>-0.015010</td>\n",
       "      <td>-0.016077</td>\n",
       "      <td>-0.012881</td>\n",
       "      <td>-0.010130</td>\n",
       "      <td>-0.022228</td>\n",
       "      <td>0.001863</td>\n",
       "    </tr>\n",
       "    <tr>\n",
       "      <th>aids</th>\n",
       "      <td>-0.024742</td>\n",
       "      <td>-0.009495</td>\n",
       "      <td>0.011904</td>\n",
       "      <td>-0.015591</td>\n",
       "      <td>-0.020096</td>\n",
       "      <td>0.014980</td>\n",
       "      <td>0.013232</td>\n",
       "      <td>-0.035533</td>\n",
       "      <td>-0.034699</td>\n",
       "      <td>0.009275</td>\n",
       "      <td>...</td>\n",
       "      <td>-0.001692</td>\n",
       "      <td>1.000000</td>\n",
       "      <td>0.006476</td>\n",
       "      <td>0.000349</td>\n",
       "      <td>0.012036</td>\n",
       "      <td>-0.002482</td>\n",
       "      <td>0.005017</td>\n",
       "      <td>-0.001140</td>\n",
       "      <td>0.000996</td>\n",
       "      <td>-0.011403</td>\n",
       "    </tr>\n",
       "    <tr>\n",
       "      <th>cirrhosis</th>\n",
       "      <td>-0.023932</td>\n",
       "      <td>-0.029320</td>\n",
       "      <td>0.010044</td>\n",
       "      <td>0.000082</td>\n",
       "      <td>-0.004227</td>\n",
       "      <td>-0.011501</td>\n",
       "      <td>-0.010854</td>\n",
       "      <td>-0.091648</td>\n",
       "      <td>-0.099656</td>\n",
       "      <td>0.264096</td>\n",
       "      <td>...</td>\n",
       "      <td>-0.030688</td>\n",
       "      <td>0.006476</td>\n",
       "      <td>1.000000</td>\n",
       "      <td>0.539841</td>\n",
       "      <td>0.004025</td>\n",
       "      <td>-0.000802</td>\n",
       "      <td>-0.003708</td>\n",
       "      <td>-0.001722</td>\n",
       "      <td>0.002394</td>\n",
       "      <td>0.017393</td>\n",
       "    </tr>\n",
       "    <tr>\n",
       "      <th>hepatic_failure</th>\n",
       "      <td>-0.017754</td>\n",
       "      <td>-0.032419</td>\n",
       "      <td>0.010534</td>\n",
       "      <td>0.003201</td>\n",
       "      <td>-0.002211</td>\n",
       "      <td>-0.011499</td>\n",
       "      <td>-0.011861</td>\n",
       "      <td>-0.074609</td>\n",
       "      <td>-0.081725</td>\n",
       "      <td>0.265126</td>\n",
       "      <td>...</td>\n",
       "      <td>-0.038238</td>\n",
       "      <td>0.000349</td>\n",
       "      <td>0.539841</td>\n",
       "      <td>1.000000</td>\n",
       "      <td>0.003027</td>\n",
       "      <td>-0.001236</td>\n",
       "      <td>-0.002450</td>\n",
       "      <td>0.010946</td>\n",
       "      <td>-0.001032</td>\n",
       "      <td>0.012481</td>\n",
       "    </tr>\n",
       "    <tr>\n",
       "      <th>immunosuppression</th>\n",
       "      <td>0.021246</td>\n",
       "      <td>-0.013430</td>\n",
       "      <td>0.000268</td>\n",
       "      <td>-0.029353</td>\n",
       "      <td>-0.030053</td>\n",
       "      <td>0.027746</td>\n",
       "      <td>0.025082</td>\n",
       "      <td>-0.081830</td>\n",
       "      <td>-0.080442</td>\n",
       "      <td>0.023997</td>\n",
       "      <td>...</td>\n",
       "      <td>-0.015010</td>\n",
       "      <td>0.012036</td>\n",
       "      <td>0.004025</td>\n",
       "      <td>0.003027</td>\n",
       "      <td>1.000000</td>\n",
       "      <td>0.140597</td>\n",
       "      <td>0.092993</td>\n",
       "      <td>0.280555</td>\n",
       "      <td>-0.003492</td>\n",
       "      <td>-0.002933</td>\n",
       "    </tr>\n",
       "    <tr>\n",
       "      <th>leukemia</th>\n",
       "      <td>0.026687</td>\n",
       "      <td>-0.015444</td>\n",
       "      <td>0.003372</td>\n",
       "      <td>-0.012408</td>\n",
       "      <td>-0.013489</td>\n",
       "      <td>0.023923</td>\n",
       "      <td>0.015079</td>\n",
       "      <td>-0.035157</td>\n",
       "      <td>-0.035659</td>\n",
       "      <td>0.015161</td>\n",
       "      <td>...</td>\n",
       "      <td>-0.016077</td>\n",
       "      <td>-0.002482</td>\n",
       "      <td>-0.000802</td>\n",
       "      <td>-0.001236</td>\n",
       "      <td>0.140597</td>\n",
       "      <td>1.000000</td>\n",
       "      <td>0.020061</td>\n",
       "      <td>0.005137</td>\n",
       "      <td>0.000094</td>\n",
       "      <td>0.004867</td>\n",
       "    </tr>\n",
       "    <tr>\n",
       "      <th>lymphoma</th>\n",
       "      <td>0.023909</td>\n",
       "      <td>-0.006665</td>\n",
       "      <td>-0.001570</td>\n",
       "      <td>-0.008141</td>\n",
       "      <td>-0.008678</td>\n",
       "      <td>0.010111</td>\n",
       "      <td>0.005724</td>\n",
       "      <td>-0.027627</td>\n",
       "      <td>-0.028319</td>\n",
       "      <td>0.006329</td>\n",
       "      <td>...</td>\n",
       "      <td>-0.012881</td>\n",
       "      <td>0.005017</td>\n",
       "      <td>-0.003708</td>\n",
       "      <td>-0.002450</td>\n",
       "      <td>0.092993</td>\n",
       "      <td>0.020061</td>\n",
       "      <td>1.000000</td>\n",
       "      <td>0.017070</td>\n",
       "      <td>-0.002657</td>\n",
       "      <td>0.000881</td>\n",
       "    </tr>\n",
       "    <tr>\n",
       "      <th>solid_tumor_with_metastasis</th>\n",
       "      <td>0.025465</td>\n",
       "      <td>0.016144</td>\n",
       "      <td>0.007566</td>\n",
       "      <td>-0.037797</td>\n",
       "      <td>-0.042373</td>\n",
       "      <td>0.004753</td>\n",
       "      <td>0.005493</td>\n",
       "      <td>-0.082339</td>\n",
       "      <td>-0.082193</td>\n",
       "      <td>0.035995</td>\n",
       "      <td>...</td>\n",
       "      <td>-0.010130</td>\n",
       "      <td>-0.001140</td>\n",
       "      <td>-0.001722</td>\n",
       "      <td>0.010946</td>\n",
       "      <td>0.280555</td>\n",
       "      <td>0.005137</td>\n",
       "      <td>0.017070</td>\n",
       "      <td>1.000000</td>\n",
       "      <td>-0.013826</td>\n",
       "      <td>-0.018319</td>\n",
       "    </tr>\n",
       "    <tr>\n",
       "      <th>ventilated_apache</th>\n",
       "      <td>0.042940</td>\n",
       "      <td>0.151935</td>\n",
       "      <td>0.007898</td>\n",
       "      <td>0.081363</td>\n",
       "      <td>0.083071</td>\n",
       "      <td>-0.094790</td>\n",
       "      <td>-0.136634</td>\n",
       "      <td>-0.106391</td>\n",
       "      <td>-0.139522</td>\n",
       "      <td>0.008732</td>\n",
       "      <td>...</td>\n",
       "      <td>-0.022228</td>\n",
       "      <td>0.000996</td>\n",
       "      <td>0.002394</td>\n",
       "      <td>-0.001032</td>\n",
       "      <td>-0.003492</td>\n",
       "      <td>0.000094</td>\n",
       "      <td>-0.002657</td>\n",
       "      <td>-0.013826</td>\n",
       "      <td>1.000000</td>\n",
       "      <td>0.013990</td>\n",
       "    </tr>\n",
       "    <tr>\n",
       "      <th>diabetes_mellitus</th>\n",
       "      <td>0.096345</td>\n",
       "      <td>-0.006135</td>\n",
       "      <td>-0.003211</td>\n",
       "      <td>0.176991</td>\n",
       "      <td>0.189785</td>\n",
       "      <td>-0.007556</td>\n",
       "      <td>-0.009974</td>\n",
       "      <td>-0.025078</td>\n",
       "      <td>-0.026017</td>\n",
       "      <td>-0.048914</td>\n",
       "      <td>...</td>\n",
       "      <td>0.001863</td>\n",
       "      <td>-0.011403</td>\n",
       "      <td>0.017393</td>\n",
       "      <td>0.012481</td>\n",
       "      <td>-0.002933</td>\n",
       "      <td>0.004867</td>\n",
       "      <td>0.000881</td>\n",
       "      <td>-0.018319</td>\n",
       "      <td>0.013990</td>\n",
       "      <td>1.000000</td>\n",
       "    </tr>\n",
       "  </tbody>\n",
       "</table>\n",
       "<p>44 rows × 44 columns</p>\n",
       "</div>"
      ],
      "text/plain": [
       "                                  age  elective_surgery    height    weight  \\\n",
       "age                          1.000000          0.057143 -0.103643 -0.115393   \n",
       "elective_surgery             0.057143          1.000000  0.019779  0.021266   \n",
       "height                      -0.103643          0.019779  1.000000  0.377559   \n",
       "weight                      -0.115393          0.021266  0.377559  1.000000   \n",
       "bmi                         -0.076549          0.010542 -0.067847  0.880325   \n",
       "h1_temp_max                 -0.075809         -0.116192  0.005849  0.037996   \n",
       "h1_temp_min                 -0.079332         -0.156982  0.006787  0.040829   \n",
       "d1_albumin_max              -0.114196         -0.028581  0.065960  0.074827   \n",
       "d1_albumin_min              -0.100862         -0.039318  0.063961  0.077174   \n",
       "d1_bilirubin_max            -0.043473         -0.010255  0.045008  0.022858   \n",
       "d1_bilirubin_min            -0.039731         -0.018592  0.045128  0.023115   \n",
       "d1_bun_max                   0.230143         -0.165952  0.013721  0.060640   \n",
       "d1_bun_min                   0.261401         -0.165527  0.013420  0.068258   \n",
       "d1_glucose_min               0.056367         -0.010912  0.019099  0.136099   \n",
       "d1_hco3_max                  0.076061         -0.005952  0.022542  0.107722   \n",
       "d1_hco3_min                  0.123345          0.013276  0.019307  0.110911   \n",
       "d1_platelets_max            -0.086981         -0.058859 -0.080846 -0.012986   \n",
       "d1_platelets_min            -0.085631         -0.091498 -0.080484 -0.010540   \n",
       "d1_potassium_max             0.054852          0.078191  0.047711  0.104514   \n",
       "d1_potassium_min             0.120193          0.034630  0.054000  0.118616   \n",
       "d1_sodium_max                0.003539          0.060595 -0.027681 -0.044329   \n",
       "d1_sodium_min                0.049364          0.043141 -0.029055 -0.031237   \n",
       "d1_wbc_max                  -0.007673          0.095397 -0.008614  0.018765   \n",
       "d1_wbc_min                  -0.006147          0.036645 -0.013818  0.019469   \n",
       "h1_glucose_max              -0.101121         -0.126797  0.001519  0.044103   \n",
       "h1_glucose_min              -0.081876         -0.142241  0.005345  0.057470   \n",
       "wbc_apache                  -0.013990          0.075042 -0.010495  0.023919   \n",
       "intubated_apache             0.010100          0.171894  0.026113  0.049994   \n",
       "d1_heartrate_max            -0.145060         -0.076681 -0.017942 -0.034512   \n",
       "heart_rate_apache           -0.157473         -0.071603 -0.021036 -0.030151   \n",
       "gcs_motor_apache             0.018943          0.025484 -0.011201  0.013432   \n",
       "gcs_eyes_apache              0.019003          0.018401 -0.008341  0.003641   \n",
       "creatinine_apache            0.056167         -0.108874  0.052127  0.089264   \n",
       "h1_spo2_max                 -0.062896          0.100866 -0.013316 -0.070004   \n",
       "map_apache                  -0.019156         -0.002491  0.031523  0.068968   \n",
       "aids                        -0.024742         -0.009495  0.011904 -0.015591   \n",
       "cirrhosis                   -0.023932         -0.029320  0.010044  0.000082   \n",
       "hepatic_failure             -0.017754         -0.032419  0.010534  0.003201   \n",
       "immunosuppression            0.021246         -0.013430  0.000268 -0.029353   \n",
       "leukemia                     0.026687         -0.015444  0.003372 -0.012408   \n",
       "lymphoma                     0.023909         -0.006665 -0.001570 -0.008141   \n",
       "solid_tumor_with_metastasis  0.025465          0.016144  0.007566 -0.037797   \n",
       "ventilated_apache            0.042940          0.151935  0.007898  0.081363   \n",
       "diabetes_mellitus            0.096345         -0.006135 -0.003211  0.176991   \n",
       "\n",
       "                                  bmi  h1_temp_max  h1_temp_min  \\\n",
       "age                         -0.076549    -0.075809    -0.079332   \n",
       "elective_surgery             0.010542    -0.116192    -0.156982   \n",
       "height                      -0.067847     0.005849     0.006787   \n",
       "weight                       0.880325     0.037996     0.040829   \n",
       "bmi                          1.000000     0.037196     0.040007   \n",
       "h1_temp_max                  0.037196     1.000000     0.864388   \n",
       "h1_temp_min                  0.040007     0.864388     1.000000   \n",
       "d1_albumin_max               0.049015    -0.033330    -0.002778   \n",
       "d1_albumin_min               0.052217    -0.016865     0.017786   \n",
       "d1_bilirubin_max             0.003939    -0.006205    -0.016444   \n",
       "d1_bilirubin_min             0.004086    -0.003135    -0.010914   \n",
       "d1_bun_max                   0.058780    -0.081240    -0.078980   \n",
       "d1_bun_min                   0.067368    -0.070074    -0.064857   \n",
       "d1_glucose_min               0.135010     0.049272     0.051715   \n",
       "d1_hco3_max                  0.105355     0.054873     0.071163   \n",
       "d1_hco3_min                  0.110421     0.092501     0.116168   \n",
       "d1_platelets_max             0.022902     0.010538     0.026004   \n",
       "d1_platelets_min             0.025486     0.033812     0.056103   \n",
       "d1_potassium_max             0.089252    -0.123683    -0.131981   \n",
       "d1_potassium_min             0.101970    -0.033208    -0.015308   \n",
       "d1_sodium_max               -0.033246    -0.062617    -0.083432   \n",
       "d1_sodium_min               -0.018821    -0.013409    -0.020858   \n",
       "d1_wbc_max                   0.024534    -0.000586    -0.024627   \n",
       "d1_wbc_min                   0.027779     0.038214     0.022643   \n",
       "h1_glucose_max               0.046341    -0.023407    -0.022542   \n",
       "h1_glucose_min               0.059030    -0.010773    -0.006537   \n",
       "wbc_apache                   0.030939     0.010995    -0.009148   \n",
       "intubated_apache             0.041345    -0.099052    -0.136639   \n",
       "d1_heartrate_max            -0.027934     0.139449     0.115342   \n",
       "heart_rate_apache           -0.021731     0.144360     0.131888   \n",
       "gcs_motor_apache             0.019004     0.120324     0.154287   \n",
       "gcs_eyes_apache              0.006753     0.096275     0.128594   \n",
       "creatinine_apache            0.072074    -0.056529    -0.055371   \n",
       "h1_spo2_max                 -0.068713    -0.046017    -0.061390   \n",
       "map_apache                   0.058351    -0.010277    -0.002279   \n",
       "aids                        -0.020096     0.014980     0.013232   \n",
       "cirrhosis                   -0.004227    -0.011501    -0.010854   \n",
       "hepatic_failure             -0.002211    -0.011499    -0.011861   \n",
       "immunosuppression           -0.030053     0.027746     0.025082   \n",
       "leukemia                    -0.013489     0.023923     0.015079   \n",
       "lymphoma                    -0.008678     0.010111     0.005724   \n",
       "solid_tumor_with_metastasis -0.042373     0.004753     0.005493   \n",
       "ventilated_apache            0.083071    -0.094790    -0.136634   \n",
       "diabetes_mellitus            0.189785    -0.007556    -0.009974   \n",
       "\n",
       "                             d1_albumin_max  d1_albumin_min  d1_bilirubin_max  \\\n",
       "age                               -0.114196       -0.100862         -0.043473   \n",
       "elective_surgery                  -0.028581       -0.039318         -0.010255   \n",
       "height                             0.065960        0.063961          0.045008   \n",
       "weight                             0.074827        0.077174          0.022858   \n",
       "bmi                                0.049015        0.052217          0.003939   \n",
       "h1_temp_max                       -0.033330       -0.016865         -0.006205   \n",
       "h1_temp_min                       -0.002778        0.017786         -0.016444   \n",
       "d1_albumin_max                     1.000000        0.913524         -0.106800   \n",
       "d1_albumin_min                     0.913524        1.000000         -0.131560   \n",
       "d1_bilirubin_max                  -0.106800       -0.131560          1.000000   \n",
       "d1_bilirubin_min                  -0.108918       -0.116901          0.986558   \n",
       "d1_bun_max                        -0.187186       -0.205582          0.109430   \n",
       "d1_bun_min                        -0.203519       -0.204796          0.104986   \n",
       "d1_glucose_min                     0.028254        0.039785         -0.064396   \n",
       "d1_hco3_max                        0.154458        0.171319         -0.117873   \n",
       "d1_hco3_min                        0.132183        0.191015         -0.130346   \n",
       "d1_platelets_max                   0.006656        0.006580         -0.167431   \n",
       "d1_platelets_min                   0.020632        0.045169         -0.185128   \n",
       "d1_potassium_max                  -0.001361       -0.044506          0.035222   \n",
       "d1_potassium_min                   0.008770        0.031978         -0.010901   \n",
       "d1_sodium_max                     -0.016466       -0.049467         -0.080430   \n",
       "d1_sodium_min                     -0.011654        0.001253         -0.112277   \n",
       "d1_wbc_max                        -0.147177       -0.179643          0.065420   \n",
       "d1_wbc_min                        -0.139467       -0.142867          0.044442   \n",
       "h1_glucose_max                     0.025349        0.005973         -0.071635   \n",
       "h1_glucose_min                     0.026722        0.013782         -0.076034   \n",
       "wbc_apache                        -0.143062       -0.167242          0.056814   \n",
       "intubated_apache                  -0.081127       -0.114376          0.022625   \n",
       "d1_heartrate_max                  -0.175175       -0.204963          0.048602   \n",
       "heart_rate_apache                 -0.137132       -0.161638          0.048872   \n",
       "gcs_motor_apache                   0.062309        0.095330         -0.023492   \n",
       "gcs_eyes_apache                    0.068236        0.101435         -0.031292   \n",
       "creatinine_apache                 -0.094721       -0.115155          0.071315   \n",
       "h1_spo2_max                        0.007559        0.003673         -0.019975   \n",
       "map_apache                         0.146820        0.143143         -0.062766   \n",
       "aids                              -0.035533       -0.034699          0.009275   \n",
       "cirrhosis                         -0.091648       -0.099656          0.264096   \n",
       "hepatic_failure                   -0.074609       -0.081725          0.265126   \n",
       "immunosuppression                 -0.081830       -0.080442          0.023997   \n",
       "leukemia                          -0.035157       -0.035659          0.015161   \n",
       "lymphoma                          -0.027627       -0.028319          0.006329   \n",
       "solid_tumor_with_metastasis       -0.082339       -0.082193          0.035995   \n",
       "ventilated_apache                 -0.106391       -0.139522          0.008732   \n",
       "diabetes_mellitus                 -0.025078       -0.026017         -0.048914   \n",
       "\n",
       "                             ...  map_apache      aids  cirrhosis  \\\n",
       "age                          ...   -0.019156 -0.024742  -0.023932   \n",
       "elective_surgery             ...   -0.002491 -0.009495  -0.029320   \n",
       "height                       ...    0.031523  0.011904   0.010044   \n",
       "weight                       ...    0.068968 -0.015591   0.000082   \n",
       "bmi                          ...    0.058351 -0.020096  -0.004227   \n",
       "h1_temp_max                  ...   -0.010277  0.014980  -0.011501   \n",
       "h1_temp_min                  ...   -0.002279  0.013232  -0.010854   \n",
       "d1_albumin_max               ...    0.146820 -0.035533  -0.091648   \n",
       "d1_albumin_min               ...    0.143143 -0.034699  -0.099656   \n",
       "d1_bilirubin_max             ...   -0.062766  0.009275   0.264096   \n",
       "d1_bilirubin_min             ...   -0.064281  0.009534   0.256414   \n",
       "d1_bun_max                   ...   -0.073520  0.006741   0.042424   \n",
       "d1_bun_min                   ...   -0.074836  0.005877   0.042860   \n",
       "d1_glucose_min               ...    0.052506 -0.009612  -0.011626   \n",
       "d1_hco3_max                  ...    0.056385 -0.011793  -0.044336   \n",
       "d1_hco3_min                  ...    0.058702 -0.010855  -0.042849   \n",
       "d1_platelets_max             ...    0.051599 -0.018124  -0.121931   \n",
       "d1_platelets_min             ...    0.057308 -0.017566  -0.125675   \n",
       "d1_potassium_max             ...   -0.040722  0.000142   0.026214   \n",
       "d1_potassium_min             ...   -0.024867  0.000159   0.020733   \n",
       "d1_sodium_max                ...    0.006616 -0.007652  -0.035281   \n",
       "d1_sodium_min                ...    0.017614 -0.008500  -0.041946   \n",
       "d1_wbc_max                   ...   -0.035546 -0.020774  -0.024606   \n",
       "d1_wbc_min                   ...   -0.024875 -0.020988  -0.032595   \n",
       "h1_glucose_max               ...    0.012800 -0.008996  -0.018065   \n",
       "h1_glucose_min               ...    0.019692 -0.010504  -0.014784   \n",
       "wbc_apache                   ...   -0.031568 -0.017482  -0.031588   \n",
       "intubated_apache             ...   -0.014966  0.003281   0.007041   \n",
       "d1_heartrate_max             ...    0.013923  0.013944   0.009157   \n",
       "heart_rate_apache            ...    0.036477  0.009431   0.008364   \n",
       "gcs_motor_apache             ...   -0.007418 -0.005544  -0.006124   \n",
       "gcs_eyes_apache              ...   -0.007961 -0.002761  -0.012408   \n",
       "creatinine_apache            ...   -0.004818  0.023865   0.021263   \n",
       "h1_spo2_max                  ...   -0.011250  0.001692   0.007578   \n",
       "map_apache                   ...    1.000000 -0.001692  -0.030688   \n",
       "aids                         ...   -0.001692  1.000000   0.006476   \n",
       "cirrhosis                    ...   -0.030688  0.006476   1.000000   \n",
       "hepatic_failure              ...   -0.038238  0.000349   0.539841   \n",
       "immunosuppression            ...   -0.015010  0.012036   0.004025   \n",
       "leukemia                     ...   -0.016077 -0.002482  -0.000802   \n",
       "lymphoma                     ...   -0.012881  0.005017  -0.003708   \n",
       "solid_tumor_with_metastasis  ...   -0.010130 -0.001140  -0.001722   \n",
       "ventilated_apache            ...   -0.022228  0.000996   0.002394   \n",
       "diabetes_mellitus            ...    0.001863 -0.011403   0.017393   \n",
       "\n",
       "                             hepatic_failure  immunosuppression  leukemia  \\\n",
       "age                                -0.017754           0.021246  0.026687   \n",
       "elective_surgery                   -0.032419          -0.013430 -0.015444   \n",
       "height                              0.010534           0.000268  0.003372   \n",
       "weight                              0.003201          -0.029353 -0.012408   \n",
       "bmi                                -0.002211          -0.030053 -0.013489   \n",
       "h1_temp_max                        -0.011499           0.027746  0.023923   \n",
       "h1_temp_min                        -0.011861           0.025082  0.015079   \n",
       "d1_albumin_max                     -0.074609          -0.081830 -0.035157   \n",
       "d1_albumin_min                     -0.081725          -0.080442 -0.035659   \n",
       "d1_bilirubin_max                    0.265126           0.023997  0.015161   \n",
       "d1_bilirubin_min                    0.261025           0.023280  0.013875   \n",
       "d1_bun_max                          0.046927           0.015621  0.029234   \n",
       "d1_bun_min                          0.047666           0.020489  0.029447   \n",
       "d1_glucose_min                     -0.014142           0.007918 -0.004929   \n",
       "d1_hco3_max                        -0.043049          -0.015433 -0.024012   \n",
       "d1_hco3_min                        -0.039126          -0.010674 -0.019388   \n",
       "d1_platelets_max                   -0.099021          -0.045742 -0.068728   \n",
       "d1_platelets_min                   -0.103738          -0.045970 -0.070942   \n",
       "d1_potassium_max                    0.020021          -0.000705  0.008336   \n",
       "d1_potassium_min                    0.013660           0.006228  0.002633   \n",
       "d1_sodium_max                      -0.022376          -0.030397 -0.010816   \n",
       "d1_sodium_min                      -0.024387          -0.022073 -0.008114   \n",
       "d1_wbc_max                         -0.017637          -0.032584  0.013276   \n",
       "d1_wbc_min                         -0.027099          -0.032001  0.007965   \n",
       "h1_glucose_max                     -0.016779          -0.020395 -0.011447   \n",
       "h1_glucose_min                     -0.016270          -0.017429 -0.010063   \n",
       "wbc_apache                         -0.020565          -0.033541  0.005860   \n",
       "intubated_apache                    0.001651          -0.005970  0.000674   \n",
       "d1_heartrate_max                    0.009218           0.060393  0.024521   \n",
       "heart_rate_apache                   0.009347           0.054499  0.021789   \n",
       "gcs_motor_apache                   -0.005976           0.017588 -0.000028   \n",
       "gcs_eyes_apache                    -0.012381           0.017753 -0.002324   \n",
       "creatinine_apache                   0.020622          -0.004659  0.018358   \n",
       "h1_spo2_max                         0.011178          -0.011745  0.002152   \n",
       "map_apache                         -0.038238          -0.015010 -0.016077   \n",
       "aids                                0.000349           0.012036 -0.002482   \n",
       "cirrhosis                           0.539841           0.004025 -0.000802   \n",
       "hepatic_failure                     1.000000           0.003027 -0.001236   \n",
       "immunosuppression                   0.003027           1.000000  0.140597   \n",
       "leukemia                           -0.001236           0.140597  1.000000   \n",
       "lymphoma                           -0.002450           0.092993  0.020061   \n",
       "solid_tumor_with_metastasis         0.010946           0.280555  0.005137   \n",
       "ventilated_apache                  -0.001032          -0.003492  0.000094   \n",
       "diabetes_mellitus                   0.012481          -0.002933  0.004867   \n",
       "\n",
       "                             lymphoma  solid_tumor_with_metastasis  \\\n",
       "age                          0.023909                     0.025465   \n",
       "elective_surgery            -0.006665                     0.016144   \n",
       "height                      -0.001570                     0.007566   \n",
       "weight                      -0.008141                    -0.037797   \n",
       "bmi                         -0.008678                    -0.042373   \n",
       "h1_temp_max                  0.010111                     0.004753   \n",
       "h1_temp_min                  0.005724                     0.005493   \n",
       "d1_albumin_max              -0.027627                    -0.082339   \n",
       "d1_albumin_min              -0.028319                    -0.082193   \n",
       "d1_bilirubin_max             0.006329                     0.035995   \n",
       "d1_bilirubin_min             0.003432                     0.035965   \n",
       "d1_bun_max                   0.006775                     0.005542   \n",
       "d1_bun_min                   0.009532                     0.008084   \n",
       "d1_glucose_min               0.000908                     0.012669   \n",
       "d1_hco3_max                  0.005089                    -0.018591   \n",
       "d1_hco3_min                  0.006951                    -0.007140   \n",
       "d1_platelets_max            -0.031130                    -0.009835   \n",
       "d1_platelets_min            -0.029250                    -0.009390   \n",
       "d1_potassium_max             0.001900                    -0.001637   \n",
       "d1_potassium_min             0.005261                     0.013999   \n",
       "d1_sodium_max               -0.011628                    -0.030873   \n",
       "d1_sodium_min               -0.010918                    -0.026331   \n",
       "d1_wbc_max                  -0.017067                    -0.006368   \n",
       "d1_wbc_min                  -0.016017                    -0.003854   \n",
       "h1_glucose_max              -0.003693                    -0.022351   \n",
       "h1_glucose_min              -0.001119                    -0.020276   \n",
       "wbc_apache                  -0.017140                    -0.005140   \n",
       "intubated_apache            -0.004544                    -0.011294   \n",
       "d1_heartrate_max             0.020939                     0.040868   \n",
       "heart_rate_apache            0.015912                     0.036861   \n",
       "gcs_motor_apache             0.005831                     0.014588   \n",
       "gcs_eyes_apache              0.006338                     0.012128   \n",
       "creatinine_apache           -0.005293                    -0.015000   \n",
       "h1_spo2_max                 -0.002275                    -0.001621   \n",
       "map_apache                  -0.012881                    -0.010130   \n",
       "aids                         0.005017                    -0.001140   \n",
       "cirrhosis                   -0.003708                    -0.001722   \n",
       "hepatic_failure             -0.002450                     0.010946   \n",
       "immunosuppression            0.092993                     0.280555   \n",
       "leukemia                     0.020061                     0.005137   \n",
       "lymphoma                     1.000000                     0.017070   \n",
       "solid_tumor_with_metastasis  0.017070                     1.000000   \n",
       "ventilated_apache           -0.002657                    -0.013826   \n",
       "diabetes_mellitus            0.000881                    -0.018319   \n",
       "\n",
       "                             ventilated_apache  diabetes_mellitus  \n",
       "age                                   0.042940           0.096345  \n",
       "elective_surgery                      0.151935          -0.006135  \n",
       "height                                0.007898          -0.003211  \n",
       "weight                                0.081363           0.176991  \n",
       "bmi                                   0.083071           0.189785  \n",
       "h1_temp_max                          -0.094790          -0.007556  \n",
       "h1_temp_min                          -0.136634          -0.009974  \n",
       "d1_albumin_max                       -0.106391          -0.025078  \n",
       "d1_albumin_min                       -0.139522          -0.026017  \n",
       "d1_bilirubin_max                      0.008732          -0.048914  \n",
       "d1_bilirubin_min                     -0.006529          -0.047708  \n",
       "d1_bun_max                            0.063933           0.163999  \n",
       "d1_bun_min                            0.051418           0.153256  \n",
       "d1_glucose_min                       -0.018556           0.146605  \n",
       "d1_hco3_max                           0.019543          -0.010078  \n",
       "d1_hco3_min                          -0.040711          -0.055038  \n",
       "d1_platelets_max                     -0.041424           0.024992  \n",
       "d1_platelets_min                     -0.098815           0.026982  \n",
       "d1_potassium_max                      0.155199           0.108835  \n",
       "d1_potassium_min                     -0.023460           0.041744  \n",
       "d1_sodium_max                         0.178732          -0.021738  \n",
       "d1_sodium_min                         0.080501          -0.059686  \n",
       "d1_wbc_max                            0.180748           0.005033  \n",
       "d1_wbc_min                            0.098175           0.010251  \n",
       "h1_glucose_max                       -0.042439           0.318336  \n",
       "h1_glucose_min                       -0.054711           0.305216  \n",
       "wbc_apache                            0.155980           0.005243  \n",
       "intubated_apache                      0.608978           0.001355  \n",
       "d1_heartrate_max                      0.154729          -0.031309  \n",
       "heart_rate_apache                     0.112677          -0.022827  \n",
       "gcs_motor_apache                     -0.416855           0.025887  \n",
       "gcs_eyes_apache                      -0.462132           0.026805  \n",
       "creatinine_apache                     0.033532           0.138586  \n",
       "h1_spo2_max                           0.076682           0.017848  \n",
       "map_apache                           -0.022228           0.001863  \n",
       "aids                                  0.000996          -0.011403  \n",
       "cirrhosis                             0.002394           0.017393  \n",
       "hepatic_failure                      -0.001032           0.012481  \n",
       "immunosuppression                    -0.003492          -0.002933  \n",
       "leukemia                              0.000094           0.004867  \n",
       "lymphoma                             -0.002657           0.000881  \n",
       "solid_tumor_with_metastasis          -0.013826          -0.018319  \n",
       "ventilated_apache                     1.000000           0.013990  \n",
       "diabetes_mellitus                     0.013990           1.000000  \n",
       "\n",
       "[44 rows x 44 columns]"
      ]
     },
     "execution_count": 22,
     "metadata": {},
     "output_type": "execute_result"
    }
   ],
   "source": [
    "table.corr()"
   ]
  },
  {
   "cell_type": "code",
   "execution_count": 23,
   "metadata": {
    "colab": {
     "base_uri": "https://localhost:8080/",
     "height": 664
    },
    "executionInfo": {
     "elapsed": 4055,
     "status": "ok",
     "timestamp": 1652057998591,
     "user": {
      "displayName": "MIA BIAN",
      "userId": "12076802795410247755"
     },
     "user_tz": 240
    },
    "id": "x38sRpp4DZQ3",
    "outputId": "a9b6256f-75b4-4adc-8b87-a8e682fc9c47"
   },
   "outputs": [
    {
     "data": {
      "image/png": "[encoded data removed]",
      "text/plain": [
       "<Figure size 1440x1152 with 2 Axes>"
      ]
     },
     "metadata": {
      "needs_background": "light"
     },
     "output_type": "display_data"
    }
   ],
   "source": [
    "plt.figure(figsize=[20,16])\n",
    "sns.heatmap(table.corr());"
   ]
  },
  {
   "cell_type": "code",
   "execution_count": 24,
   "metadata": {
    "colab": {
     "base_uri": "https://localhost:8080/"
    },
    "executionInfo": {
     "elapsed": 1241,
     "status": "ok",
     "timestamp": 1652112467640,
     "user": {
      "displayName": "MIA BIAN",
      "userId": "12076802795410247755"
     },
     "user_tz": 240
    },
    "id": "P4c87ioESERR",
    "outputId": "9adc1678-7a8a-4536-e2fb-b5a38e6de6da"
   },
   "outputs": [
    {
     "name": "stdout",
     "output_type": "stream",
     "text": [
      "d1_albumin_min\n",
      "d1_bilirubin_min\n",
      "d1_bun_min\n",
      "d1_platelets_min\n",
      "d1_wbc_min\n",
      "h1_glucose_min\n",
      "wbc_apache\n",
      "wbc_apache\n"
     ]
    }
   ],
   "source": [
    "# remove columns have high correlation with another column\n",
    "# keep one column for columns with corr > 0.99\n",
    "corr_table = table.corr()\n",
    "\n",
    "for x,y in np.argwhere(corr_table.to_numpy() > 0.90):\n",
    "    if x <= y:\n",
    "#         print(f\"x : {x}\")\n",
    "#         print(f\"y : {y}\")\n",
    "        continue\n",
    "    colname = corr_table.columns[x]\n",
    "    print(colname)\n",
    "    if '_min' in colname:\n",
    "#         print(colname)\n",
    "        del table[colname]"
   ]
  },
  {
   "cell_type": "code",
   "execution_count": 25,
   "metadata": {},
   "outputs": [
    {
     "data": {
      "text/plain": [
       "0"
      ]
     },
     "execution_count": 25,
     "metadata": {},
     "output_type": "execute_result"
    }
   ],
   "source": [
    "# len(table.columns)\n",
    "table['diabetes_mellitus'].isna().sum()"
   ]
  },
  {
   "cell_type": "markdown",
   "metadata": {
    "id": "_aoG1uRSd3bH"
   },
   "source": [
    "## Checking distribution of each feature and fitting a gamma distribution for each feature"
   ]
  },
  {
   "cell_type": "code",
   "execution_count": 26,
   "metadata": {
    "colab": {
     "base_uri": "https://localhost:8080/",
     "height": 1000
    },
    "executionInfo": {
     "elapsed": 114156,
     "status": "ok",
     "timestamp": 1652071977593,
     "user": {
      "displayName": "MIA BIAN",
      "userId": "12076802795410247755"
     },
     "user_tz": 240
    },
    "id": "Rb81TlE3UArt",
    "outputId": "c76632ad-a75d-475e-c9bc-c68485721814"
   },
   "outputs": [
    {
     "data": {
      "image/png": "[encoded data removed]",
      "text/plain": [
       "<Figure size 1440x4320 with 44 Axes>"
      ]
     },
     "metadata": {
      "needs_background": "light"
     },
     "output_type": "display_data"
    }
   ],
   "source": [
    "from scipy.stats import gamma\n",
    "def fitplot_gamma(data):\n",
    "  model = gamma.fit(data.dropna())\n",
    "  x = np.linspace(data.min(), data.max(), 100)\n",
    "  y = gamma.pdf(x, *model)\n",
    "  if (y.max() < 2):\n",
    "    plt.plot(x, y)\n",
    "  plt.axvline(x[y.argmax()], color='g')\n",
    "\n",
    "n = len(corr_table.columns)\n",
    "sub_nrows = np.ceil(n / 5)\n",
    "sub_ncols = 5\n",
    "# colmodes = \n",
    "plt.figure(figsize=[20,60])\n",
    "for i, colname in enumerate(corr_table.columns):\n",
    "  plt.subplot(sub_nrows, sub_ncols, i+1)\n",
    "  plt.hist(corr_table[colname], 20, density=True)\n",
    "  fitplot_gamma(corr_table[colname])\n",
    "  plt.axvline(corr_table[colname].mean())\n",
    "  plt.axvline(corr_table[colname].median(), color='r')\n",
    "  plt.title(colname)\n",
    "  # break"
   ]
  },
  {
   "cell_type": "code",
   "execution_count": null,
   "metadata": {
    "id": "gyio4bptE5WQ"
   },
   "outputs": [],
   "source": []
  },
  {
   "cell_type": "markdown",
   "metadata": {
    "id": "MQLnJtGPebhj"
   },
   "source": [
    "## Fill missing values with median for each feature (according to the feature investigation, the median is more suitable than the mean)"
   ]
  },
  {
   "cell_type": "code",
   "execution_count": 27,
   "metadata": {
    "colab": {
     "base_uri": "https://localhost:8080/"
    },
    "executionInfo": {
     "elapsed": 631,
     "status": "ok",
     "timestamp": 1652112508989,
     "user": {
      "displayName": "MIA BIAN",
      "userId": "12076802795410247755"
     },
     "user_tz": 240
    },
    "id": "KlADlKMLDjS6",
    "outputId": "70d5d047-7c9c-484d-d2c4-2c0dadf5cc7d"
   },
   "outputs": [],
   "source": [
    "# def fillna_in_table(table, param = {}):\n",
    "#   table = copy.copy(table)\n",
    "#   if 'remove_cols' in param:\n",
    "#     for colname in param['remove_cols']:\n",
    "#       del table[colname]\n",
    "  \n",
    "#   # col_mean = table.mean(0)\n",
    "#   for colname in table.columns:\n",
    "#     # if colname in ['gender', 'icu_type']:\n",
    "#     if table[colname].dtype == object:\n",
    "#       continue\n",
    "#     print(colname, table[colname].median())\n",
    "#     # print(table[colname])\n",
    "#     table[colname].fillna(table[colname].median(), inplace=True)\n",
    "#     # table = table.fillna(table[colname].median())\n",
    "  \n",
    "#   return table\n",
    "  \n",
    "# newtable = fillna_in_table(table)"
   ]
  },
  {
   "cell_type": "code",
   "execution_count": 28,
   "metadata": {},
   "outputs": [],
   "source": [
    "new_table = copy.copy(table)\n",
    "for i in new_table.columns:\n",
    "    if new_table[i].dtype!='object':\n",
    "        new_table[i].fillna(new_table[i].median(),inplace=True)\n",
    "    else:\n",
    "        new_table[i].fillna(new_table[i].mode()[0],inplace=True)"
   ]
  },
  {
   "cell_type": "code",
   "execution_count": 29,
   "metadata": {
    "colab": {
     "base_uri": "https://localhost:8080/",
     "height": 591
    },
    "executionInfo": {
     "elapsed": 176,
     "status": "ok",
     "timestamp": 1652112517625,
     "user": {
      "displayName": "MIA BIAN",
      "userId": "12076802795410247755"
     },
     "user_tz": 240
    },
    "id": "tJr_yg1gMlPJ",
    "outputId": "4e86a23b-2837-4a2a-a36f-188b57802add"
   },
   "outputs": [
    {
     "data": {
      "text/plain": [
       "gender                         0\n",
       "ethnicity                      0\n",
       "age                            0\n",
       "elective_surgery               0\n",
       "height                         0\n",
       "weight                         0\n",
       "bmi                            0\n",
       "icu_type                       0\n",
       "h1_temp_max                    0\n",
       "h1_temp_min                    0\n",
       "d1_albumin_max                 0\n",
       "d1_bilirubin_max               0\n",
       "d1_bun_max                     0\n",
       "d1_glucose_min                 0\n",
       "d1_hco3_max                    0\n",
       "d1_hco3_min                    0\n",
       "d1_platelets_max               0\n",
       "d1_potassium_max               0\n",
       "d1_potassium_min               0\n",
       "d1_sodium_max                  0\n",
       "d1_sodium_min                  0\n",
       "d1_wbc_max                     0\n",
       "h1_glucose_max                 0\n",
       "wbc_apache                     0\n",
       "intubated_apache               0\n",
       "d1_heartrate_max               0\n",
       "heart_rate_apache              0\n",
       "gcs_motor_apache               0\n",
       "gcs_eyes_apache                0\n",
       "creatinine_apache              0\n",
       "h1_spo2_max                    0\n",
       "map_apache                     0\n",
       "aids                           0\n",
       "cirrhosis                      0\n",
       "hepatic_failure                0\n",
       "immunosuppression              0\n",
       "leukemia                       0\n",
       "lymphoma                       0\n",
       "solid_tumor_with_metastasis    0\n",
       "ventilated_apache              0\n",
       "diabetes_mellitus              0\n",
       "dtype: int64"
      ]
     },
     "execution_count": 29,
     "metadata": {},
     "output_type": "execute_result"
    }
   ],
   "source": [
    "new_table.isna().sum()"
   ]
  },
  {
   "cell_type": "markdown",
   "metadata": {},
   "source": [
    "### Checking the duplicated values"
   ]
  },
  {
   "cell_type": "code",
   "execution_count": 30,
   "metadata": {},
   "outputs": [
    {
     "data": {
      "text/plain": [
       "(79159, 41)"
      ]
     },
     "execution_count": 30,
     "metadata": {},
     "output_type": "execute_result"
    }
   ],
   "source": [
    "new_table.shape"
   ]
  },
  {
   "cell_type": "code",
   "execution_count": 31,
   "metadata": {},
   "outputs": [
    {
     "data": {
      "text/html": [
       "<div>\n",
       "<style scoped>\n",
       "    .dataframe tbody tr th:only-of-type {\n",
       "        vertical-align: middle;\n",
       "    }\n",
       "\n",
       "    .dataframe tbody tr th {\n",
       "        vertical-align: top;\n",
       "    }\n",
       "\n",
       "    .dataframe thead th {\n",
       "        text-align: right;\n",
       "    }\n",
       "</style>\n",
       "<table border=\"1\" class=\"dataframe\">\n",
       "  <thead>\n",
       "    <tr style=\"text-align: right;\">\n",
       "      <th></th>\n",
       "      <th>gender</th>\n",
       "      <th>ethnicity</th>\n",
       "      <th>age</th>\n",
       "      <th>elective_surgery</th>\n",
       "      <th>height</th>\n",
       "      <th>weight</th>\n",
       "      <th>bmi</th>\n",
       "      <th>icu_type</th>\n",
       "      <th>h1_temp_max</th>\n",
       "      <th>h1_temp_min</th>\n",
       "      <th>...</th>\n",
       "      <th>map_apache</th>\n",
       "      <th>aids</th>\n",
       "      <th>cirrhosis</th>\n",
       "      <th>hepatic_failure</th>\n",
       "      <th>immunosuppression</th>\n",
       "      <th>leukemia</th>\n",
       "      <th>lymphoma</th>\n",
       "      <th>solid_tumor_with_metastasis</th>\n",
       "      <th>ventilated_apache</th>\n",
       "      <th>diabetes_mellitus</th>\n",
       "    </tr>\n",
       "  </thead>\n",
       "  <tbody>\n",
       "    <tr>\n",
       "      <th>50141</th>\n",
       "      <td>M</td>\n",
       "      <td>Caucasian</td>\n",
       "      <td>0.0</td>\n",
       "      <td>0</td>\n",
       "      <td>170.0</td>\n",
       "      <td>81.6</td>\n",
       "      <td>28.029903</td>\n",
       "      <td>Med-Surg ICU</td>\n",
       "      <td>36.7</td>\n",
       "      <td>36.7</td>\n",
       "      <td>...</td>\n",
       "      <td>66.0</td>\n",
       "      <td>0</td>\n",
       "      <td>0</td>\n",
       "      <td>0</td>\n",
       "      <td>0</td>\n",
       "      <td>0</td>\n",
       "      <td>0</td>\n",
       "      <td>0</td>\n",
       "      <td>0</td>\n",
       "      <td>0</td>\n",
       "    </tr>\n",
       "    <tr>\n",
       "      <th>52706</th>\n",
       "      <td>M</td>\n",
       "      <td>Caucasian</td>\n",
       "      <td>0.0</td>\n",
       "      <td>0</td>\n",
       "      <td>170.0</td>\n",
       "      <td>81.6</td>\n",
       "      <td>28.029903</td>\n",
       "      <td>Med-Surg ICU</td>\n",
       "      <td>36.7</td>\n",
       "      <td>36.7</td>\n",
       "      <td>...</td>\n",
       "      <td>66.0</td>\n",
       "      <td>0</td>\n",
       "      <td>0</td>\n",
       "      <td>0</td>\n",
       "      <td>0</td>\n",
       "      <td>0</td>\n",
       "      <td>0</td>\n",
       "      <td>0</td>\n",
       "      <td>0</td>\n",
       "      <td>0</td>\n",
       "    </tr>\n",
       "    <tr>\n",
       "      <th>56976</th>\n",
       "      <td>M</td>\n",
       "      <td>Caucasian</td>\n",
       "      <td>0.0</td>\n",
       "      <td>0</td>\n",
       "      <td>170.0</td>\n",
       "      <td>81.6</td>\n",
       "      <td>28.029903</td>\n",
       "      <td>Med-Surg ICU</td>\n",
       "      <td>36.7</td>\n",
       "      <td>36.7</td>\n",
       "      <td>...</td>\n",
       "      <td>66.0</td>\n",
       "      <td>0</td>\n",
       "      <td>0</td>\n",
       "      <td>0</td>\n",
       "      <td>0</td>\n",
       "      <td>0</td>\n",
       "      <td>0</td>\n",
       "      <td>0</td>\n",
       "      <td>0</td>\n",
       "      <td>0</td>\n",
       "    </tr>\n",
       "    <tr>\n",
       "      <th>63655</th>\n",
       "      <td>F</td>\n",
       "      <td>Caucasian</td>\n",
       "      <td>59.0</td>\n",
       "      <td>0</td>\n",
       "      <td>165.1</td>\n",
       "      <td>156.6</td>\n",
       "      <td>57.451002</td>\n",
       "      <td>Med-Surg ICU</td>\n",
       "      <td>36.8</td>\n",
       "      <td>35.0</td>\n",
       "      <td>...</td>\n",
       "      <td>138.0</td>\n",
       "      <td>0</td>\n",
       "      <td>0</td>\n",
       "      <td>0</td>\n",
       "      <td>0</td>\n",
       "      <td>0</td>\n",
       "      <td>0</td>\n",
       "      <td>0</td>\n",
       "      <td>1</td>\n",
       "      <td>1</td>\n",
       "    </tr>\n",
       "    <tr>\n",
       "      <th>67151</th>\n",
       "      <td>M</td>\n",
       "      <td>Caucasian</td>\n",
       "      <td>19.0</td>\n",
       "      <td>0</td>\n",
       "      <td>188.0</td>\n",
       "      <td>81.6</td>\n",
       "      <td>28.029903</td>\n",
       "      <td>Med-Surg ICU</td>\n",
       "      <td>36.7</td>\n",
       "      <td>36.7</td>\n",
       "      <td>...</td>\n",
       "      <td>103.0</td>\n",
       "      <td>0</td>\n",
       "      <td>0</td>\n",
       "      <td>0</td>\n",
       "      <td>0</td>\n",
       "      <td>0</td>\n",
       "      <td>0</td>\n",
       "      <td>0</td>\n",
       "      <td>0</td>\n",
       "      <td>0</td>\n",
       "    </tr>\n",
       "    <tr>\n",
       "      <th>68629</th>\n",
       "      <td>F</td>\n",
       "      <td>Caucasian</td>\n",
       "      <td>25.0</td>\n",
       "      <td>0</td>\n",
       "      <td>172.7</td>\n",
       "      <td>95.3</td>\n",
       "      <td>31.952749</td>\n",
       "      <td>Med-Surg ICU</td>\n",
       "      <td>36.7</td>\n",
       "      <td>36.7</td>\n",
       "      <td>...</td>\n",
       "      <td>68.0</td>\n",
       "      <td>0</td>\n",
       "      <td>0</td>\n",
       "      <td>0</td>\n",
       "      <td>0</td>\n",
       "      <td>0</td>\n",
       "      <td>0</td>\n",
       "      <td>0</td>\n",
       "      <td>0</td>\n",
       "      <td>0</td>\n",
       "    </tr>\n",
       "    <tr>\n",
       "      <th>70052</th>\n",
       "      <td>M</td>\n",
       "      <td>Caucasian</td>\n",
       "      <td>0.0</td>\n",
       "      <td>0</td>\n",
       "      <td>170.0</td>\n",
       "      <td>81.6</td>\n",
       "      <td>28.029903</td>\n",
       "      <td>Med-Surg ICU</td>\n",
       "      <td>36.7</td>\n",
       "      <td>36.7</td>\n",
       "      <td>...</td>\n",
       "      <td>66.0</td>\n",
       "      <td>0</td>\n",
       "      <td>0</td>\n",
       "      <td>0</td>\n",
       "      <td>0</td>\n",
       "      <td>0</td>\n",
       "      <td>0</td>\n",
       "      <td>0</td>\n",
       "      <td>0</td>\n",
       "      <td>0</td>\n",
       "    </tr>\n",
       "    <tr>\n",
       "      <th>74860</th>\n",
       "      <td>M</td>\n",
       "      <td>Caucasian</td>\n",
       "      <td>0.0</td>\n",
       "      <td>0</td>\n",
       "      <td>170.0</td>\n",
       "      <td>81.6</td>\n",
       "      <td>28.029903</td>\n",
       "      <td>Med-Surg ICU</td>\n",
       "      <td>36.7</td>\n",
       "      <td>36.7</td>\n",
       "      <td>...</td>\n",
       "      <td>66.0</td>\n",
       "      <td>0</td>\n",
       "      <td>0</td>\n",
       "      <td>0</td>\n",
       "      <td>0</td>\n",
       "      <td>0</td>\n",
       "      <td>0</td>\n",
       "      <td>0</td>\n",
       "      <td>0</td>\n",
       "      <td>0</td>\n",
       "    </tr>\n",
       "  </tbody>\n",
       "</table>\n",
       "<p>8 rows × 41 columns</p>\n",
       "</div>"
      ],
      "text/plain": [
       "      gender  ethnicity   age  elective_surgery  height  weight        bmi  \\\n",
       "50141      M  Caucasian   0.0                 0   170.0    81.6  28.029903   \n",
       "52706      M  Caucasian   0.0                 0   170.0    81.6  28.029903   \n",
       "56976      M  Caucasian   0.0                 0   170.0    81.6  28.029903   \n",
       "63655      F  Caucasian  59.0                 0   165.1   156.6  57.451002   \n",
       "67151      M  Caucasian  19.0                 0   188.0    81.6  28.029903   \n",
       "68629      F  Caucasian  25.0                 0   172.7    95.3  31.952749   \n",
       "70052      M  Caucasian   0.0                 0   170.0    81.6  28.029903   \n",
       "74860      M  Caucasian   0.0                 0   170.0    81.6  28.029903   \n",
       "\n",
       "           icu_type  h1_temp_max  h1_temp_min  ...  map_apache  aids  \\\n",
       "50141  Med-Surg ICU         36.7         36.7  ...        66.0     0   \n",
       "52706  Med-Surg ICU         36.7         36.7  ...        66.0     0   \n",
       "56976  Med-Surg ICU         36.7         36.7  ...        66.0     0   \n",
       "63655  Med-Surg ICU         36.8         35.0  ...       138.0     0   \n",
       "67151  Med-Surg ICU         36.7         36.7  ...       103.0     0   \n",
       "68629  Med-Surg ICU         36.7         36.7  ...        68.0     0   \n",
       "70052  Med-Surg ICU         36.7         36.7  ...        66.0     0   \n",
       "74860  Med-Surg ICU         36.7         36.7  ...        66.0     0   \n",
       "\n",
       "       cirrhosis  hepatic_failure  immunosuppression  leukemia  lymphoma  \\\n",
       "50141          0                0                  0         0         0   \n",
       "52706          0                0                  0         0         0   \n",
       "56976          0                0                  0         0         0   \n",
       "63655          0                0                  0         0         0   \n",
       "67151          0                0                  0         0         0   \n",
       "68629          0                0                  0         0         0   \n",
       "70052          0                0                  0         0         0   \n",
       "74860          0                0                  0         0         0   \n",
       "\n",
       "       solid_tumor_with_metastasis  ventilated_apache  diabetes_mellitus  \n",
       "50141                            0                  0                  0  \n",
       "52706                            0                  0                  0  \n",
       "56976                            0                  0                  0  \n",
       "63655                            0                  1                  1  \n",
       "67151                            0                  0                  0  \n",
       "68629                            0                  0                  0  \n",
       "70052                            0                  0                  0  \n",
       "74860                            0                  0                  0  \n",
       "\n",
       "[8 rows x 41 columns]"
      ]
     },
     "execution_count": 31,
     "metadata": {},
     "output_type": "execute_result"
    }
   ],
   "source": [
    "new_table[new_table.duplicated()]"
   ]
  },
  {
   "cell_type": "code",
   "execution_count": 32,
   "metadata": {},
   "outputs": [],
   "source": [
    "new_table.drop_duplicates(ignore_index=True,inplace=True)"
   ]
  },
  {
   "cell_type": "code",
   "execution_count": 33,
   "metadata": {},
   "outputs": [
    {
     "data": {
      "text/plain": [
       "(79151, 41)"
      ]
     },
     "execution_count": 33,
     "metadata": {},
     "output_type": "execute_result"
    }
   ],
   "source": [
    "new_table.shape"
   ]
  },
  {
   "cell_type": "markdown",
   "metadata": {
    "id": "ISsOORPOe3Wu"
   },
   "source": [
    "## Normalizing features and one-hot encoding categorical features"
   ]
  },
  {
   "cell_type": "code",
   "execution_count": 34,
   "metadata": {
    "colab": {
     "base_uri": "https://localhost:8080/",
     "height": 487
    },
    "executionInfo": {
     "elapsed": 1870,
     "status": "ok",
     "timestamp": 1652112529596,
     "user": {
      "displayName": "MIA BIAN",
      "userId": "12076802795410247755"
     },
     "user_tz": 240
    },
    "id": "DU_8fR86Y1NK",
    "outputId": "1176723f-b326-4ec4-b57e-8357c2f22abe"
   },
   "outputs": [
    {
     "data": {
      "text/html": [
       "<div>\n",
       "<style scoped>\n",
       "    .dataframe tbody tr th:only-of-type {\n",
       "        vertical-align: middle;\n",
       "    }\n",
       "\n",
       "    .dataframe tbody tr th {\n",
       "        vertical-align: top;\n",
       "    }\n",
       "\n",
       "    .dataframe thead th {\n",
       "        text-align: right;\n",
       "    }\n",
       "</style>\n",
       "<table border=\"1\" class=\"dataframe\">\n",
       "  <thead>\n",
       "    <tr style=\"text-align: right;\">\n",
       "      <th></th>\n",
       "      <th>age</th>\n",
       "      <th>elective_surgery</th>\n",
       "      <th>height</th>\n",
       "      <th>weight</th>\n",
       "      <th>bmi</th>\n",
       "      <th>h1_temp_max</th>\n",
       "      <th>h1_temp_min</th>\n",
       "      <th>d1_albumin_max</th>\n",
       "      <th>d1_bilirubin_max</th>\n",
       "      <th>d1_bun_max</th>\n",
       "      <th>...</th>\n",
       "      <th>ethnicity_4</th>\n",
       "      <th>ethnicity_5</th>\n",
       "      <th>icu_type_0</th>\n",
       "      <th>icu_type_1</th>\n",
       "      <th>icu_type_2</th>\n",
       "      <th>icu_type_3</th>\n",
       "      <th>icu_type_4</th>\n",
       "      <th>icu_type_5</th>\n",
       "      <th>icu_type_6</th>\n",
       "      <th>icu_type_7</th>\n",
       "    </tr>\n",
       "  </thead>\n",
       "  <tbody>\n",
       "    <tr>\n",
       "      <th>0</th>\n",
       "      <td>0.337583</td>\n",
       "      <td>-0.483414</td>\n",
       "      <td>0.997598</td>\n",
       "      <td>-0.442464</td>\n",
       "      <td>-0.816371</td>\n",
       "      <td>4.101002</td>\n",
       "      <td>1.237613</td>\n",
       "      <td>-1.496435</td>\n",
       "      <td>-0.316306</td>\n",
       "      <td>0.250111</td>\n",
       "      <td>...</td>\n",
       "      <td>0.0</td>\n",
       "      <td>0.0</td>\n",
       "      <td>0.0</td>\n",
       "      <td>0.0</td>\n",
       "      <td>1.0</td>\n",
       "      <td>0.0</td>\n",
       "      <td>0.0</td>\n",
       "      <td>0.0</td>\n",
       "      <td>0.0</td>\n",
       "      <td>0.0</td>\n",
       "    </tr>\n",
       "    <tr>\n",
       "      <th>1</th>\n",
       "      <td>-2.325368</td>\n",
       "      <td>-0.483414</td>\n",
       "      <td>0.290902</td>\n",
       "      <td>0.408908</td>\n",
       "      <td>0.288200</td>\n",
       "      <td>-0.024289</td>\n",
       "      <td>0.096034</td>\n",
       "      <td>0.053400</td>\n",
       "      <td>-0.144957</td>\n",
       "      <td>-0.297632</td>\n",
       "      <td>...</td>\n",
       "      <td>0.0</td>\n",
       "      <td>0.0</td>\n",
       "      <td>0.0</td>\n",
       "      <td>0.0</td>\n",
       "      <td>0.0</td>\n",
       "      <td>0.0</td>\n",
       "      <td>0.0</td>\n",
       "      <td>1.0</td>\n",
       "      <td>0.0</td>\n",
       "      <td>0.0</td>\n",
       "    </tr>\n",
       "    <tr>\n",
       "      <th>2</th>\n",
       "      <td>1.142662</td>\n",
       "      <td>2.068622</td>\n",
       "      <td>-0.415794</td>\n",
       "      <td>-0.927826</td>\n",
       "      <td>-0.828022</td>\n",
       "      <td>-1.644938</td>\n",
       "      <td>-2.615216</td>\n",
       "      <td>0.053400</td>\n",
       "      <td>-0.144957</td>\n",
       "      <td>-0.297632</td>\n",
       "      <td>...</td>\n",
       "      <td>0.0</td>\n",
       "      <td>0.0</td>\n",
       "      <td>0.0</td>\n",
       "      <td>0.0</td>\n",
       "      <td>1.0</td>\n",
       "      <td>0.0</td>\n",
       "      <td>0.0</td>\n",
       "      <td>0.0</td>\n",
       "      <td>0.0</td>\n",
       "      <td>0.0</td>\n",
       "    </tr>\n",
       "    <tr>\n",
       "      <th>3</th>\n",
       "      <td>-2.696943</td>\n",
       "      <td>-0.483414</td>\n",
       "      <td>1.713592</td>\n",
       "      <td>-0.136130</td>\n",
       "      <td>-0.181766</td>\n",
       "      <td>-0.024289</td>\n",
       "      <td>0.096034</td>\n",
       "      <td>0.053400</td>\n",
       "      <td>-0.144957</td>\n",
       "      <td>-0.297632</td>\n",
       "      <td>...</td>\n",
       "      <td>0.0</td>\n",
       "      <td>0.0</td>\n",
       "      <td>0.0</td>\n",
       "      <td>0.0</td>\n",
       "      <td>0.0</td>\n",
       "      <td>0.0</td>\n",
       "      <td>0.0</td>\n",
       "      <td>1.0</td>\n",
       "      <td>0.0</td>\n",
       "      <td>0.0</td>\n",
       "    </tr>\n",
       "    <tr>\n",
       "      <th>4</th>\n",
       "      <td>0.894945</td>\n",
       "      <td>-0.483414</td>\n",
       "      <td>-0.890024</td>\n",
       "      <td>-0.589664</td>\n",
       "      <td>-0.254609</td>\n",
       "      <td>-0.613616</td>\n",
       "      <td>-0.474755</td>\n",
       "      <td>-3.046271</td>\n",
       "      <td>-0.247766</td>\n",
       "      <td>-0.745785</td>\n",
       "      <td>...</td>\n",
       "      <td>0.0</td>\n",
       "      <td>0.0</td>\n",
       "      <td>0.0</td>\n",
       "      <td>0.0</td>\n",
       "      <td>0.0</td>\n",
       "      <td>0.0</td>\n",
       "      <td>0.0</td>\n",
       "      <td>1.0</td>\n",
       "      <td>0.0</td>\n",
       "      <td>0.0</td>\n",
       "    </tr>\n",
       "  </tbody>\n",
       "</table>\n",
       "<p>5 rows × 53 columns</p>\n",
       "</div>"
      ],
      "text/plain": [
       "        age  elective_surgery    height    weight       bmi  h1_temp_max  \\\n",
       "0  0.337583         -0.483414  0.997598 -0.442464 -0.816371     4.101002   \n",
       "1 -2.325368         -0.483414  0.290902  0.408908  0.288200    -0.024289   \n",
       "2  1.142662          2.068622 -0.415794 -0.927826 -0.828022    -1.644938   \n",
       "3 -2.696943         -0.483414  1.713592 -0.136130 -0.181766    -0.024289   \n",
       "4  0.894945         -0.483414 -0.890024 -0.589664 -0.254609    -0.613616   \n",
       "\n",
       "   h1_temp_min  d1_albumin_max  d1_bilirubin_max  d1_bun_max  ...  \\\n",
       "0     1.237613       -1.496435         -0.316306    0.250111  ...   \n",
       "1     0.096034        0.053400         -0.144957   -0.297632  ...   \n",
       "2    -2.615216        0.053400         -0.144957   -0.297632  ...   \n",
       "3     0.096034        0.053400         -0.144957   -0.297632  ...   \n",
       "4    -0.474755       -3.046271         -0.247766   -0.745785  ...   \n",
       "\n",
       "   ethnicity_4  ethnicity_5  icu_type_0  icu_type_1  icu_type_2  icu_type_3  \\\n",
       "0          0.0          0.0         0.0         0.0         1.0         0.0   \n",
       "1          0.0          0.0         0.0         0.0         0.0         0.0   \n",
       "2          0.0          0.0         0.0         0.0         1.0         0.0   \n",
       "3          0.0          0.0         0.0         0.0         0.0         0.0   \n",
       "4          0.0          0.0         0.0         0.0         0.0         0.0   \n",
       "\n",
       "   icu_type_4  icu_type_5  icu_type_6  icu_type_7  \n",
       "0         0.0         0.0         0.0         0.0  \n",
       "1         0.0         1.0         0.0         0.0  \n",
       "2         0.0         0.0         0.0         0.0  \n",
       "3         0.0         1.0         0.0         0.0  \n",
       "4         0.0         1.0         0.0         0.0  \n",
       "\n",
       "[5 rows x 53 columns]"
      ]
     },
     "execution_count": 34,
     "metadata": {},
     "output_type": "execute_result"
    }
   ],
   "source": [
    "from sklearn import preprocessing\n",
    "# enc.fit(table)\n",
    "def encode_column(table, colname):\n",
    "  table = copy.copy(table)\n",
    "  enc = preprocessing.OneHotEncoder(drop='if_binary', sparse=False)\n",
    "  newcol = enc.fit_transform(table[colname].to_numpy().reshape([-1,1]))\n",
    "  new_colnames = [\"%s_%d\"%(colname, i) for i in range(newcol.shape[1])]\n",
    "  table.loc[:,new_colnames] = newcol\n",
    "  del table[colname]\n",
    "  return table\n",
    "\n",
    "def normalize_column(table, colname):\n",
    "  table = copy.copy(table)\n",
    "  scaler = preprocessing.StandardScaler()\n",
    "  newcol = scaler.fit_transform(table[colname].to_numpy().reshape([-1,1]))\n",
    "  table[colname] = newcol\n",
    "  return table\n",
    "\n",
    "cat_cols = []\n",
    "for colname in new_table.columns:\n",
    "  # if colname in ['gender', 'icu_type']:\n",
    "  if new_table[colname].dtype == object:\n",
    "    new_table = encode_column(new_table, colname)\n",
    "  elif colname!='diabetes_mellitus':\n",
    "    new_table = normalize_column(new_table, colname)\n",
    "  \n",
    "# enc.fit_transform(table[cat_cols], )\n",
    "# cat_cols\n",
    "new_table.head()"
   ]
  },
  {
   "cell_type": "code",
   "execution_count": 35,
   "metadata": {
    "colab": {
     "base_uri": "https://localhost:8080/"
    },
    "executionInfo": {
     "elapsed": 1091,
     "status": "ok",
     "timestamp": 1652059473364,
     "user": {
      "displayName": "MIA BIAN",
      "userId": "12076802795410247755"
     },
     "user_tz": 240
    },
    "id": "278NpJdVQZgq",
    "outputId": "04ecf346-5938-45d8-b6cc-db89e10e30db"
   },
   "outputs": [
    {
     "data": {
      "text/plain": [
       "float64    52\n",
       "int64       1\n",
       "dtype: int64"
      ]
     },
     "execution_count": 35,
     "metadata": {},
     "output_type": "execute_result"
    }
   ],
   "source": [
    "new_table.dtypes.value_counts()"
   ]
  },
  {
   "cell_type": "code",
   "execution_count": 36,
   "metadata": {},
   "outputs": [
    {
     "data": {
      "text/plain": [
       "(79151, 53)"
      ]
     },
     "execution_count": 36,
     "metadata": {},
     "output_type": "execute_result"
    }
   ],
   "source": [
    "new_table.shape"
   ]
  },
  {
   "cell_type": "markdown",
   "metadata": {},
   "source": [
    "### Outliers Handling"
   ]
  },
  {
   "cell_type": "code",
   "execution_count": 37,
   "metadata": {
    "scrolled": true
   },
   "outputs": [
    {
     "data": {
      "text/html": [
       "<div>\n",
       "<style scoped>\n",
       "    .dataframe tbody tr th:only-of-type {\n",
       "        vertical-align: middle;\n",
       "    }\n",
       "\n",
       "    .dataframe tbody tr th {\n",
       "        vertical-align: top;\n",
       "    }\n",
       "\n",
       "    .dataframe thead th {\n",
       "        text-align: right;\n",
       "    }\n",
       "</style>\n",
       "<table border=\"1\" class=\"dataframe\">\n",
       "  <thead>\n",
       "    <tr style=\"text-align: right;\">\n",
       "      <th></th>\n",
       "      <th>age</th>\n",
       "      <th>elective_surgery</th>\n",
       "      <th>height</th>\n",
       "      <th>weight</th>\n",
       "      <th>bmi</th>\n",
       "      <th>h1_temp_max</th>\n",
       "      <th>h1_temp_min</th>\n",
       "      <th>d1_albumin_max</th>\n",
       "      <th>d1_bilirubin_max</th>\n",
       "      <th>d1_bun_max</th>\n",
       "      <th>...</th>\n",
       "      <th>ethnicity_4</th>\n",
       "      <th>ethnicity_5</th>\n",
       "      <th>icu_type_0</th>\n",
       "      <th>icu_type_1</th>\n",
       "      <th>icu_type_2</th>\n",
       "      <th>icu_type_3</th>\n",
       "      <th>icu_type_4</th>\n",
       "      <th>icu_type_5</th>\n",
       "      <th>icu_type_6</th>\n",
       "      <th>icu_type_7</th>\n",
       "    </tr>\n",
       "  </thead>\n",
       "  <tbody>\n",
       "    <tr>\n",
       "      <th>0</th>\n",
       "      <td>-2.325368</td>\n",
       "      <td>-0.483414</td>\n",
       "      <td>0.290902</td>\n",
       "      <td>0.408908</td>\n",
       "      <td>0.288200</td>\n",
       "      <td>-0.024289</td>\n",
       "      <td>0.096034</td>\n",
       "      <td>0.053400</td>\n",
       "      <td>-0.144957</td>\n",
       "      <td>-0.297632</td>\n",
       "      <td>...</td>\n",
       "      <td>0.0</td>\n",
       "      <td>0.0</td>\n",
       "      <td>0.0</td>\n",
       "      <td>0.0</td>\n",
       "      <td>0.0</td>\n",
       "      <td>0.0</td>\n",
       "      <td>0.0</td>\n",
       "      <td>1.0</td>\n",
       "      <td>0.0</td>\n",
       "      <td>0.0</td>\n",
       "    </tr>\n",
       "    <tr>\n",
       "      <th>1</th>\n",
       "      <td>-2.696943</td>\n",
       "      <td>-0.483414</td>\n",
       "      <td>1.713592</td>\n",
       "      <td>-0.136130</td>\n",
       "      <td>-0.181766</td>\n",
       "      <td>-0.024289</td>\n",
       "      <td>0.096034</td>\n",
       "      <td>0.053400</td>\n",
       "      <td>-0.144957</td>\n",
       "      <td>-0.297632</td>\n",
       "      <td>...</td>\n",
       "      <td>0.0</td>\n",
       "      <td>0.0</td>\n",
       "      <td>0.0</td>\n",
       "      <td>0.0</td>\n",
       "      <td>0.0</td>\n",
       "      <td>0.0</td>\n",
       "      <td>0.0</td>\n",
       "      <td>1.0</td>\n",
       "      <td>0.0</td>\n",
       "      <td>0.0</td>\n",
       "    </tr>\n",
       "    <tr>\n",
       "      <th>2</th>\n",
       "      <td>0.275654</td>\n",
       "      <td>-0.483414</td>\n",
       "      <td>1.946058</td>\n",
       "      <td>0.595891</td>\n",
       "      <td>-0.238587</td>\n",
       "      <td>-0.024289</td>\n",
       "      <td>0.096034</td>\n",
       "      <td>0.053400</td>\n",
       "      <td>-0.144957</td>\n",
       "      <td>-0.646195</td>\n",
       "      <td>...</td>\n",
       "      <td>0.0</td>\n",
       "      <td>0.0</td>\n",
       "      <td>0.0</td>\n",
       "      <td>0.0</td>\n",
       "      <td>0.0</td>\n",
       "      <td>0.0</td>\n",
       "      <td>0.0</td>\n",
       "      <td>1.0</td>\n",
       "      <td>0.0</td>\n",
       "      <td>0.0</td>\n",
       "    </tr>\n",
       "    <tr>\n",
       "      <th>3</th>\n",
       "      <td>0.771087</td>\n",
       "      <td>2.068622</td>\n",
       "      <td>1.239362</td>\n",
       "      <td>1.073296</td>\n",
       "      <td>0.471216</td>\n",
       "      <td>-0.613616</td>\n",
       "      <td>-0.617453</td>\n",
       "      <td>0.053400</td>\n",
       "      <td>-0.144957</td>\n",
       "      <td>-0.447016</td>\n",
       "      <td>...</td>\n",
       "      <td>0.0</td>\n",
       "      <td>0.0</td>\n",
       "      <td>0.0</td>\n",
       "      <td>0.0</td>\n",
       "      <td>0.0</td>\n",
       "      <td>0.0</td>\n",
       "      <td>0.0</td>\n",
       "      <td>1.0</td>\n",
       "      <td>0.0</td>\n",
       "      <td>0.0</td>\n",
       "    </tr>\n",
       "    <tr>\n",
       "      <th>4</th>\n",
       "      <td>0.337583</td>\n",
       "      <td>-0.483414</td>\n",
       "      <td>0.290902</td>\n",
       "      <td>0.711264</td>\n",
       "      <td>0.593477</td>\n",
       "      <td>-0.466284</td>\n",
       "      <td>-0.332058</td>\n",
       "      <td>0.053400</td>\n",
       "      <td>-0.144957</td>\n",
       "      <td>-0.745785</td>\n",
       "      <td>...</td>\n",
       "      <td>0.0</td>\n",
       "      <td>0.0</td>\n",
       "      <td>0.0</td>\n",
       "      <td>0.0</td>\n",
       "      <td>0.0</td>\n",
       "      <td>0.0</td>\n",
       "      <td>0.0</td>\n",
       "      <td>1.0</td>\n",
       "      <td>0.0</td>\n",
       "      <td>0.0</td>\n",
       "    </tr>\n",
       "    <tr>\n",
       "      <th>...</th>\n",
       "      <td>...</td>\n",
       "      <td>...</td>\n",
       "      <td>...</td>\n",
       "      <td>...</td>\n",
       "      <td>...</td>\n",
       "      <td>...</td>\n",
       "      <td>...</td>\n",
       "      <td>...</td>\n",
       "      <td>...</td>\n",
       "      <td>...</td>\n",
       "      <td>...</td>\n",
       "      <td>...</td>\n",
       "      <td>...</td>\n",
       "      <td>...</td>\n",
       "      <td>...</td>\n",
       "      <td>...</td>\n",
       "      <td>...</td>\n",
       "      <td>...</td>\n",
       "      <td>...</td>\n",
       "      <td>...</td>\n",
       "      <td>...</td>\n",
       "    </tr>\n",
       "    <tr>\n",
       "      <th>25737</th>\n",
       "      <td>0.523371</td>\n",
       "      <td>-0.483414</td>\n",
       "      <td>-0.425092</td>\n",
       "      <td>0.890291</td>\n",
       "      <td>1.186273</td>\n",
       "      <td>1.449030</td>\n",
       "      <td>1.523008</td>\n",
       "      <td>-0.610815</td>\n",
       "      <td>-0.247766</td>\n",
       "      <td>-0.347426</td>\n",
       "      <td>...</td>\n",
       "      <td>0.0</td>\n",
       "      <td>0.0</td>\n",
       "      <td>0.0</td>\n",
       "      <td>0.0</td>\n",
       "      <td>0.0</td>\n",
       "      <td>0.0</td>\n",
       "      <td>0.0</td>\n",
       "      <td>1.0</td>\n",
       "      <td>0.0</td>\n",
       "      <td>0.0</td>\n",
       "    </tr>\n",
       "    <tr>\n",
       "      <th>25738</th>\n",
       "      <td>-2.325368</td>\n",
       "      <td>2.068622</td>\n",
       "      <td>0.765132</td>\n",
       "      <td>0.679437</td>\n",
       "      <td>0.329443</td>\n",
       "      <td>-0.466284</td>\n",
       "      <td>-0.332058</td>\n",
       "      <td>0.053400</td>\n",
       "      <td>-0.144957</td>\n",
       "      <td>-0.546606</td>\n",
       "      <td>...</td>\n",
       "      <td>0.0</td>\n",
       "      <td>0.0</td>\n",
       "      <td>0.0</td>\n",
       "      <td>0.0</td>\n",
       "      <td>0.0</td>\n",
       "      <td>0.0</td>\n",
       "      <td>0.0</td>\n",
       "      <td>1.0</td>\n",
       "      <td>0.0</td>\n",
       "      <td>0.0</td>\n",
       "    </tr>\n",
       "    <tr>\n",
       "      <th>25739</th>\n",
       "      <td>0.894945</td>\n",
       "      <td>-0.483414</td>\n",
       "      <td>0.225812</td>\n",
       "      <td>0.313427</td>\n",
       "      <td>0.222232</td>\n",
       "      <td>0.859702</td>\n",
       "      <td>0.952218</td>\n",
       "      <td>-0.168005</td>\n",
       "      <td>-0.110687</td>\n",
       "      <td>0.200317</td>\n",
       "      <td>...</td>\n",
       "      <td>0.0</td>\n",
       "      <td>0.0</td>\n",
       "      <td>0.0</td>\n",
       "      <td>0.0</td>\n",
       "      <td>0.0</td>\n",
       "      <td>0.0</td>\n",
       "      <td>0.0</td>\n",
       "      <td>1.0</td>\n",
       "      <td>0.0</td>\n",
       "      <td>0.0</td>\n",
       "    </tr>\n",
       "    <tr>\n",
       "      <th>25740</th>\n",
       "      <td>1.452307</td>\n",
       "      <td>-0.483414</td>\n",
       "      <td>-0.183328</td>\n",
       "      <td>0.046876</td>\n",
       "      <td>0.136601</td>\n",
       "      <td>-0.024289</td>\n",
       "      <td>0.096034</td>\n",
       "      <td>0.053400</td>\n",
       "      <td>-0.144957</td>\n",
       "      <td>-0.447016</td>\n",
       "      <td>...</td>\n",
       "      <td>0.0</td>\n",
       "      <td>0.0</td>\n",
       "      <td>0.0</td>\n",
       "      <td>0.0</td>\n",
       "      <td>0.0</td>\n",
       "      <td>0.0</td>\n",
       "      <td>0.0</td>\n",
       "      <td>1.0</td>\n",
       "      <td>0.0</td>\n",
       "      <td>0.0</td>\n",
       "    </tr>\n",
       "    <tr>\n",
       "      <th>25741</th>\n",
       "      <td>1.576166</td>\n",
       "      <td>-0.483414</td>\n",
       "      <td>0.049138</td>\n",
       "      <td>0.233859</td>\n",
       "      <td>0.223934</td>\n",
       "      <td>0.270375</td>\n",
       "      <td>-1.330940</td>\n",
       "      <td>0.053400</td>\n",
       "      <td>-0.110687</td>\n",
       "      <td>0.100727</td>\n",
       "      <td>...</td>\n",
       "      <td>0.0</td>\n",
       "      <td>0.0</td>\n",
       "      <td>0.0</td>\n",
       "      <td>0.0</td>\n",
       "      <td>0.0</td>\n",
       "      <td>0.0</td>\n",
       "      <td>0.0</td>\n",
       "      <td>1.0</td>\n",
       "      <td>0.0</td>\n",
       "      <td>0.0</td>\n",
       "    </tr>\n",
       "  </tbody>\n",
       "</table>\n",
       "<p>25742 rows × 53 columns</p>\n",
       "</div>"
      ],
      "text/plain": [
       "            age  elective_surgery    height    weight       bmi  h1_temp_max  \\\n",
       "0     -2.325368         -0.483414  0.290902  0.408908  0.288200    -0.024289   \n",
       "1     -2.696943         -0.483414  1.713592 -0.136130 -0.181766    -0.024289   \n",
       "2      0.275654         -0.483414  1.946058  0.595891 -0.238587    -0.024289   \n",
       "3      0.771087          2.068622  1.239362  1.073296  0.471216    -0.613616   \n",
       "4      0.337583         -0.483414  0.290902  0.711264  0.593477    -0.466284   \n",
       "...         ...               ...       ...       ...       ...          ...   \n",
       "25737  0.523371         -0.483414 -0.425092  0.890291  1.186273     1.449030   \n",
       "25738 -2.325368          2.068622  0.765132  0.679437  0.329443    -0.466284   \n",
       "25739  0.894945         -0.483414  0.225812  0.313427  0.222232     0.859702   \n",
       "25740  1.452307         -0.483414 -0.183328  0.046876  0.136601    -0.024289   \n",
       "25741  1.576166         -0.483414  0.049138  0.233859  0.223934     0.270375   \n",
       "\n",
       "       h1_temp_min  d1_albumin_max  d1_bilirubin_max  d1_bun_max  ...  \\\n",
       "0         0.096034        0.053400         -0.144957   -0.297632  ...   \n",
       "1         0.096034        0.053400         -0.144957   -0.297632  ...   \n",
       "2         0.096034        0.053400         -0.144957   -0.646195  ...   \n",
       "3        -0.617453        0.053400         -0.144957   -0.447016  ...   \n",
       "4        -0.332058        0.053400         -0.144957   -0.745785  ...   \n",
       "...            ...             ...               ...         ...  ...   \n",
       "25737     1.523008       -0.610815         -0.247766   -0.347426  ...   \n",
       "25738    -0.332058        0.053400         -0.144957   -0.546606  ...   \n",
       "25739     0.952218       -0.168005         -0.110687    0.200317  ...   \n",
       "25740     0.096034        0.053400         -0.144957   -0.447016  ...   \n",
       "25741    -1.330940        0.053400         -0.110687    0.100727  ...   \n",
       "\n",
       "       ethnicity_4  ethnicity_5  icu_type_0  icu_type_1  icu_type_2  \\\n",
       "0              0.0          0.0         0.0         0.0         0.0   \n",
       "1              0.0          0.0         0.0         0.0         0.0   \n",
       "2              0.0          0.0         0.0         0.0         0.0   \n",
       "3              0.0          0.0         0.0         0.0         0.0   \n",
       "4              0.0          0.0         0.0         0.0         0.0   \n",
       "...            ...          ...         ...         ...         ...   \n",
       "25737          0.0          0.0         0.0         0.0         0.0   \n",
       "25738          0.0          0.0         0.0         0.0         0.0   \n",
       "25739          0.0          0.0         0.0         0.0         0.0   \n",
       "25740          0.0          0.0         0.0         0.0         0.0   \n",
       "25741          0.0          0.0         0.0         0.0         0.0   \n",
       "\n",
       "       icu_type_3  icu_type_4  icu_type_5  icu_type_6  icu_type_7  \n",
       "0             0.0         0.0         1.0         0.0         0.0  \n",
       "1             0.0         0.0         1.0         0.0         0.0  \n",
       "2             0.0         0.0         1.0         0.0         0.0  \n",
       "3             0.0         0.0         1.0         0.0         0.0  \n",
       "4             0.0         0.0         1.0         0.0         0.0  \n",
       "...           ...         ...         ...         ...         ...  \n",
       "25737         0.0         0.0         1.0         0.0         0.0  \n",
       "25738         0.0         0.0         1.0         0.0         0.0  \n",
       "25739         0.0         0.0         1.0         0.0         0.0  \n",
       "25740         0.0         0.0         1.0         0.0         0.0  \n",
       "25741         0.0         0.0         1.0         0.0         0.0  \n",
       "\n",
       "[25742 rows x 53 columns]"
      ]
     },
     "execution_count": 37,
     "metadata": {},
     "output_type": "execute_result"
    }
   ],
   "source": [
    "from scipy import stats\n",
    "df=new_table[(np.abs(stats.zscore(new_table)) < 3).all(axis=1)]\n",
    "df.reset_index(drop=True,inplace=True)\n",
    "df"
   ]
  },
  {
   "cell_type": "code",
   "execution_count": 38,
   "metadata": {},
   "outputs": [
    {
     "data": {
      "text/plain": [
       "(25742, 53)"
      ]
     },
     "execution_count": 38,
     "metadata": {},
     "output_type": "execute_result"
    }
   ],
   "source": [
    "df.shape"
   ]
  },
  {
   "cell_type": "markdown",
   "metadata": {},
   "source": [
    "## Note :\n",
    "#### 1. After removing 60% missing values columns, there were 48 columns left\n",
    "#### 2. Columns with zero sum will be removed as they don't help in prediction. Hence removed 'readmission_status' column.\n",
    "#### 3. Checking the correleation among all features and deleted features with more than 90% correlation.\n",
    "#### 4. Removing the highly correlated features will help in reducing the shape of the data which helps further in processing time.\n",
    "#### 5. For handling the missing values since the data is skewed , we have choosen \"Median\" for Numerical datatype features and \"Mode\" for Categorical datatype features.\n",
    "#### 6. For checking the Duplicated values, we found 8 rows which were deleted to remove duplicacy of training records.\n",
    "#### 7. We did Normalization using StandardScaler to transform features to be on a similar scale. This improves the performance and training stability of the model.\n",
    "#### 8. We did One hot Encoding categorical data, a process of converting categorical data into integer format so that the data with converted categorical values can be provided to the different models.\n",
    "#### 9. We use this categorical data encoding technique as the features are nominal(do not have any order). In one hot encoding, for each level of a categorical feature, we created a new variable. Each category is mapped with a binary variable containing either 0 or 1. Here, 0 represents the absence, and 1 represents the presence of that category.\n",
    "#### 10.  We performed outlier detection by using 3 standard deviations and everything lying away from this will be treated as an outlier and removed the data having z-score greater than 3.\n",
    "#### 11. The original data had 79159 rows and now the new data frame has 25739 and those 53420 rows that were treated as outliers are now removed."
   ]
  },
  {
   "cell_type": "markdown",
   "metadata": {},
   "source": [
    "## Model Training"
   ]
  },
  {
   "cell_type": "markdown",
   "metadata": {
    "id": "la9n9RHEfC2_"
   },
   "source": [
    "## Splitting dataset into training and test dataset"
   ]
  },
  {
   "cell_type": "code",
   "execution_count": 39,
   "metadata": {
    "id": "oldROw2SawBB"
   },
   "outputs": [],
   "source": [
    "from sklearn.model_selection import train_test_split\n",
    "X_train, X_test, y_train, y_test = train_test_split(df.loc[:, df.columns != 'diabetes_mellitus'], df['diabetes_mellitus'].astype(int), test_size=0.33, random_state=42)"
   ]
  },
  {
   "cell_type": "markdown",
   "metadata": {
    "id": "gOPViJKSfLzc"
   },
   "source": [
    "### fitting an SVM model"
   ]
  },
  {
   "cell_type": "code",
   "execution_count": 40,
   "metadata": {
    "colab": {
     "base_uri": "https://localhost:8080/"
    },
    "executionInfo": {
     "elapsed": 380050,
     "status": "ok",
     "timestamp": 1652112924040,
     "user": {
      "displayName": "MIA BIAN",
      "userId": "12076802795410247755"
     },
     "user_tz": 240
    },
    "id": "OUkKwzmFUugL",
    "outputId": "73b25874-1d5e-484b-d73b-4242d46ba6bb"
   },
   "outputs": [
    {
     "data": {
      "text/plain": [
       "SVC()"
      ]
     },
     "execution_count": 40,
     "metadata": {},
     "output_type": "execute_result"
    }
   ],
   "source": [
    "from sklearn import svm\n",
    "svm_model = svm.SVC()\n",
    "svm_model.fit(X_train, y_train)\n",
    "# pred = svm_model.predict(X_train)\n",
    "# acc = (pred == y_train).mean()\n",
    "# acc"
   ]
  },
  {
   "cell_type": "code",
   "execution_count": 41,
   "metadata": {
    "colab": {
     "base_uri": "https://localhost:8080/"
    },
    "executionInfo": {
     "elapsed": 71970,
     "status": "ok",
     "timestamp": 1652112995994,
     "user": {
      "displayName": "MIA BIAN",
      "userId": "12076802795410247755"
     },
     "user_tz": 240
    },
    "id": "MyAUfk7xVbO0",
    "outputId": "bbf1fcbf-3d23-4b44-80c9-6da392a34bcd"
   },
   "outputs": [
    {
     "name": "stdout",
     "output_type": "stream",
     "text": [
      "Classification Report for SVM model : \n",
      "               precision    recall  f1-score   support\n",
      "\n",
      "           0       0.75      0.94      0.83      5827\n",
      "           1       0.70      0.33      0.45      2668\n",
      "\n",
      "    accuracy                           0.74      8495\n",
      "   macro avg       0.73      0.63      0.64      8495\n",
      "weighted avg       0.74      0.74      0.71      8495\n",
      "\n",
      "Accuracy of the SVM Model :0.7446733372572101\n"
     ]
    }
   ],
   "source": [
    "from sklearn.metrics import classification_report,confusion_matrix,accuracy_score\n",
    "pred = svm_model.predict(X_test)\n",
    "print(f\"Classification Report for SVM model : \\n {classification_report(y_test,pred)}\")\n",
    "acc = (pred == y_test).mean()\n",
    "print(f\"Accuracy of the SVM Model :{acc}\")"
   ]
  },
  {
   "cell_type": "markdown",
   "metadata": {
    "id": "YpZosU32fXvc"
   },
   "source": [
    "## SVM model and cross-validation scores\n",
    "\n"
   ]
  },
  {
   "cell_type": "code",
   "execution_count": 42,
   "metadata": {
    "colab": {
     "base_uri": "https://localhost:8080/"
    },
    "executionInfo": {
     "elapsed": 535811,
     "status": "ok",
     "timestamp": 1652115492357,
     "user": {
      "displayName": "MIA BIAN",
      "userId": "12076802795410247755"
     },
     "user_tz": 240
    },
    "id": "ZSZm3MqMo-oE",
    "outputId": "9cc5b0b8-a07a-4c56-ef7b-e0349088a1fb"
   },
   "outputs": [
    {
     "data": {
      "text/plain": [
       "{'fit_time': array([22.6187675 , 21.83886909, 23.1129849 , 22.31773853, 23.28122878,\n",
       "        23.05492139, 23.32160497, 23.39152145, 23.02005506, 23.39817905]),\n",
       " 'score_time': array([0.94810963, 0.97507429, 0.96914935, 1.05619478, 0.98453164,\n",
       "        1.0289557 , 1.03779221, 0.96317697, 1.00898695, 0.96708059]),\n",
       " 'estimator': (SVC(random_state=0),\n",
       "  SVC(random_state=0),\n",
       "  SVC(random_state=0),\n",
       "  SVC(random_state=0),\n",
       "  SVC(random_state=0),\n",
       "  SVC(random_state=0),\n",
       "  SVC(random_state=0),\n",
       "  SVC(random_state=0),\n",
       "  SVC(random_state=0),\n",
       "  SVC(random_state=0)),\n",
       " 'test_precision_macro': array([0.72803229, 0.72615046, 0.72078613, 0.72508879, 0.71615736,\n",
       "        0.70102419, 0.73273413, 0.70474258, 0.7185345 , 0.74251392]),\n",
       " 'test_recall_macro': array([0.63492763, 0.63168871, 0.62478679, 0.62936555, 0.61769165,\n",
       "        0.62537708, 0.63653398, 0.62090249, 0.61900693, 0.64138012]),\n",
       " 'test_accuracy': array([0.74492754, 0.74318841, 0.73913043, 0.74202899, 0.73565217,\n",
       "        0.73333333, 0.74724638, 0.73317865, 0.73665893, 0.75174014])}"
      ]
     },
     "execution_count": 42,
     "metadata": {},
     "output_type": "execute_result"
    }
   ],
   "source": [
    "from sklearn.model_selection import cross_val_score, cross_validate\n",
    "from sklearn.svm import SVC\n",
    "from sklearn.metrics import recall_score\n",
    "clf = SVC(random_state=0)\n",
    "# cross_val_score(clf, table, 'diabetes_mellitus', cv=10)\n",
    "scoring = ['precision_macro', 'recall_macro', 'accuracy']\n",
    "scores = cross_validate(clf, X_train, y_train, scoring=scoring, return_estimator=True, cv=10)\n",
    "scores"
   ]
  },
  {
   "cell_type": "code",
   "execution_count": 43,
   "metadata": {
    "id": "dEKOLfA_o87j"
   },
   "outputs": [],
   "source": [
    "allscores = {}\n",
    "allscores['svm'] = scores"
   ]
  },
  {
   "cell_type": "markdown",
   "metadata": {},
   "source": [
    "### fitting an Decision Tree model"
   ]
  },
  {
   "cell_type": "code",
   "execution_count": 44,
   "metadata": {},
   "outputs": [],
   "source": [
    "from sklearn.tree import DecisionTreeClassifier\n",
    "decision_tree = DecisionTreeClassifier(random_state=0,max_depth=2)\n",
    "decision_tree = decision_tree.fit(X_train, y_train)"
   ]
  },
  {
   "cell_type": "code",
   "execution_count": 45,
   "metadata": {},
   "outputs": [
    {
     "name": "stdout",
     "output_type": "stream",
     "text": [
      "Classification Report for Decision Tree model : \n",
      "               precision    recall  f1-score   support\n",
      "\n",
      "           0       0.74      0.93      0.82      5827\n",
      "           1       0.65      0.27      0.38      2668\n",
      "\n",
      "    accuracy                           0.73      8495\n",
      "   macro avg       0.69      0.60      0.60      8495\n",
      "weighted avg       0.71      0.73      0.68      8495\n",
      "\n",
      "Accuracy of the Decision Tree Model :0.7254855797527958\n"
     ]
    }
   ],
   "source": [
    "pred = decision_tree.predict(X_test)\n",
    "print(f\"Classification Report for Decision Tree model : \\n {classification_report(y_test,pred)}\")\n",
    "acc = (pred == y_test).mean()\n",
    "print(f\"Accuracy of the Decision Tree Model :{acc}\")"
   ]
  },
  {
   "cell_type": "markdown",
   "metadata": {
    "id": "Pe1ewbrqf8d5"
   },
   "source": [
    "## Decision tree and cross-validation scores"
   ]
  },
  {
   "cell_type": "code",
   "execution_count": 46,
   "metadata": {
    "colab": {
     "base_uri": "https://localhost:8080/"
    },
    "executionInfo": {
     "elapsed": 20465,
     "status": "ok",
     "timestamp": 1652116323174,
     "user": {
      "displayName": "MIA BIAN",
      "userId": "12076802795410247755"
     },
     "user_tz": 240
    },
    "id": "EMxg1za7kZjh",
    "outputId": "7d48fc51-c785-4f73-d389-e5efd0e0b8d4",
    "scrolled": true
   },
   "outputs": [
    {
     "data": {
      "text/plain": [
       "{'fit_time': array([0.37271619, 0.36802959, 0.42011333, 0.39194846, 0.38149261,\n",
       "        0.37170839, 0.38310695, 0.37791419, 0.3910327 , 0.38083076]),\n",
       " 'score_time': array([0.00500011, 0.00800085, 0.00700068, 0.0079999 , 0.00500059,\n",
       "        0.00500154, 0.00600147, 0.00500083, 0.006001  , 0.00499988]),\n",
       " 'estimator': (DecisionTreeClassifier(random_state=0),\n",
       "  DecisionTreeClassifier(random_state=0),\n",
       "  DecisionTreeClassifier(random_state=0),\n",
       "  DecisionTreeClassifier(random_state=0),\n",
       "  DecisionTreeClassifier(random_state=0),\n",
       "  DecisionTreeClassifier(random_state=0),\n",
       "  DecisionTreeClassifier(random_state=0),\n",
       "  DecisionTreeClassifier(random_state=0),\n",
       "  DecisionTreeClassifier(random_state=0),\n",
       "  DecisionTreeClassifier(random_state=0)),\n",
       " 'test_precision_macro': array([0.60317228, 0.60693734, 0.57482097, 0.63569099, 0.57595789,\n",
       "        0.60126732, 0.59807441, 0.58607588, 0.59883835, 0.60902928]),\n",
       " 'test_recall_macro': array([0.60347519, 0.60756229, 0.57547372, 0.63661466, 0.57830431,\n",
       "        0.60357643, 0.60110403, 0.5877209 , 0.60008015, 0.61151341]),\n",
       " 'test_accuracy': array([0.65623188, 0.65913043, 0.63072464, 0.68405797, 0.6284058 ,\n",
       "        0.65217391, 0.64811594, 0.63921114, 0.65139211, 0.65893271])}"
      ]
     },
     "execution_count": 46,
     "metadata": {},
     "output_type": "execute_result"
    }
   ],
   "source": [
    "from sklearn.model_selection import cross_val_score, cross_validate\n",
    "from sklearn.tree import DecisionTreeClassifier\n",
    "from sklearn.metrics import recall_score\n",
    "clf = DecisionTreeClassifier(random_state=0)\n",
    "scoring = ['precision_macro', 'recall_macro', 'accuracy']\n",
    "scores = cross_validate(clf, X_train, y_train, scoring=scoring, return_estimator=True, cv=10)\n",
    "allscores['decision_tree'] = scores\n",
    "scores"
   ]
  },
  {
   "cell_type": "markdown",
   "metadata": {},
   "source": [
    "### Fitting Random Forest Model"
   ]
  },
  {
   "cell_type": "code",
   "execution_count": 47,
   "metadata": {},
   "outputs": [
    {
     "data": {
      "text/plain": [
       "RandomForestClassifier(max_depth=8, random_state=0)"
      ]
     },
     "execution_count": 47,
     "metadata": {},
     "output_type": "execute_result"
    }
   ],
   "source": [
    "from sklearn.ensemble import RandomForestClassifier\n",
    "RF = RandomForestClassifier(max_depth=8, random_state=0)\n",
    "RF.fit(X_train, y_train)"
   ]
  },
  {
   "cell_type": "code",
   "execution_count": 48,
   "metadata": {},
   "outputs": [
    {
     "name": "stdout",
     "output_type": "stream",
     "text": [
      "Classification Report for RF model : \n",
      "               precision    recall  f1-score   support\n",
      "\n",
      "           0       0.74      0.94      0.83      5827\n",
      "           1       0.70      0.29      0.41      2668\n",
      "\n",
      "    accuracy                           0.74      8495\n",
      "   macro avg       0.72      0.62      0.62      8495\n",
      "weighted avg       0.73      0.74      0.70      8495\n",
      "\n",
      "Accuracy of the RF Model :0.7383166568569747\n"
     ]
    }
   ],
   "source": [
    "pred = RF.predict(X_test)\n",
    "print(f\"Classification Report for RF model : \\n {classification_report(y_test,pred)}\")\n",
    "acc = (pred == y_test).mean()\n",
    "print(f\"Accuracy of the RF Model :{acc}\")"
   ]
  },
  {
   "cell_type": "markdown",
   "metadata": {
    "id": "XrBNASWhgEoY"
   },
   "source": [
    "## Random forest and cross-validation scores"
   ]
  },
  {
   "cell_type": "code",
   "execution_count": 49,
   "metadata": {
    "colab": {
     "base_uri": "https://localhost:8080/"
    },
    "executionInfo": {
     "elapsed": 16330,
     "status": "ok",
     "timestamp": 1652116339486,
     "user": {
      "displayName": "MIA BIAN",
      "userId": "12076802795410247755"
     },
     "user_tz": 240
    },
    "id": "NalBdkcQoNOa",
    "outputId": "efcd00a3-ca36-4f54-fbbe-93e9d951b7eb"
   },
   "outputs": [
    {
     "data": {
      "text/plain": [
       "{'fit_time': array([0.43403625, 0.43577337, 0.42203569, 0.45396042, 0.4687202 ,\n",
       "        0.45575523, 0.51682758, 0.44003105, 0.48804092, 0.459162  ]),\n",
       " 'score_time': array([0.01000071, 0.01200104, 0.01000047, 0.01200104, 0.0120008 ,\n",
       "        0.01399803, 0.01000071, 0.01200008, 0.0130012 , 0.0098021 ]),\n",
       " 'estimator': (RandomForestClassifier(n_estimators=10, random_state=0),\n",
       "  RandomForestClassifier(n_estimators=10, random_state=0),\n",
       "  RandomForestClassifier(n_estimators=10, random_state=0),\n",
       "  RandomForestClassifier(n_estimators=10, random_state=0),\n",
       "  RandomForestClassifier(n_estimators=10, random_state=0),\n",
       "  RandomForestClassifier(n_estimators=10, random_state=0),\n",
       "  RandomForestClassifier(n_estimators=10, random_state=0),\n",
       "  RandomForestClassifier(n_estimators=10, random_state=0),\n",
       "  RandomForestClassifier(n_estimators=10, random_state=0),\n",
       "  RandomForestClassifier(n_estimators=10, random_state=0)),\n",
       " 'test_precision_macro': array([0.69235911, 0.67302359, 0.6633907 , 0.6877193 , 0.67361175,\n",
       "        0.67099442, 0.7065713 , 0.67534823, 0.68704142, 0.68986889]),\n",
       " 'test_recall_macro': array([0.62875038, 0.61338534, 0.60907689, 0.62466329, 0.61661872,\n",
       "        0.62211942, 0.64089955, 0.6184101 , 0.62695256, 0.62152578]),\n",
       " 'test_accuracy': array([0.73043478, 0.71884058, 0.71362319, 0.72753623, 0.72      ,\n",
       "        0.71942029, 0.73971014, 0.72099768, 0.72795824, 0.72795824])}"
      ]
     },
     "execution_count": 49,
     "metadata": {},
     "output_type": "execute_result"
    }
   ],
   "source": [
    "from sklearn.model_selection import cross_val_score, cross_validate\n",
    "from sklearn.ensemble import RandomForestClassifier\n",
    "from sklearn.metrics import recall_score\n",
    "clf = RandomForestClassifier(n_estimators=10,random_state=0)\n",
    "# cross_val_score(clf, table, 'diabetes_mellitus', cv=10)\n",
    "scoring = ['precision_macro', 'recall_macro', 'accuracy']\n",
    "scores = cross_validate(clf, X_train, y_train, scoring=scoring, return_estimator=True, cv=10)\n",
    "allscores['random_forest'] = scores\n",
    "scores"
   ]
  },
  {
   "cell_type": "markdown",
   "metadata": {
    "id": "L3zeF7ragMNB"
   },
   "source": [
    "## Plot performances of models"
   ]
  },
  {
   "cell_type": "code",
   "execution_count": 50,
   "metadata": {
    "colab": {
     "base_uri": "https://localhost:8080/",
     "height": 475
    },
    "executionInfo": {
     "elapsed": 164,
     "status": "ok",
     "timestamp": 1652118549291,
     "user": {
      "displayName": "MIA BIAN",
      "userId": "12076802795410247755"
     },
     "user_tz": 240
    },
    "id": "7t2N55ozod4M",
    "outputId": "10723ca0-e3ba-45eb-c180-920f1d83dc7d"
   },
   "outputs": [
    {
     "name": "stderr",
     "output_type": "stream",
     "text": [
      "<ipython-input-50-de4ec68a4cc2>:12: FutureWarning: In a future version of pandas all arguments of DataFrame.sort_index will be keyword-only\n",
      "  df_results.sort_index(1, 0, inplace=True)\n"
     ]
    },
    {
     "data": {
      "text/html": [
       "<div>\n",
       "<style scoped>\n",
       "    .dataframe tbody tr th:only-of-type {\n",
       "        vertical-align: middle;\n",
       "    }\n",
       "\n",
       "    .dataframe tbody tr th {\n",
       "        vertical-align: top;\n",
       "    }\n",
       "\n",
       "    .dataframe thead tr th {\n",
       "        text-align: left;\n",
       "    }\n",
       "</style>\n",
       "<table border=\"1\" class=\"dataframe\">\n",
       "  <thead>\n",
       "    <tr>\n",
       "      <th></th>\n",
       "      <th colspan=\"3\" halign=\"left\">test_accuracy</th>\n",
       "      <th colspan=\"3\" halign=\"left\">test_precision_macro</th>\n",
       "      <th colspan=\"3\" halign=\"left\">test_recall_macro</th>\n",
       "    </tr>\n",
       "    <tr>\n",
       "      <th></th>\n",
       "      <th>decision_tree</th>\n",
       "      <th>random_forest</th>\n",
       "      <th>svm</th>\n",
       "      <th>decision_tree</th>\n",
       "      <th>random_forest</th>\n",
       "      <th>svm</th>\n",
       "      <th>decision_tree</th>\n",
       "      <th>random_forest</th>\n",
       "      <th>svm</th>\n",
       "    </tr>\n",
       "  </thead>\n",
       "  <tbody>\n",
       "    <tr>\n",
       "      <th>0</th>\n",
       "      <td>0.656232</td>\n",
       "      <td>0.730435</td>\n",
       "      <td>0.744928</td>\n",
       "      <td>0.603172</td>\n",
       "      <td>0.692359</td>\n",
       "      <td>0.728032</td>\n",
       "      <td>0.603475</td>\n",
       "      <td>0.628750</td>\n",
       "      <td>0.634928</td>\n",
       "    </tr>\n",
       "    <tr>\n",
       "      <th>1</th>\n",
       "      <td>0.659130</td>\n",
       "      <td>0.718841</td>\n",
       "      <td>0.743188</td>\n",
       "      <td>0.606937</td>\n",
       "      <td>0.673024</td>\n",
       "      <td>0.726150</td>\n",
       "      <td>0.607562</td>\n",
       "      <td>0.613385</td>\n",
       "      <td>0.631689</td>\n",
       "    </tr>\n",
       "    <tr>\n",
       "      <th>2</th>\n",
       "      <td>0.630725</td>\n",
       "      <td>0.713623</td>\n",
       "      <td>0.739130</td>\n",
       "      <td>0.574821</td>\n",
       "      <td>0.663391</td>\n",
       "      <td>0.720786</td>\n",
       "      <td>0.575474</td>\n",
       "      <td>0.609077</td>\n",
       "      <td>0.624787</td>\n",
       "    </tr>\n",
       "    <tr>\n",
       "      <th>3</th>\n",
       "      <td>0.684058</td>\n",
       "      <td>0.727536</td>\n",
       "      <td>0.742029</td>\n",
       "      <td>0.635691</td>\n",
       "      <td>0.687719</td>\n",
       "      <td>0.725089</td>\n",
       "      <td>0.636615</td>\n",
       "      <td>0.624663</td>\n",
       "      <td>0.629366</td>\n",
       "    </tr>\n",
       "    <tr>\n",
       "      <th>4</th>\n",
       "      <td>0.628406</td>\n",
       "      <td>0.720000</td>\n",
       "      <td>0.735652</td>\n",
       "      <td>0.575958</td>\n",
       "      <td>0.673612</td>\n",
       "      <td>0.716157</td>\n",
       "      <td>0.578304</td>\n",
       "      <td>0.616619</td>\n",
       "      <td>0.617692</td>\n",
       "    </tr>\n",
       "    <tr>\n",
       "      <th>5</th>\n",
       "      <td>0.652174</td>\n",
       "      <td>0.719420</td>\n",
       "      <td>0.733333</td>\n",
       "      <td>0.601267</td>\n",
       "      <td>0.670994</td>\n",
       "      <td>0.701024</td>\n",
       "      <td>0.603576</td>\n",
       "      <td>0.622119</td>\n",
       "      <td>0.625377</td>\n",
       "    </tr>\n",
       "    <tr>\n",
       "      <th>6</th>\n",
       "      <td>0.648116</td>\n",
       "      <td>0.739710</td>\n",
       "      <td>0.747246</td>\n",
       "      <td>0.598074</td>\n",
       "      <td>0.706571</td>\n",
       "      <td>0.732734</td>\n",
       "      <td>0.601104</td>\n",
       "      <td>0.640900</td>\n",
       "      <td>0.636534</td>\n",
       "    </tr>\n",
       "    <tr>\n",
       "      <th>7</th>\n",
       "      <td>0.639211</td>\n",
       "      <td>0.720998</td>\n",
       "      <td>0.733179</td>\n",
       "      <td>0.586076</td>\n",
       "      <td>0.675348</td>\n",
       "      <td>0.704743</td>\n",
       "      <td>0.587721</td>\n",
       "      <td>0.618410</td>\n",
       "      <td>0.620902</td>\n",
       "    </tr>\n",
       "    <tr>\n",
       "      <th>8</th>\n",
       "      <td>0.651392</td>\n",
       "      <td>0.727958</td>\n",
       "      <td>0.736659</td>\n",
       "      <td>0.598838</td>\n",
       "      <td>0.687041</td>\n",
       "      <td>0.718535</td>\n",
       "      <td>0.600080</td>\n",
       "      <td>0.626953</td>\n",
       "      <td>0.619007</td>\n",
       "    </tr>\n",
       "    <tr>\n",
       "      <th>9</th>\n",
       "      <td>0.658933</td>\n",
       "      <td>0.727958</td>\n",
       "      <td>0.751740</td>\n",
       "      <td>0.609029</td>\n",
       "      <td>0.689869</td>\n",
       "      <td>0.742514</td>\n",
       "      <td>0.611513</td>\n",
       "      <td>0.621526</td>\n",
       "      <td>0.641380</td>\n",
       "    </tr>\n",
       "  </tbody>\n",
       "</table>\n",
       "</div>"
      ],
      "text/plain": [
       "  test_accuracy                         test_precision_macro                \\\n",
       "  decision_tree random_forest       svm        decision_tree random_forest   \n",
       "0      0.656232      0.730435  0.744928             0.603172      0.692359   \n",
       "1      0.659130      0.718841  0.743188             0.606937      0.673024   \n",
       "2      0.630725      0.713623  0.739130             0.574821      0.663391   \n",
       "3      0.684058      0.727536  0.742029             0.635691      0.687719   \n",
       "4      0.628406      0.720000  0.735652             0.575958      0.673612   \n",
       "5      0.652174      0.719420  0.733333             0.601267      0.670994   \n",
       "6      0.648116      0.739710  0.747246             0.598074      0.706571   \n",
       "7      0.639211      0.720998  0.733179             0.586076      0.675348   \n",
       "8      0.651392      0.727958  0.736659             0.598838      0.687041   \n",
       "9      0.658933      0.727958  0.751740             0.609029      0.689869   \n",
       "\n",
       "            test_recall_macro                          \n",
       "        svm     decision_tree random_forest       svm  \n",
       "0  0.728032          0.603475      0.628750  0.634928  \n",
       "1  0.726150          0.607562      0.613385  0.631689  \n",
       "2  0.720786          0.575474      0.609077  0.624787  \n",
       "3  0.725089          0.636615      0.624663  0.629366  \n",
       "4  0.716157          0.578304      0.616619  0.617692  \n",
       "5  0.701024          0.603576      0.622119  0.625377  \n",
       "6  0.732734          0.601104      0.640900  0.636534  \n",
       "7  0.704743          0.587721      0.618410  0.620902  \n",
       "8  0.718535          0.600080      0.626953  0.619007  \n",
       "9  0.742514          0.611513      0.621526  0.641380  "
      ]
     },
     "execution_count": 50,
     "metadata": {},
     "output_type": "execute_result"
    }
   ],
   "source": [
    "def plot_results(allscores):\n",
    "  res = {}\n",
    "  for m, scores in allscores.items():\n",
    "    for metric in ['test_accuracy', 'test_precision_macro', 'test_recall_macro']:\n",
    "      res[(m, metric)] = scores[metric]\n",
    "  df = pd.DataFrame(res)\n",
    "  value = df.mean(0)\n",
    "  std = df.std(0)\n",
    "  return df\n",
    "df_results = plot_results(allscores)\n",
    "df_results = df_results.swaplevel(0, 1, axis=1)\n",
    "df_results.sort_index(1, 0, inplace=True)\n",
    "df_results"
   ]
  },
  {
   "cell_type": "code",
   "execution_count": 51,
   "metadata": {
    "colab": {
     "base_uri": "https://localhost:8080/",
     "height": 956
    },
    "executionInfo": {
     "elapsed": 1148,
     "status": "ok",
     "timestamp": 1652118610501,
     "user": {
      "displayName": "MIA BIAN",
      "userId": "12076802795410247755"
     },
     "user_tz": 240
    },
    "id": "pBpa0RHo1-kF",
    "outputId": "5e4ed69c-dbdc-4766-bbb8-35229d177600",
    "scrolled": true
   },
   "outputs": [
    {
     "data": {
      "image/png": "[encoded data removed]",
      "text/plain": [
       "<Figure size 432x288 with 1 Axes>"
      ]
     },
     "metadata": {
      "needs_background": "light"
     },
     "output_type": "display_data"
    },
    {
     "data": {
      "image/png": "[encoded data removed]",
      "text/plain": [
       "<Figure size 432x288 with 1 Axes>"
      ]
     },
     "metadata": {
      "needs_background": "light"
     },
     "output_type": "display_data"
    },
    {
     "data": {
      "image/png": "[encoded data removed]",
      "text/plain": [
       "<Figure size 432x288 with 1 Axes>"
      ]
     },
     "metadata": {
      "needs_background": "light"
     },
     "output_type": "display_data"
    }
   ],
   "source": [
    "#  sns.barplot(data=df)\n",
    "for metric in ['test_accuracy', 'test_precision_macro', 'test_recall_macro']:\n",
    "  plt.figure()\n",
    "  df_results[metric].boxplot()\n",
    "  plt.title(metric)\n",
    "  plt.xticks(rotation=45)"
   ]
  },
  {
   "cell_type": "markdown",
   "metadata": {
    "id": "vI4s-PqTxcau"
   },
   "source": [
    "### According to the figures, SVM is significantly better than decision tree and random forest models"
   ]
  },
  {
   "cell_type": "markdown",
   "metadata": {},
   "source": [
    "### Checking the Class imbalance"
   ]
  },
  {
   "cell_type": "code",
   "execution_count": 52,
   "metadata": {},
   "outputs": [
    {
     "data": {
      "text/plain": [
       "0    17620\n",
       "1     8122\n",
       "Name: diabetes_mellitus, dtype: int64"
      ]
     },
     "execution_count": 52,
     "metadata": {},
     "output_type": "execute_result"
    },
    {
     "data": {
      "image/png": "[encoded data removed]",
      "text/plain": [
       "<Figure size 432x288 with 1 Axes>"
      ]
     },
     "metadata": {
      "needs_background": "light"
     },
     "output_type": "display_data"
    }
   ],
   "source": [
    "import seaborn as sb\n",
    "sb.countplot(df.diabetes_mellitus)\n",
    "df.diabetes_mellitus.value_counts()"
   ]
  },
  {
   "cell_type": "markdown",
   "metadata": {},
   "source": [
    "### Resampling (Over/Up-Sample) Minority Class"
   ]
  },
  {
   "cell_type": "code",
   "execution_count": 53,
   "metadata": {},
   "outputs": [
    {
     "data": {
      "text/plain": [
       "0    17620\n",
       "1     8122\n",
       "Name: diabetes_mellitus, dtype: int64"
      ]
     },
     "execution_count": 53,
     "metadata": {},
     "output_type": "execute_result"
    }
   ],
   "source": [
    "df.diabetes_mellitus.value_counts()"
   ]
  },
  {
   "cell_type": "code",
   "execution_count": 54,
   "metadata": {},
   "outputs": [],
   "source": [
    "from sklearn.utils import resample\n",
    "# Dividing majority and minority classes\n",
    "df_major = df[df.diabetes_mellitus == 0]\n",
    "df_minor = df[df.diabetes_mellitus == 1]\n",
    "  \n",
    "# Upsampling minority class\n",
    "df_minor_sample = resample(df_minor,\n",
    "                           # Upsample with replacement\n",
    "                           replace=True,    \n",
    "                           # Number to match majority class\n",
    "                           n_samples=17620,   \n",
    "                           random_state=42)"
   ]
  },
  {
   "cell_type": "code",
   "execution_count": 55,
   "metadata": {},
   "outputs": [
    {
     "name": "stdout",
     "output_type": "stream",
     "text": [
      "0    17620\n",
      "1    17620\n",
      "Name: diabetes_mellitus, dtype: int64\n"
     ]
    }
   ],
   "source": [
    "# Combine majority and upsampled minority class\n",
    "df_sample = pd.concat([df_major, df_minor_sample])\n",
    "  \n",
    "# Display count of data points in both class\n",
    "print(df_sample.diabetes_mellitus.value_counts())\n",
    "df_sample.reset_index(drop=True,inplace=True)"
   ]
  },
  {
   "cell_type": "code",
   "execution_count": 56,
   "metadata": {
    "scrolled": true
   },
   "outputs": [
    {
     "data": {
      "text/plain": [
       "0    17620\n",
       "1    17620\n",
       "Name: diabetes_mellitus, dtype: int64"
      ]
     },
     "execution_count": 56,
     "metadata": {},
     "output_type": "execute_result"
    },
    {
     "data": {
      "image/png": "[encoded data removed]",
      "text/plain": [
       "<Figure size 432x288 with 1 Axes>"
      ]
     },
     "metadata": {
      "needs_background": "light"
     },
     "output_type": "display_data"
    }
   ],
   "source": [
    "sb.countplot(df_sample.diabetes_mellitus)\n",
    "df_sample.diabetes_mellitus.value_counts()"
   ]
  },
  {
   "cell_type": "code",
   "execution_count": 58,
   "metadata": {},
   "outputs": [
    {
     "data": {
      "text/plain": [
       "(25742, 53)"
      ]
     },
     "execution_count": 58,
     "metadata": {},
     "output_type": "execute_result"
    }
   ],
   "source": [
    "df.shape"
   ]
  },
  {
   "cell_type": "code",
   "execution_count": 59,
   "metadata": {},
   "outputs": [],
   "source": [
    "from sklearn.model_selection import train_test_split\n",
    "X_train1, X_test1, y_train1, y_test1 = train_test_split(df_sample.loc[:, df_sample.columns != 'diabetes_mellitus'], df_sample['diabetes_mellitus'].astype(int), test_size=0.33, random_state=42)"
   ]
  },
  {
   "cell_type": "code",
   "execution_count": 60,
   "metadata": {},
   "outputs": [
    {
     "data": {
      "text/plain": [
       "SVC()"
      ]
     },
     "execution_count": 60,
     "metadata": {},
     "output_type": "execute_result"
    }
   ],
   "source": [
    "from sklearn import svm\n",
    "svm_model1 = svm.SVC()\n",
    "svm_model1.fit(X_train1, y_train1)"
   ]
  },
  {
   "cell_type": "code",
   "execution_count": 61,
   "metadata": {},
   "outputs": [
    {
     "name": "stdout",
     "output_type": "stream",
     "text": [
      "Classification Report for SVM model : \n",
      "               precision    recall  f1-score   support\n",
      "\n",
      "           0       0.73      0.75      0.74      5869\n",
      "           1       0.74      0.72      0.73      5761\n",
      "\n",
      "    accuracy                           0.74     11630\n",
      "   macro avg       0.74      0.74      0.74     11630\n",
      "weighted avg       0.74      0.74      0.74     11630\n",
      "\n",
      "Accuracy of the SVM Model :0.7354256233877902\n"
     ]
    }
   ],
   "source": [
    "from sklearn.metrics import classification_report,confusion_matrix,accuracy_score\n",
    "pred = svm_model1.predict(X_test1)\n",
    "print(f\"Classification Report for SVM model : \\n {classification_report(y_test1,pred)}\")\n",
    "acc = (pred == y_test1).mean()\n",
    "print(f\"Accuracy of the SVM Model :{acc}\")"
   ]
  },
  {
   "cell_type": "markdown",
   "metadata": {},
   "source": [
    "#### After resolving Class imbalance, we can see the precision and recall are well improved and our model will perform good for both classes"
   ]
  },
  {
   "cell_type": "markdown",
   "metadata": {
    "id": "fwAohdOdg1G7"
   },
   "source": [
    "## Unsupervised learning"
   ]
  },
  {
   "cell_type": "markdown",
   "metadata": {},
   "source": [
    "### fitting KMeans clustering"
   ]
  },
  {
   "cell_type": "code",
   "execution_count": 114,
   "metadata": {
    "id": "gPf5KaEq9Cmt"
   },
   "outputs": [],
   "source": [
    "from sklearn.cluster import KMeans\n",
    "from sklearn.decomposition import PCA\n",
    "\n",
    "\n",
    "reduced_data = PCA(n_components=3).fit_transform(X_train1)\n",
    "kmeans = KMeans(n_clusters=2, random_state=0).fit(reduced_data)\n"
   ]
  },
  {
   "cell_type": "code",
   "execution_count": 115,
   "metadata": {
    "colab": {
     "base_uri": "https://localhost:8080/",
     "height": 265
    },
    "executionInfo": {
     "elapsed": 2375,
     "status": "ok",
     "timestamp": 1652120168134,
     "user": {
      "displayName": "MIA BIAN",
      "userId": "12076802795410247755"
     },
     "user_tz": 240
    },
    "id": "oWBcfLjK_o_l",
    "outputId": "d6029c9d-27b5-4727-cf8d-4375bcbe22d3"
   },
   "outputs": [
    {
     "data": {
      "text/plain": [
       "(-10.0, 20.0)"
      ]
     },
     "execution_count": 115,
     "metadata": {},
     "output_type": "execute_result"
    },
    {
     "data": {
      "image/png": "[encoded data removed]",
      "text/plain": [
       "<Figure size 432x288 with 1 Axes>"
      ]
     },
     "metadata": {
      "needs_background": "light"
     },
     "output_type": "display_data"
    }
   ],
   "source": [
    "\n",
    "fig = plt.figure()\n",
    "ax = fig.add_subplot(projection='3d')\n",
    "\n",
    "markers = ['o', '^']\n",
    "for c in [0, 1]:\n",
    "  ind = y_train1 == c\n",
    "  # plt.scatter(reduced_data[ind,0], reduced_data[ind,1], marker=markers[c], c=kmeans.predict(reduced_data[ind,:]))\n",
    "  ax.scatter(reduced_data[ind,0], reduced_data[ind,1], reduced_data[ind,2], marker=markers[c], c=kmeans.predict(reduced_data[ind,:]),)\n",
    "ax.set_zlim(-10, 20)"
   ]
  },
  {
   "cell_type": "markdown",
   "metadata": {
    "id": "Mo0JxR_Dg_Ui"
   },
   "source": [
    "No clear clustering with kmeans"
   ]
  },
  {
   "cell_type": "markdown",
   "metadata": {
    "id": "2awnrlH7hJY9"
   },
   "source": [
    "T-SNE plotting"
   ]
  },
  {
   "cell_type": "code",
   "execution_count": 116,
   "metadata": {
    "executionInfo": {
     "elapsed": 685899,
     "status": "ok",
     "timestamp": 1652121179059,
     "user": {
      "displayName": "MIA BIAN",
      "userId": "12076802795410247755"
     },
     "user_tz": 240
    },
    "id": "p5L4IQh__4Xe"
   },
   "outputs": [],
   "source": [
    "# from sklearn.manifold import TSNE\n",
    "\n",
    "# X_embedded = TSNE(n_components=2,init='random')"
   ]
  },
  {
   "cell_type": "code",
   "execution_count": 117,
   "metadata": {
    "colab": {
     "base_uri": "https://localhost:8080/"
    },
    "executionInfo": {
     "elapsed": 169,
     "status": "ok",
     "timestamp": 1652122267630,
     "user": {
      "displayName": "MIA BIAN",
      "userId": "12076802795410247755"
     },
     "user_tz": 240
    },
    "id": "Vmh2l8gCDpqs",
    "outputId": "c29c22d9-2d1a-45ee-b0cf-6e229e5ebe30"
   },
   "outputs": [],
   "source": [
    "# X_embedded=X_embedded.fit_transform(X_train1)"
   ]
  },
  {
   "cell_type": "code",
   "execution_count": 118,
   "metadata": {
    "colab": {
     "base_uri": "https://localhost:8080/",
     "height": 265
    },
    "executionInfo": {
     "elapsed": 751,
     "status": "ok",
     "timestamp": 1652122666883,
     "user": {
      "displayName": "MIA BIAN",
      "userId": "12076802795410247755"
     },
     "user_tz": 240
    },
    "id": "XzwZ1TdjDgDX",
    "outputId": "b7ac7f2e-1d82-4f7e-ea1e-baf67e50d0de"
   },
   "outputs": [
    {
     "ename": "TypeError",
     "evalue": "'TSNE' object is not subscriptable",
     "output_type": "error",
     "traceback": [
      "\u001b[1;31m---------------------------------------------------------------------------\u001b[0m",
      "\u001b[1;31mTypeError\u001b[0m                                 Traceback (most recent call last)",
      "\u001b[1;32m<ipython-input-118-30f5c6c10d5e>\u001b[0m in \u001b[0;36m<module>\u001b[1;34m\u001b[0m\n\u001b[0;32m      5\u001b[0m \u001b[1;32mfor\u001b[0m \u001b[0mc\u001b[0m \u001b[1;32min\u001b[0m \u001b[1;33m[\u001b[0m\u001b[1;36m0\u001b[0m\u001b[1;33m,\u001b[0m \u001b[1;36m1\u001b[0m\u001b[1;33m]\u001b[0m\u001b[1;33m:\u001b[0m\u001b[1;33m\u001b[0m\u001b[1;33m\u001b[0m\u001b[0m\n\u001b[0;32m      6\u001b[0m   \u001b[0mind\u001b[0m \u001b[1;33m=\u001b[0m \u001b[1;33m(\u001b[0m\u001b[0my_train1\u001b[0m \u001b[1;33m==\u001b[0m \u001b[0mc\u001b[0m\u001b[1;33m)\u001b[0m\u001b[1;33m\u001b[0m\u001b[1;33m\u001b[0m\u001b[0m\n\u001b[1;32m----> 7\u001b[1;33m   \u001b[0max\u001b[0m\u001b[1;33m.\u001b[0m\u001b[0mscatter\u001b[0m\u001b[1;33m(\u001b[0m\u001b[0mX_embedded\u001b[0m\u001b[1;33m[\u001b[0m\u001b[0mind\u001b[0m\u001b[1;33m,\u001b[0m\u001b[1;36m0\u001b[0m\u001b[1;33m]\u001b[0m\u001b[1;33m,\u001b[0m \u001b[0mX_embedded\u001b[0m\u001b[1;33m[\u001b[0m\u001b[0mind\u001b[0m\u001b[1;33m,\u001b[0m\u001b[1;36m1\u001b[0m\u001b[1;33m]\u001b[0m\u001b[1;33m,\u001b[0m \u001b[0mmarker\u001b[0m\u001b[1;33m=\u001b[0m\u001b[1;34m'.'\u001b[0m\u001b[1;33m)\u001b[0m\u001b[1;33m\u001b[0m\u001b[1;33m\u001b[0m\u001b[0m\n\u001b[0m\u001b[0;32m      8\u001b[0m \u001b[0max\u001b[0m\u001b[1;33m.\u001b[0m\u001b[0mset_zlim\u001b[0m\u001b[1;33m(\u001b[0m\u001b[1;33m-\u001b[0m\u001b[1;36m10\u001b[0m\u001b[1;33m,\u001b[0m \u001b[1;36m10\u001b[0m\u001b[1;33m)\u001b[0m\u001b[1;33m\u001b[0m\u001b[1;33m\u001b[0m\u001b[0m\n",
      "\u001b[1;31mTypeError\u001b[0m: 'TSNE' object is not subscriptable"
     ]
    },
    {
     "data": {
      "image/png": "[encoded data removed]",
      "text/plain": [
       "<Figure size 432x288 with 1 Axes>"
      ]
     },
     "metadata": {
      "needs_background": "light"
     },
     "output_type": "display_data"
    }
   ],
   "source": [
    "fig = plt.figure()\n",
    "ax = fig.add_subplot(projection='3d')\n",
    "\n",
    "markers = ['o', '^']\n",
    "for c in [0, 1]:\n",
    "  ind = (y_train1 == c)\n",
    "  ax.scatter(X_embedded[ind,0], X_embedded[ind,1], marker='.')\n",
    "ax.set_zlim(-10, 10)"
   ]
  },
  {
   "cell_type": "markdown",
   "metadata": {
    "id": "EnpfTiqahSZs"
   },
   "source": [
    "There are some clusters, but no correlation with the target label"
   ]
  },
  {
   "cell_type": "code",
   "execution_count": null,
   "metadata": {
    "id": "zc6q9SR1DDVx"
   },
   "outputs": [],
   "source": []
  },
  {
   "cell_type": "markdown",
   "metadata": {
    "id": "fHi1IBs6MPOq"
   },
   "source": [
    "## Feature Selection"
   ]
  },
  {
   "cell_type": "markdown",
   "metadata": {
    "id": "RBWUci8ahizj"
   },
   "source": [
    "Fitting a linear model with L1 regularization to select features"
   ]
  },
  {
   "cell_type": "code",
   "execution_count": 119,
   "metadata": {
    "colab": {
     "base_uri": "https://localhost:8080/"
    },
    "executionInfo": {
     "elapsed": 3198,
     "status": "ok",
     "timestamp": 1652124369714,
     "user": {
      "displayName": "MIA BIAN",
      "userId": "12076802795410247755"
     },
     "user_tz": 240
    },
    "id": "UyxO_nqGPbvL",
    "outputId": "cbb4fe66-9d43-449a-8877-044894590fb4"
   },
   "outputs": [
    {
     "data": {
      "text/plain": [
       "0.6701633705932932"
      ]
     },
     "execution_count": 119,
     "metadata": {},
     "output_type": "execute_result"
    }
   ],
   "source": [
    "from sklearn.linear_model import SGDClassifier\n",
    "clf = SGDClassifier(max_iter=100000, tol=1e-8, penalty='l1')\n",
    "clf=clf.fit(X_train1, y_train1)\n",
    "pred = clf.predict(X_test1)\n",
    "acc = (pred == y_test1).mean()\n",
    "acc"
   ]
  },
  {
   "cell_type": "markdown",
   "metadata": {
    "id": "mU8JyfvRhrOp"
   },
   "source": [
    "Select features with coefficients greater than 0.1"
   ]
  },
  {
   "cell_type": "code",
   "execution_count": 120,
   "metadata": {
    "colab": {
     "base_uri": "https://localhost:8080/"
    },
    "executionInfo": {
     "elapsed": 19,
     "status": "ok",
     "timestamp": 1652124369717,
     "user": {
      "displayName": "MIA BIAN",
      "userId": "12076802795410247755"
     },
     "user_tz": 240
    },
    "id": "yfpvxwHFQNOI",
    "outputId": "e9a8444e-f252-479b-8c35-ff650d772206"
   },
   "outputs": [
    {
     "name": "stdout",
     "output_type": "stream",
     "text": [
      "19\n",
      "Index(['age', 'bmi', 'd1_albumin_max', 'd1_bilirubin_max', 'd1_bun_max',\n",
      "       'd1_glucose_min', 'd1_hco3_max', 'd1_hco3_min', 'd1_platelets_max',\n",
      "       'd1_potassium_min', 'd1_sodium_min', 'd1_wbc_max', 'h1_glucose_max',\n",
      "       'gcs_motor_apache', 'creatinine_apache', 'h1_spo2_max', 'gender_0',\n",
      "       'ethnicity_0', 'ethnicity_2'],\n",
      "      dtype='object')\n"
     ]
    }
   ],
   "source": [
    "ind = (np.abs(clf.coef_) > 0.1)[0]\n",
    "# print(len(ind))\n",
    "print(len(X_train1.columns[ind]))\n",
    "print(X_train1.columns[ind])"
   ]
  },
  {
   "cell_type": "code",
   "execution_count": 121,
   "metadata": {
    "colab": {
     "base_uri": "https://localhost:8080/"
    },
    "executionInfo": {
     "elapsed": 186,
     "status": "ok",
     "timestamp": 1652124371266,
     "user": {
      "displayName": "MIA BIAN",
      "userId": "12076802795410247755"
     },
     "user_tz": 240
    },
    "id": "X0AGAEzTRKMU",
    "outputId": "b2e078ea-1f43-480d-822a-681632739ec7"
   },
   "outputs": [
    {
     "data": {
      "text/plain": [
       "array([ 0.17592132,  0.50411623, -0.12210008, -0.49274655,  0.29469525,\n",
       "        0.14668946,  0.31861951, -0.26607178,  0.1451849 , -0.23140882,\n",
       "       -0.10290045, -0.18443361,  0.89104358,  0.23418116,  0.42120393,\n",
       "        0.23502639,  0.16096163,  0.30463127, -0.10171774])"
      ]
     },
     "execution_count": 121,
     "metadata": {},
     "output_type": "execute_result"
    }
   ],
   "source": [
    "clf.coef_[0][ind]"
   ]
  },
  {
   "cell_type": "code",
   "execution_count": 122,
   "metadata": {
    "colab": {
     "base_uri": "https://localhost:8080/"
    },
    "executionInfo": {
     "elapsed": 1255,
     "status": "ok",
     "timestamp": 1652124373391,
     "user": {
      "displayName": "MIA BIAN",
      "userId": "12076802795410247755"
     },
     "user_tz": 240
    },
    "id": "XGzGundfRPOd",
    "outputId": "a7d29faf-7fc2-45aa-9adb-ec590a9f42b9"
   },
   "outputs": [
    {
     "data": {
      "text/plain": [
       "0.6583834909716251"
      ]
     },
     "execution_count": 122,
     "metadata": {},
     "output_type": "execute_result"
    }
   ],
   "source": [
    "clf = SGDClassifier(max_iter=100000, tol=1e-8, penalty='l1')\n",
    "clf.fit(X_train1.iloc[:,ind], y_train1)\n",
    "pred = clf.predict(X_test1.iloc[:,ind])\n",
    "acc = (pred == y_test1).mean()\n",
    "acc"
   ]
  },
  {
   "cell_type": "code",
   "execution_count": 123,
   "metadata": {
    "colab": {
     "base_uri": "https://localhost:8080/"
    },
    "executionInfo": {
     "elapsed": 153,
     "status": "ok",
     "timestamp": 1652124506608,
     "user": {
      "displayName": "MIA BIAN",
      "userId": "12076802795410247755"
     },
     "user_tz": 240
    },
    "id": "zaGYrhciShF1",
    "outputId": "1df3416a-aeda-4606-8cd1-f6c7af1d5e61"
   },
   "outputs": [
    {
     "data": {
      "text/plain": [
       "Index(['age', 'bmi', 'd1_albumin_max', 'd1_bilirubin_max', 'd1_bun_max',\n",
       "       'd1_glucose_min', 'd1_hco3_max', 'd1_hco3_min', 'd1_platelets_max',\n",
       "       'd1_potassium_min', 'd1_sodium_min', 'd1_wbc_max', 'h1_glucose_max',\n",
       "       'gcs_motor_apache', 'creatinine_apache', 'h1_spo2_max', 'gender_0',\n",
       "       'ethnicity_0', 'ethnicity_2'],\n",
       "      dtype='object')"
      ]
     },
     "execution_count": 123,
     "metadata": {},
     "output_type": "execute_result"
    }
   ],
   "source": [
    "selected_features = X_train1.columns[ind]\n",
    "selected_features"
   ]
  },
  {
   "cell_type": "markdown",
   "metadata": {
    "id": "ikWrz8G3h1UH"
   },
   "source": [
    "Train models again with selected features"
   ]
  },
  {
   "cell_type": "code",
   "execution_count": 124,
   "metadata": {
    "id": "LZlF7FoxTv7Y"
   },
   "outputs": [
    {
     "data": {
      "text/plain": [
       "{'fit_time': array([20.94501424, 21.96067286, 21.98055196, 22.16819668, 23.98949122,\n",
       "        27.73480201, 23.11621594, 29.92396712, 32.45643878, 26.09861207]),\n",
       " 'score_time': array([1.12212014, 1.11042881, 1.25724149, 1.18880773, 1.16131711,\n",
       "        1.16158915, 1.22296023, 1.17108512, 1.23309207, 1.20011282]),\n",
       " 'estimator': (SVC(random_state=0),\n",
       "  SVC(random_state=0),\n",
       "  SVC(random_state=0),\n",
       "  SVC(random_state=0),\n",
       "  SVC(random_state=0),\n",
       "  SVC(random_state=0),\n",
       "  SVC(random_state=0),\n",
       "  SVC(random_state=0),\n",
       "  SVC(random_state=0),\n",
       "  SVC(random_state=0)),\n",
       " 'test_precision_macro': array([0.718046  , 0.7382379 , 0.71807832, 0.71853437, 0.70283951,\n",
       "        0.71688625, 0.72241051, 0.73147983, 0.7346393 , 0.71510247]),\n",
       " 'test_recall_macro': array([0.71760288, 0.73753184, 0.71797316, 0.71840264, 0.70236267,\n",
       "        0.7167163 , 0.72185031, 0.73114097, 0.73449787, 0.7149972 ]),\n",
       " 'test_accuracy': array([0.71749259, 0.73739941, 0.71791614, 0.71833969, 0.70224481,\n",
       "        0.71664549, 0.72172808, 0.73104617, 0.73443456, 0.71495129])}"
      ]
     },
     "execution_count": 124,
     "metadata": {},
     "output_type": "execute_result"
    }
   ],
   "source": [
    "from sklearn.model_selection import cross_val_score, cross_validate\n",
    "from sklearn.svm import SVC\n",
    "from sklearn.metrics import recall_score\n",
    "clf = SVC(random_state=0)\n",
    "# cross_val_score(clf, table, 'diabetes_mellitus', cv=10)\n",
    "scoring = ['precision_macro', 'recall_macro', 'accuracy']\n",
    "scores = cross_validate(clf, X_train1.loc[:,selected_features], y_train1, scoring=scoring, return_estimator=True, cv=10)\n",
    "allscores['random_forest'] = scores\n",
    "scores"
   ]
  },
  {
   "cell_type": "code",
   "execution_count": 125,
   "metadata": {
    "colab": {
     "base_uri": "https://localhost:8080/"
    },
    "executionInfo": {
     "elapsed": 8522,
     "status": "ok",
     "timestamp": 1652124978992,
     "user": {
      "displayName": "MIA BIAN",
      "userId": "12076802795410247755"
     },
     "user_tz": 240
    },
    "id": "bmkqxsw6Udmq",
    "outputId": "aab515fd-0f91-48aa-9ace-7188251c2039"
   },
   "outputs": [
    {
     "data": {
      "text/plain": [
       "{'fit_time': array([0.35371256, 0.31499147, 0.3298111 , 0.30575895, 0.2940197 ,\n",
       "        0.30902362, 0.2970202 , 0.29702091, 0.30202055, 0.28898644]),\n",
       " 'score_time': array([0.00900578, 0.00699949, 0.00600171, 0.00700259, 0.00699878,\n",
       "        0.00600338, 0.0059998 , 0.00700021, 0.00600481, 0.00599813]),\n",
       " 'estimator': (DecisionTreeClassifier(random_state=0),\n",
       "  DecisionTreeClassifier(random_state=0),\n",
       "  DecisionTreeClassifier(random_state=0),\n",
       "  DecisionTreeClassifier(random_state=0),\n",
       "  DecisionTreeClassifier(random_state=0),\n",
       "  DecisionTreeClassifier(random_state=0),\n",
       "  DecisionTreeClassifier(random_state=0),\n",
       "  DecisionTreeClassifier(random_state=0),\n",
       "  DecisionTreeClassifier(random_state=0),\n",
       "  DecisionTreeClassifier(random_state=0)),\n",
       " 'test_precision_macro': array([0.81002741, 0.80616372, 0.78587018, 0.78804632, 0.79017404,\n",
       "        0.80090692, 0.79632092, 0.79986145, 0.80449025, 0.81378284]),\n",
       " 'test_recall_macro': array([0.80356679, 0.80106096, 0.78159305, 0.78109253, 0.78104123,\n",
       "        0.7890395 , 0.79131714, 0.79383086, 0.79588748, 0.80700939]),\n",
       " 'test_accuracy': array([0.80389665, 0.80135536, 0.78187209, 0.78144854, 0.78144854,\n",
       "        0.78949598, 0.79161372, 0.79415502, 0.79627277, 0.80728505])}"
      ]
     },
     "execution_count": 125,
     "metadata": {},
     "output_type": "execute_result"
    }
   ],
   "source": [
    "from sklearn.model_selection import cross_val_score, cross_validate\n",
    "from sklearn.tree import DecisionTreeClassifier\n",
    "from sklearn.metrics import recall_score\n",
    "clf = DecisionTreeClassifier(random_state=0)\n",
    "# cross_val_score(clf, table, 'diabetes_mellitus', cv=10)\n",
    "scoring = ['precision_macro', 'recall_macro', 'accuracy']\n",
    "scores = cross_validate(clf, X_train1.loc[:,selected_features], y_train1, scoring=scoring, return_estimator=True, cv=10)\n",
    "allscores['decision_tree'] = scores\n",
    "scores"
   ]
  },
  {
   "cell_type": "code",
   "execution_count": 126,
   "metadata": {
    "colab": {
     "base_uri": "https://localhost:8080/"
    },
    "executionInfo": {
     "elapsed": 15221,
     "status": "ok",
     "timestamp": 1652124838214,
     "user": {
      "displayName": "MIA BIAN",
      "userId": "12076802795410247755"
     },
     "user_tz": 240
    },
    "id": "r0mybrbtS3z7",
    "outputId": "486e2849-f6e7-4b55-d54e-8d82a43024b6"
   },
   "outputs": [
    {
     "data": {
      "text/plain": [
       "{'fit_time': array([0.52445126, 0.51406121, 0.55204225, 0.5460372 , 0.56103659,\n",
       "        0.57103872, 0.55504036, 0.52503943, 0.51907492, 0.57144904]),\n",
       " 'score_time': array([0.0160048 , 0.01897764, 0.01600218, 0.0160079 , 0.01700592,\n",
       "        0.01900125, 0.01300144, 0.01300168, 0.01696539, 0.01500082]),\n",
       " 'estimator': (RandomForestClassifier(n_estimators=10, random_state=0),\n",
       "  RandomForestClassifier(n_estimators=10, random_state=0),\n",
       "  RandomForestClassifier(n_estimators=10, random_state=0),\n",
       "  RandomForestClassifier(n_estimators=10, random_state=0),\n",
       "  RandomForestClassifier(n_estimators=10, random_state=0),\n",
       "  RandomForestClassifier(n_estimators=10, random_state=0),\n",
       "  RandomForestClassifier(n_estimators=10, random_state=0),\n",
       "  RandomForestClassifier(n_estimators=10, random_state=0),\n",
       "  RandomForestClassifier(n_estimators=10, random_state=0),\n",
       "  RandomForestClassifier(n_estimators=10, random_state=0)),\n",
       " 'test_precision_macro': array([0.83594886, 0.84243867, 0.8284805 , 0.84359348, 0.83906202,\n",
       "        0.84754617, 0.85345607, 0.82932187, 0.84528989, 0.83486419]),\n",
       " 'test_recall_macro': array([0.83513114, 0.84243228, 0.8284805 , 0.84321625, 0.83854329,\n",
       "        0.84701446, 0.85344085, 0.8292921 , 0.84444943, 0.83386937]),\n",
       " 'test_accuracy': array([0.83523931, 0.84243964, 0.82846252, 0.84328674, 0.8386277 ,\n",
       "        0.84709869, 0.85345193, 0.82930961, 0.84455739, 0.83396866])}"
      ]
     },
     "execution_count": 126,
     "metadata": {},
     "output_type": "execute_result"
    }
   ],
   "source": [
    "from sklearn.model_selection import cross_val_score, cross_validate\n",
    "from sklearn.ensemble import RandomForestClassifier\n",
    "from sklearn.metrics import recall_score\n",
    "clf = RandomForestClassifier(n_estimators=10,random_state=0)\n",
    "# cross_val_score(clf, table, 'diabetes_mellitus', cv=10)\n",
    "scoring = ['precision_macro', 'recall_macro', 'accuracy']\n",
    "scores = cross_validate(clf, X_train1.loc[:,selected_features], y_train1, scoring=scoring, return_estimator=True, cv=10)\n",
    "allscores['random_forest'] = scores\n",
    "scores"
   ]
  },
  {
   "cell_type": "code",
   "execution_count": null,
   "metadata": {
    "id": "GWACkwxpiXek"
   },
   "outputs": [],
   "source": []
  },
  {
   "cell_type": "code",
   "execution_count": 127,
   "metadata": {
    "colab": {
     "base_uri": "https://localhost:8080/",
     "height": 431
    },
    "executionInfo": {
     "elapsed": 158,
     "status": "ok",
     "timestamp": 1652126922309,
     "user": {
      "displayName": "MIA BIAN",
      "userId": "12076802795410247755"
     },
     "user_tz": 240
    },
    "id": "t2B-UTOkcAkz",
    "outputId": "d2f22508-5af9-4860-e8ed-99344d42c698"
   },
   "outputs": [
    {
     "name": "stderr",
     "output_type": "stream",
     "text": [
      "<ipython-input-127-992511e4ee9b>:12: FutureWarning: In a future version of pandas all arguments of DataFrame.sort_index will be keyword-only\n",
      "  df.sort_index(1, 0, inplace=True)\n"
     ]
    },
    {
     "data": {
      "text/html": [
       "<div>\n",
       "<style scoped>\n",
       "    .dataframe tbody tr th:only-of-type {\n",
       "        vertical-align: middle;\n",
       "    }\n",
       "\n",
       "    .dataframe tbody tr th {\n",
       "        vertical-align: top;\n",
       "    }\n",
       "\n",
       "    .dataframe thead tr th {\n",
       "        text-align: left;\n",
       "    }\n",
       "</style>\n",
       "<table border=\"1\" class=\"dataframe\">\n",
       "  <thead>\n",
       "    <tr>\n",
       "      <th></th>\n",
       "      <th colspan=\"3\" halign=\"left\">test_accuracy</th>\n",
       "      <th colspan=\"3\" halign=\"left\">test_precision_macro</th>\n",
       "      <th colspan=\"3\" halign=\"left\">test_recall_macro</th>\n",
       "    </tr>\n",
       "    <tr>\n",
       "      <th></th>\n",
       "      <th>decision_tree</th>\n",
       "      <th>random_forest</th>\n",
       "      <th>svm</th>\n",
       "      <th>decision_tree</th>\n",
       "      <th>random_forest</th>\n",
       "      <th>svm</th>\n",
       "      <th>decision_tree</th>\n",
       "      <th>random_forest</th>\n",
       "      <th>svm</th>\n",
       "    </tr>\n",
       "  </thead>\n",
       "  <tbody>\n",
       "    <tr>\n",
       "      <th>0</th>\n",
       "      <td>0.803897</td>\n",
       "      <td>0.835239</td>\n",
       "      <td>0.744928</td>\n",
       "      <td>0.810027</td>\n",
       "      <td>0.835949</td>\n",
       "      <td>0.728032</td>\n",
       "      <td>0.803567</td>\n",
       "      <td>0.835131</td>\n",
       "      <td>0.634928</td>\n",
       "    </tr>\n",
       "    <tr>\n",
       "      <th>1</th>\n",
       "      <td>0.801355</td>\n",
       "      <td>0.842440</td>\n",
       "      <td>0.743188</td>\n",
       "      <td>0.806164</td>\n",
       "      <td>0.842439</td>\n",
       "      <td>0.726150</td>\n",
       "      <td>0.801061</td>\n",
       "      <td>0.842432</td>\n",
       "      <td>0.631689</td>\n",
       "    </tr>\n",
       "    <tr>\n",
       "      <th>2</th>\n",
       "      <td>0.781872</td>\n",
       "      <td>0.828463</td>\n",
       "      <td>0.739130</td>\n",
       "      <td>0.785870</td>\n",
       "      <td>0.828480</td>\n",
       "      <td>0.720786</td>\n",
       "      <td>0.781593</td>\n",
       "      <td>0.828480</td>\n",
       "      <td>0.624787</td>\n",
       "    </tr>\n",
       "    <tr>\n",
       "      <th>3</th>\n",
       "      <td>0.781449</td>\n",
       "      <td>0.843287</td>\n",
       "      <td>0.742029</td>\n",
       "      <td>0.788046</td>\n",
       "      <td>0.843593</td>\n",
       "      <td>0.725089</td>\n",
       "      <td>0.781093</td>\n",
       "      <td>0.843216</td>\n",
       "      <td>0.629366</td>\n",
       "    </tr>\n",
       "    <tr>\n",
       "      <th>4</th>\n",
       "      <td>0.781449</td>\n",
       "      <td>0.838628</td>\n",
       "      <td>0.735652</td>\n",
       "      <td>0.790174</td>\n",
       "      <td>0.839062</td>\n",
       "      <td>0.716157</td>\n",
       "      <td>0.781041</td>\n",
       "      <td>0.838543</td>\n",
       "      <td>0.617692</td>\n",
       "    </tr>\n",
       "    <tr>\n",
       "      <th>5</th>\n",
       "      <td>0.789496</td>\n",
       "      <td>0.847099</td>\n",
       "      <td>0.733333</td>\n",
       "      <td>0.800907</td>\n",
       "      <td>0.847546</td>\n",
       "      <td>0.701024</td>\n",
       "      <td>0.789040</td>\n",
       "      <td>0.847014</td>\n",
       "      <td>0.625377</td>\n",
       "    </tr>\n",
       "    <tr>\n",
       "      <th>6</th>\n",
       "      <td>0.791614</td>\n",
       "      <td>0.853452</td>\n",
       "      <td>0.747246</td>\n",
       "      <td>0.796321</td>\n",
       "      <td>0.853456</td>\n",
       "      <td>0.732734</td>\n",
       "      <td>0.791317</td>\n",
       "      <td>0.853441</td>\n",
       "      <td>0.636534</td>\n",
       "    </tr>\n",
       "    <tr>\n",
       "      <th>7</th>\n",
       "      <td>0.794155</td>\n",
       "      <td>0.829310</td>\n",
       "      <td>0.733179</td>\n",
       "      <td>0.799861</td>\n",
       "      <td>0.829322</td>\n",
       "      <td>0.704743</td>\n",
       "      <td>0.793831</td>\n",
       "      <td>0.829292</td>\n",
       "      <td>0.620902</td>\n",
       "    </tr>\n",
       "    <tr>\n",
       "      <th>8</th>\n",
       "      <td>0.796273</td>\n",
       "      <td>0.844557</td>\n",
       "      <td>0.736659</td>\n",
       "      <td>0.804490</td>\n",
       "      <td>0.845290</td>\n",
       "      <td>0.718535</td>\n",
       "      <td>0.795887</td>\n",
       "      <td>0.844449</td>\n",
       "      <td>0.619007</td>\n",
       "    </tr>\n",
       "    <tr>\n",
       "      <th>9</th>\n",
       "      <td>0.807285</td>\n",
       "      <td>0.833969</td>\n",
       "      <td>0.751740</td>\n",
       "      <td>0.813783</td>\n",
       "      <td>0.834864</td>\n",
       "      <td>0.742514</td>\n",
       "      <td>0.807009</td>\n",
       "      <td>0.833869</td>\n",
       "      <td>0.641380</td>\n",
       "    </tr>\n",
       "  </tbody>\n",
       "</table>\n",
       "</div>"
      ],
      "text/plain": [
       "  test_accuracy                         test_precision_macro                \\\n",
       "  decision_tree random_forest       svm        decision_tree random_forest   \n",
       "0      0.803897      0.835239  0.744928             0.810027      0.835949   \n",
       "1      0.801355      0.842440  0.743188             0.806164      0.842439   \n",
       "2      0.781872      0.828463  0.739130             0.785870      0.828480   \n",
       "3      0.781449      0.843287  0.742029             0.788046      0.843593   \n",
       "4      0.781449      0.838628  0.735652             0.790174      0.839062   \n",
       "5      0.789496      0.847099  0.733333             0.800907      0.847546   \n",
       "6      0.791614      0.853452  0.747246             0.796321      0.853456   \n",
       "7      0.794155      0.829310  0.733179             0.799861      0.829322   \n",
       "8      0.796273      0.844557  0.736659             0.804490      0.845290   \n",
       "9      0.807285      0.833969  0.751740             0.813783      0.834864   \n",
       "\n",
       "            test_recall_macro                          \n",
       "        svm     decision_tree random_forest       svm  \n",
       "0  0.728032          0.803567      0.835131  0.634928  \n",
       "1  0.726150          0.801061      0.842432  0.631689  \n",
       "2  0.720786          0.781593      0.828480  0.624787  \n",
       "3  0.725089          0.781093      0.843216  0.629366  \n",
       "4  0.716157          0.781041      0.838543  0.617692  \n",
       "5  0.701024          0.789040      0.847014  0.625377  \n",
       "6  0.732734          0.791317      0.853441  0.636534  \n",
       "7  0.704743          0.793831      0.829292  0.620902  \n",
       "8  0.718535          0.795887      0.844449  0.619007  \n",
       "9  0.742514          0.807009      0.833869  0.641380  "
      ]
     },
     "execution_count": 127,
     "metadata": {},
     "output_type": "execute_result"
    }
   ],
   "source": [
    "def plot_results(allscores):\n",
    "  res = {}\n",
    "  for m, scores in allscores.items():\n",
    "    for metric in ['test_accuracy', 'test_precision_macro', 'test_recall_macro']:\n",
    "      res[(m, metric)] = scores[metric]\n",
    "  df = pd.DataFrame(res)\n",
    "  value = df.mean(0)\n",
    "  std = df.std(0)\n",
    "  return df\n",
    "df = plot_results(allscores)\n",
    "df = df.swaplevel(0, 1, axis=1)\n",
    "df.sort_index(1, 0, inplace=True)\n",
    "df"
   ]
  },
  {
   "cell_type": "code",
   "execution_count": 128,
   "metadata": {
    "colab": {
     "base_uri": "https://localhost:8080/",
     "height": 956
    },
    "executionInfo": {
     "elapsed": 1171,
     "status": "ok",
     "timestamp": 1652126947490,
     "user": {
      "displayName": "MIA BIAN",
      "userId": "12076802795410247755"
     },
     "user_tz": 240
    },
    "id": "jOS_KsmRcAk6",
    "outputId": "c81c14c6-ce80-4a71-b84d-43512f3c0280"
   },
   "outputs": [
    {
     "data": {
      "image/png": "[encoded data removed]",
      "text/plain": [
       "<Figure size 432x288 with 1 Axes>"
      ]
     },
     "metadata": {
      "needs_background": "light"
     },
     "output_type": "display_data"
    },
    {
     "data": {
      "image/png": "[encoded data removed]",
      "text/plain": [
       "<Figure size 432x288 with 1 Axes>"
      ]
     },
     "metadata": {
      "needs_background": "light"
     },
     "output_type": "display_data"
    },
    {
     "data": {
      "image/png": "[encoded data removed]",
      "text/plain": [
       "<Figure size 432x288 with 1 Axes>"
      ]
     },
     "metadata": {
      "needs_background": "light"
     },
     "output_type": "display_data"
    }
   ],
   "source": [
    "#  sns.barplot(data=df)\n",
    "for metric in ['test_accuracy', 'test_precision_macro', 'test_recall_macro']:\n",
    "  plt.figure()\n",
    "  df[metric].boxplot()\n",
    "  plt.title(metric)\n",
    "  plt.xticks(rotation=45)"
   ]
  },
  {
   "cell_type": "markdown",
   "metadata": {
    "id": "qMFzZ4z-ibJF"
   },
   "source": [
    "There is no significant improvement with feature selection but the variance of models have reduced."
   ]
  },
  {
   "cell_type": "markdown",
   "metadata": {
    "id": "QHLeIws8h7Wg"
   },
   "source": [
    "Unsupervised learning with selected features"
   ]
  },
  {
   "cell_type": "code",
   "execution_count": 129,
   "metadata": {
    "executionInfo": {
     "elapsed": 3918,
     "status": "ok",
     "timestamp": 1652125195564,
     "user": {
      "displayName": "MIA BIAN",
      "userId": "12076802795410247755"
     },
     "user_tz": 240
    },
    "id": "URsDq9kMMTdj"
   },
   "outputs": [],
   "source": [
    "from sklearn.cluster import KMeans\n",
    "from sklearn.decomposition import PCA\n",
    "\n",
    "\n",
    "reduced_data = PCA(n_components=10).fit_transform(X_train1.loc[:, selected_features])\n",
    "kmeans = KMeans(n_clusters=2, random_state=0).fit(X_train1.loc[:, selected_features])"
   ]
  },
  {
   "cell_type": "code",
   "execution_count": 131,
   "metadata": {
    "colab": {
     "base_uri": "https://localhost:8080/",
     "height": 265
    },
    "executionInfo": {
     "elapsed": 2316,
     "status": "ok",
     "timestamp": 1652125281056,
     "user": {
      "displayName": "MIA BIAN",
      "userId": "12076802795410247755"
     },
     "user_tz": 240
    },
    "id": "kzMcBaByMfvr",
    "outputId": "7edaa588-0029-4398-a8bf-f686a25b8cc7"
   },
   "outputs": [
    {
     "data": {
      "image/png": "[encoded data removed]",
      "text/plain": [
       "<Figure size 432x288 with 1 Axes>"
      ]
     },
     "metadata": {
      "needs_background": "light"
     },
     "output_type": "display_data"
    }
   ],
   "source": [
    "\n",
    "fig = plt.figure()\n",
    "ax = fig.add_subplot(projection='3d')\n",
    "\n",
    "markers = ['o', '^']\n",
    "for c in [0, 1]:\n",
    "  ind = y_train1 == c\n",
    "  # plt.scatter(reduced_data[ind,0], reduced_data[ind,1], marker=markers[c], c=kmeans.predict(reduced_data[ind,:]))\n",
    "  ax.scatter(reduced_data[ind,0], reduced_data[ind,1], reduced_data[ind,2], marker=markers[c], c=kmeans.predict(X_train1.loc[ind, selected_features]))\n",
    "ax.set_zlim(-10, 20)\n",
    "plt.show()"
   ]
  },
  {
   "cell_type": "code",
   "execution_count": 132,
   "metadata": {
    "id": "CIzPw1BbWaQM"
   },
   "outputs": [
    {
     "name": "stdout",
     "output_type": "stream",
     "text": [
      "0.4708969912831568\n",
      "0.5281662931767251\n"
     ]
    }
   ],
   "source": [
    "print(y_train1[kmeans.predict(X_train1.loc[:, selected_features]) == 0].mean())\n",
    "print(y_train1[kmeans.predict(X_train1.loc[:, selected_features]) == 1].mean())"
   ]
  },
  {
   "cell_type": "code",
   "execution_count": 133,
   "metadata": {
    "colab": {
     "base_uri": "https://localhost:8080/"
    },
    "executionInfo": {
     "elapsed": 575300,
     "status": "ok",
     "timestamp": 1652125976159,
     "user": {
      "displayName": "MIA BIAN",
      "userId": "12076802795410247755"
     },
     "user_tz": 240
    },
    "id": "7eK3sxvgWA8e",
    "outputId": "6cdd1955-472a-4ceb-bc81-97e8278c5d52"
   },
   "outputs": [
    {
     "data": {
      "text/plain": [
       "array([[-55.191906 , -17.04429  ],\n",
       "       [-16.315931 ,  41.25413  ],\n",
       "       [ -5.516669 , -23.123938 ],\n",
       "       ...,\n",
       "       [  2.3214657, -62.587776 ],\n",
       "       [ 11.897721 ,  33.229805 ],\n",
       "       [-38.478283 ,  42.05145  ]], dtype=float32)"
      ]
     },
     "execution_count": 133,
     "metadata": {},
     "output_type": "execute_result"
    }
   ],
   "source": [
    "from sklearn.manifold import TSNE\n",
    "\n",
    "X_embedded = TSNE(n_components=2,init='random').fit_transform(X_train1.loc[:,selected_features])\n",
    "X_embedded"
   ]
  },
  {
   "cell_type": "code",
   "execution_count": 134,
   "metadata": {
    "colab": {
     "base_uri": "https://localhost:8080/",
     "height": 265
    },
    "executionInfo": {
     "elapsed": 665,
     "status": "ok",
     "timestamp": 1652126009093,
     "user": {
      "displayName": "MIA BIAN",
      "userId": "12076802795410247755"
     },
     "user_tz": 240
    },
    "id": "RopwYIqzWA8j",
    "outputId": "ad3758bb-9ee7-422c-9eb4-0a07089c9633"
   },
   "outputs": [
    {
     "data": {
      "image/png": "[encoded data removed]",
      "text/plain": [
       "<Figure size 432x288 with 1 Axes>"
      ]
     },
     "metadata": {
      "needs_background": "light"
     },
     "output_type": "display_data"
    }
   ],
   "source": [
    "\n",
    "# fig = plt.figure()\n",
    "# ax = fig.add_subplot(projection='3d')\n",
    "\n",
    "markers = ['o', '^']\n",
    "for c in [0, 1]:\n",
    "  ind = y_train1 == c\n",
    "  # plt.scatter(reduced_data[ind,0], reduced_data[ind,1], marker=markers[c], c=kmeans.predict(reduced_data[ind,:]))\n",
    "  # ax.scatter(reduced_data[ind,0], reduced_data[ind,1], reduced_data[ind,2], marker=markers[c], c=TSNE.predict(X_train[ind,:]))\n",
    "  plt.scatter(X_embedded[ind,0], X_embedded[ind,1], marker=markers[c])\n",
    "# ax.set_zlim(-10, 20)"
   ]
  },
  {
   "cell_type": "markdown",
   "metadata": {
    "id": "BqokYjZAizjA"
   },
   "source": [
    "There is still no relation between the clusters and the target label."
   ]
  },
  {
   "cell_type": "code",
   "execution_count": 135,
   "metadata": {
    "id": "p_ODgxVzYkLM"
   },
   "outputs": [
    {
     "data": {
      "text/plain": [
       "(-10.0, 20.0)"
      ]
     },
     "execution_count": 135,
     "metadata": {},
     "output_type": "execute_result"
    },
    {
     "data": {
      "image/png": "[encoded data removed]",
      "text/plain": [
       "<Figure size 432x288 with 1 Axes>"
      ]
     },
     "metadata": {
      "needs_background": "light"
     },
     "output_type": "display_data"
    }
   ],
   "source": [
    "fig = plt.figure()\n",
    "ax = fig.add_subplot(projection='3d')\n",
    "\n",
    "markers = ['o', '^']\n",
    "for c in [0, 1]:\n",
    "  ind = y_train1 == c\n",
    "  # plt.scatter(reduced_data[ind,0], reduced_data[ind,1], marker=markers[c], c=kmeans.predict(reduced_data[ind,:]))\n",
    "#   ax.scatter(reduced_data[ind,0], reduced_data[ind,1], reduced_data[ind,2], marker=markers[c], c=TSNE.predict(X_train[ind,:]))\n",
    "  ax.scatter(X_embedded[ind,0], X_embedded[ind,1], marker=markers[c])\n",
    "ax.set_zlim(-10, 20)"
   ]
  },
  {
   "cell_type": "code",
   "execution_count": 136,
   "metadata": {
    "id": "EITEQMUlcJLH"
   },
   "outputs": [
    {
     "data": {
      "image/png": "[encoded data removed]",
      "text/plain": [
       "<Figure size 432x288 with 1 Axes>"
      ]
     },
     "metadata": {
      "needs_background": "light"
     },
     "output_type": "display_data"
    }
   ],
   "source": [
    "data2 = X_train1.loc[:, selected_features]\n",
    "# KMEANS 2\n",
    "kmeans2 = KMeans(n_clusters=2)\n",
    "kmeans2.fit(data2)\n",
    "labels2 = kmeans2.predict(data2)\n",
    "\n",
    "fig = plt.figure()\n",
    "ax = fig.add_subplot(projection='3d')\n",
    "\n",
    "# visualization\n",
    "markers = ['o', '^']\n",
    "for i in [0, 1]:\n",
    "    ind = y_train1 == i\n",
    "    ax.scatter(reduced_data[ind,0], reduced_data[ind,1], reduced_data[ind,2],c=kmeans.predict(X_train1.loc[ind, selected_features]))\n",
    "\n",
    "  # plt.scatter(reduced_data[ind,0], reduced_data[ind,1], marker=markers[c], c=kmeans.predict(reduced_data[ind,:]))\n",
    "#   ax.scatter(reduced_data[ind,0], reduced_data[ind,1],reduced_data[ind,2], c=labels2)\n",
    "ax.set_zlim(-10, 20)\n",
    "plt.legend([0,1])\n",
    "plt.show()"
   ]
  },
  {
   "cell_type": "code",
   "execution_count": 159,
   "metadata": {},
   "outputs": [],
   "source": [
    "y = y_train1.values # Predict class matrix\n",
    "labels=kmeans2.labels_"
   ]
  },
  {
   "cell_type": "code",
   "execution_count": 160,
   "metadata": {},
   "outputs": [
    {
     "name": "stdout",
     "output_type": "stream",
     "text": [
      "The purity score is 53.94%\n"
     ]
    }
   ],
   "source": [
    "from sklearn.metrics.cluster import contingency_matrix\n",
    "def purity_score(y_true, y_pred):\n",
    "    # compute contingency matrix (also called confusion matrix)\n",
    "    confusion_matrix = contingency_matrix(y_true, y_pred)\n",
    "    # return purity\n",
    "    return np.sum(np.amax(confusion_matrix, axis=0)) / np.sum(confusion_matrix)\n",
    "\n",
    "# Report Purity Score\n",
    "purity = purity_score(y, labels)\n",
    "print(f\"The purity score is {round(purity*100, 2)}%\")"
   ]
  },
  {
   "cell_type": "markdown",
   "metadata": {},
   "source": [
    "Elbow Model"
   ]
  },
  {
   "cell_type": "code",
   "execution_count": 145,
   "metadata": {},
   "outputs": [],
   "source": [
    "#Building the Model\n",
    "#KMeans Algorithm to decide the optimum cluster number , KMeans++ using Elbow Mmethod\n",
    "#to figure out K for KMeans, I will use ELBOW Method on KMEANS++ Calculation\n",
    "from sklearn.cluster import KMeans\n",
    "wcss=[]\n",
    "\n",
    "#we always assume the max number of cluster would be 10\n",
    "#you can judge the number of clusters by doing averaging\n",
    "###Static code to get max no of clusters\n",
    "X=X_train1.loc[:,selected_features].values\n",
    "for i in range(1,11):\n",
    "    kmeans = KMeans(n_clusters= i, init='k-means++', random_state=0)\n",
    "    kmeans.fit(X)\n",
    "    wcss.append(kmeans.inertia_)\n"
   ]
  },
  {
   "cell_type": "code",
   "execution_count": 146,
   "metadata": {},
   "outputs": [
    {
     "data": {
      "image/png": "[encoded data removed]",
      "text/plain": [
       "<Figure size 432x288 with 1 Axes>"
      ]
     },
     "metadata": {
      "needs_background": "light"
     },
     "output_type": "display_data"
    }
   ],
   "source": [
    "#Visualizing the ELBOW method to get the optimal value of K \n",
    "plt.plot(range(1,11), wcss)\n",
    "plt.title('The Elbow Method')\n",
    "plt.xlabel('no of clusters')\n",
    "plt.ylabel('wcss')\n",
    "plt.show()"
   ]
  },
  {
   "cell_type": "code",
   "execution_count": 147,
   "metadata": {},
   "outputs": [],
   "source": [
    "#If you zoom out this curve then you will see that last elbow comes at k=5\n",
    "##so k=5\n",
    "\n",
    "#Model Build\n",
    "kmeansmodel = KMeans(n_clusters= 5, init='k-means++', random_state=0)\n",
    "y_kmeans= kmeansmodel.fit_predict(X)\n"
   ]
  },
  {
   "cell_type": "code",
   "execution_count": 148,
   "metadata": {},
   "outputs": [
    {
     "data": {
      "text/plain": [
       "array([[ 1.32844913, -0.3344041 ,  0.05340004, ...,  1.        ,\n",
       "         0.        ,  1.        ],\n",
       "       [-0.71521157, -0.33663309,  0.05340004, ...,  1.        ,\n",
       "         0.        ,  1.        ],\n",
       "       [ 1.51423647, -0.07221656,  0.9390202 , ...,  0.        ,\n",
       "         0.        ,  1.        ],\n",
       "       ...,\n",
       "       [ 0.151796  ,  0.98085257,  0.05340004, ...,  0.        ,\n",
       "         0.        ,  1.        ],\n",
       "       [-0.8390698 , -1.19524418,  0.9390202 , ...,  0.        ,\n",
       "         0.        ,  1.        ],\n",
       "       [ 0.46144156, -1.38782591, -0.38941004, ...,  0.        ,\n",
       "         0.        ,  1.        ]])"
      ]
     },
     "execution_count": 148,
     "metadata": {},
     "output_type": "execute_result"
    }
   ],
   "source": [
    "X"
   ]
  },
  {
   "cell_type": "code",
   "execution_count": 149,
   "metadata": {
    "scrolled": true
   },
   "outputs": [
    {
     "data": {
      "image/png": "[encoded data removed]",
      "text/plain": [
       "<Figure size 432x288 with 1 Axes>"
      ]
     },
     "metadata": {
      "needs_background": "light"
     },
     "output_type": "display_data"
    }
   ],
   "source": [
    "#Visualizing all the clusters \n",
    "\n",
    "plt.scatter(X[y_kmeans == 0, 0], X[y_kmeans == 0, 1], s = 100, c = 'red', label = 'Cluster 1')\n",
    "plt.scatter(X[y_kmeans == 1, 0], X[y_kmeans == 1, 1], s = 100, c = 'blue', label = 'Cluster 2')\n",
    "plt.scatter(kmeans.cluster_centers_[:, 0], kmeans.cluster_centers_[:, 1], s = 300, c = 'yellow', label = 'Centroids')\n",
    "plt.legend()\n",
    "plt.show()"
   ]
  },
  {
   "cell_type": "markdown",
   "metadata": {},
   "source": [
    "Purity Score:\n",
    "\n",
    "Purity score is computed using Ground Truth or External accessment. Since, the dataset consists of a true class label, the accuracy of the cluster label computed using KMeans is compared against the true label class."
   ]
  },
  {
   "cell_type": "code",
   "execution_count": 162,
   "metadata": {},
   "outputs": [],
   "source": [
    "y = y_train1.values # Predict class matrix\n",
    "labels=kmeansmodel.labels_"
   ]
  },
  {
   "cell_type": "code",
   "execution_count": 163,
   "metadata": {},
   "outputs": [
    {
     "name": "stdout",
     "output_type": "stream",
     "text": [
      "The purity score is 59.95%\n"
     ]
    }
   ],
   "source": [
    "# from sklearn.metrics.cluster import contingency_matrix\n",
    "# def purity_score(y_true, y_pred):\n",
    "#     # compute contingency matrix (also called confusion matrix)\n",
    "#     confusion_matrix = contingency_matrix(y_true, y_pred)\n",
    "#     # return purity\n",
    "#     return np.sum(np.amax(confusion_matrix, axis=0)) / np.sum(confusion_matrix)\n",
    "\n",
    "# Report Purity Score\n",
    "purity = purity_score(y, labels)\n",
    "print(f\"The purity score is {round(purity*100, 2)}%\")"
   ]
  },
  {
   "cell_type": "code",
   "execution_count": 167,
   "metadata": {},
   "outputs": [
    {
     "data": {
      "text/plain": [
       "0.07309903956726684"
      ]
     },
     "execution_count": 167,
     "metadata": {},
     "output_type": "execute_result"
    }
   ],
   "source": [
    "from sklearn import metrics\n",
    "metrics.silhouette_score(X, labels, metric='euclidean')"
   ]
  },
  {
   "cell_type": "code",
   "execution_count": 169,
   "metadata": {},
   "outputs": [
    {
     "data": {
      "text/plain": [
       "0.01997890840567275"
      ]
     },
     "execution_count": 169,
     "metadata": {},
     "output_type": "execute_result"
    }
   ],
   "source": [
    "metrics.adjusted_rand_score(y, labels)"
   ]
  },
  {
   "cell_type": "code",
   "execution_count": 171,
   "metadata": {},
   "outputs": [
    {
     "data": {
      "text/plain": [
       "0.02283481602063014"
      ]
     },
     "execution_count": 171,
     "metadata": {},
     "output_type": "execute_result"
    }
   ],
   "source": [
    "metrics.adjusted_mutual_info_score(y, labels)"
   ]
  },
  {
   "cell_type": "code",
   "execution_count": 172,
   "metadata": {},
   "outputs": [
    {
     "data": {
      "text/plain": [
       "0.03724789206939153"
      ]
     },
     "execution_count": 172,
     "metadata": {},
     "output_type": "execute_result"
    }
   ],
   "source": [
    "metrics.homogeneity_score(y, labels)"
   ]
  }
 ],
 "metadata": {
  "colab": {
   "authorship_tag": "ABX9TyMzahPq/d8Wf/x+Muiezfws",
   "name": "Diabetes Prediction.ipynb",
   "provenance": []
  },
  "kernelspec": {
   "display_name": "Python 3",
   "language": "python",
   "name": "python3"
  },
  "language_info": {
   "codemirror_mode": {
    "name": "ipython",
    "version": 3
   },
   "file_extension": ".py",
   "mimetype": "text/x-python",
   "name": "python",
   "nbconvert_exporter": "python",
   "pygments_lexer": "ipython3",
   "version": "3.8.3"
  }
 },
 "nbformat": 4,
 "nbformat_minor": 1
}
